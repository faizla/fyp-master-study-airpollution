{
 "cells": [
  {
   "cell_type": "code",
   "execution_count": 2,
   "id": "021150d4",
   "metadata": {},
   "outputs": [],
   "source": [
    "import pandas as pd\n",
    "import numpy as np\n",
    "import matplotlib.pyplot as plt\n",
    "import seaborn as sns\n",
    "\n",
    "import tensorflow as tf\n",
    "from sklearn.preprocessing import StandardScaler, MinMaxScaler\n",
    "from tensorflow.keras.models import Sequential\n",
    "from tensorflow.keras.layers import LSTM\n",
    "from tensorflow.keras.layers import Dense, Dropout\n",
    "\n",
    "import math\n",
    "from sklearn.metrics import mean_squared_error\n",
    "from sklearn.metrics import mean_absolute_error\n",
    "from sklearn.metrics import mean_absolute_percentage_error"
   ]
  },
  {
   "cell_type": "code",
   "execution_count": 3,
   "id": "beb2fad2",
   "metadata": {},
   "outputs": [],
   "source": [
    "import random\n",
    "seed=1000\n",
    "random.seed(seed)\n",
    "np.random.seed(seed)\n",
    "tf.random.set_seed(seed)"
   ]
  },
  {
   "cell_type": "code",
   "execution_count": 4,
   "id": "87bb9d01",
   "metadata": {
    "scrolled": true
   },
   "outputs": [
    {
     "data": {
      "text/html": [
       "<div>\n",
       "<style scoped>\n",
       "    .dataframe tbody tr th:only-of-type {\n",
       "        vertical-align: middle;\n",
       "    }\n",
       "\n",
       "    .dataframe tbody tr th {\n",
       "        vertical-align: top;\n",
       "    }\n",
       "\n",
       "    .dataframe thead th {\n",
       "        text-align: right;\n",
       "    }\n",
       "</style>\n",
       "<table border=\"1\" class=\"dataframe\">\n",
       "  <thead>\n",
       "    <tr style=\"text-align: right;\">\n",
       "      <th></th>\n",
       "      <th>wind_speed</th>\n",
       "      <th>wind_direction</th>\n",
       "      <th>temperature</th>\n",
       "      <th>relative_humidity</th>\n",
       "      <th>nox</th>\n",
       "      <th>no</th>\n",
       "      <th>so2</th>\n",
       "      <th>no2</th>\n",
       "      <th>o3</th>\n",
       "      <th>co</th>\n",
       "      <th>pm10</th>\n",
       "    </tr>\n",
       "    <tr>\n",
       "      <th>date</th>\n",
       "      <th></th>\n",
       "      <th></th>\n",
       "      <th></th>\n",
       "      <th></th>\n",
       "      <th></th>\n",
       "      <th></th>\n",
       "      <th></th>\n",
       "      <th></th>\n",
       "      <th></th>\n",
       "      <th></th>\n",
       "      <th></th>\n",
       "    </tr>\n",
       "  </thead>\n",
       "  <tbody>\n",
       "    <tr>\n",
       "      <th>2002-10-01</th>\n",
       "      <td>4.2125</td>\n",
       "      <td>170.1875</td>\n",
       "      <td>27.3729</td>\n",
       "      <td>72.7500</td>\n",
       "      <td>0.0751</td>\n",
       "      <td>0.0409</td>\n",
       "      <td>0.0097</td>\n",
       "      <td>0.0342</td>\n",
       "      <td>0.0241</td>\n",
       "      <td>2.3044</td>\n",
       "      <td>108.6875</td>\n",
       "    </tr>\n",
       "    <tr>\n",
       "      <th>2002-10-02</th>\n",
       "      <td>4.9542</td>\n",
       "      <td>111.8750</td>\n",
       "      <td>27.4375</td>\n",
       "      <td>72.8333</td>\n",
       "      <td>0.0601</td>\n",
       "      <td>0.0247</td>\n",
       "      <td>0.0077</td>\n",
       "      <td>0.0354</td>\n",
       "      <td>0.0203</td>\n",
       "      <td>1.7673</td>\n",
       "      <td>108.3333</td>\n",
       "    </tr>\n",
       "    <tr>\n",
       "      <th>2002-10-03</th>\n",
       "      <td>5.0542</td>\n",
       "      <td>123.2083</td>\n",
       "      <td>26.8250</td>\n",
       "      <td>77.0833</td>\n",
       "      <td>0.0610</td>\n",
       "      <td>0.0261</td>\n",
       "      <td>0.0119</td>\n",
       "      <td>0.0349</td>\n",
       "      <td>0.0191</td>\n",
       "      <td>1.7481</td>\n",
       "      <td>99.9583</td>\n",
       "    </tr>\n",
       "    <tr>\n",
       "      <th>2002-10-04</th>\n",
       "      <td>3.6958</td>\n",
       "      <td>134.3750</td>\n",
       "      <td>26.4875</td>\n",
       "      <td>79.2500</td>\n",
       "      <td>0.0871</td>\n",
       "      <td>0.0506</td>\n",
       "      <td>0.0121</td>\n",
       "      <td>0.0366</td>\n",
       "      <td>0.0191</td>\n",
       "      <td>2.4892</td>\n",
       "      <td>116.6250</td>\n",
       "    </tr>\n",
       "    <tr>\n",
       "      <th>2002-10-05</th>\n",
       "      <td>4.4708</td>\n",
       "      <td>188.9167</td>\n",
       "      <td>26.4750</td>\n",
       "      <td>80.3333</td>\n",
       "      <td>0.0539</td>\n",
       "      <td>0.0305</td>\n",
       "      <td>0.0072</td>\n",
       "      <td>0.0234</td>\n",
       "      <td>0.0165</td>\n",
       "      <td>1.7731</td>\n",
       "      <td>94.9583</td>\n",
       "    </tr>\n",
       "    <tr>\n",
       "      <th>2002-10-06</th>\n",
       "      <td>4.3167</td>\n",
       "      <td>142.6667</td>\n",
       "      <td>26.0750</td>\n",
       "      <td>82.4167</td>\n",
       "      <td>0.0471</td>\n",
       "      <td>0.0229</td>\n",
       "      <td>0.0074</td>\n",
       "      <td>0.0242</td>\n",
       "      <td>0.0202</td>\n",
       "      <td>1.5633</td>\n",
       "      <td>83.7083</td>\n",
       "    </tr>\n",
       "    <tr>\n",
       "      <th>2002-10-07</th>\n",
       "      <td>3.9583</td>\n",
       "      <td>177.5000</td>\n",
       "      <td>25.4000</td>\n",
       "      <td>84.0625</td>\n",
       "      <td>0.0737</td>\n",
       "      <td>0.0487</td>\n",
       "      <td>0.0089</td>\n",
       "      <td>0.0250</td>\n",
       "      <td>0.0120</td>\n",
       "      <td>1.9575</td>\n",
       "      <td>75.5625</td>\n",
       "    </tr>\n",
       "    <tr>\n",
       "      <th>2002-10-08</th>\n",
       "      <td>5.4917</td>\n",
       "      <td>137.3750</td>\n",
       "      <td>27.5083</td>\n",
       "      <td>76.7500</td>\n",
       "      <td>0.0258</td>\n",
       "      <td>0.0105</td>\n",
       "      <td>0.0071</td>\n",
       "      <td>0.0154</td>\n",
       "      <td>0.0188</td>\n",
       "      <td>0.9352</td>\n",
       "      <td>53.6458</td>\n",
       "    </tr>\n",
       "    <tr>\n",
       "      <th>2002-10-09</th>\n",
       "      <td>5.1500</td>\n",
       "      <td>164.2083</td>\n",
       "      <td>27.8250</td>\n",
       "      <td>74.8333</td>\n",
       "      <td>0.0326</td>\n",
       "      <td>0.0149</td>\n",
       "      <td>0.0090</td>\n",
       "      <td>0.0177</td>\n",
       "      <td>0.0311</td>\n",
       "      <td>1.0512</td>\n",
       "      <td>70.3958</td>\n",
       "    </tr>\n",
       "    <tr>\n",
       "      <th>2002-10-10</th>\n",
       "      <td>6.2437</td>\n",
       "      <td>98.0833</td>\n",
       "      <td>26.2292</td>\n",
       "      <td>81.7917</td>\n",
       "      <td>0.0726</td>\n",
       "      <td>0.0349</td>\n",
       "      <td>0.0106</td>\n",
       "      <td>0.0378</td>\n",
       "      <td>0.0239</td>\n",
       "      <td>1.9102</td>\n",
       "      <td>97.0000</td>\n",
       "    </tr>\n",
       "  </tbody>\n",
       "</table>\n",
       "</div>"
      ],
      "text/plain": [
       "            wind_speed  wind_direction  temperature  relative_humidity  \\\n",
       "date                                                                     \n",
       "2002-10-01      4.2125        170.1875      27.3729            72.7500   \n",
       "2002-10-02      4.9542        111.8750      27.4375            72.8333   \n",
       "2002-10-03      5.0542        123.2083      26.8250            77.0833   \n",
       "2002-10-04      3.6958        134.3750      26.4875            79.2500   \n",
       "2002-10-05      4.4708        188.9167      26.4750            80.3333   \n",
       "2002-10-06      4.3167        142.6667      26.0750            82.4167   \n",
       "2002-10-07      3.9583        177.5000      25.4000            84.0625   \n",
       "2002-10-08      5.4917        137.3750      27.5083            76.7500   \n",
       "2002-10-09      5.1500        164.2083      27.8250            74.8333   \n",
       "2002-10-10      6.2437         98.0833      26.2292            81.7917   \n",
       "\n",
       "               nox      no     so2     no2      o3      co      pm10  \n",
       "date                                                                  \n",
       "2002-10-01  0.0751  0.0409  0.0097  0.0342  0.0241  2.3044  108.6875  \n",
       "2002-10-02  0.0601  0.0247  0.0077  0.0354  0.0203  1.7673  108.3333  \n",
       "2002-10-03  0.0610  0.0261  0.0119  0.0349  0.0191  1.7481   99.9583  \n",
       "2002-10-04  0.0871  0.0506  0.0121  0.0366  0.0191  2.4892  116.6250  \n",
       "2002-10-05  0.0539  0.0305  0.0072  0.0234  0.0165  1.7731   94.9583  \n",
       "2002-10-06  0.0471  0.0229  0.0074  0.0242  0.0202  1.5633   83.7083  \n",
       "2002-10-07  0.0737  0.0487  0.0089  0.0250  0.0120  1.9575   75.5625  \n",
       "2002-10-08  0.0258  0.0105  0.0071  0.0154  0.0188  0.9352   53.6458  \n",
       "2002-10-09  0.0326  0.0149  0.0090  0.0177  0.0311  1.0512   70.3958  \n",
       "2002-10-10  0.0726  0.0349  0.0106  0.0378  0.0239  1.9102   97.0000  "
      ]
     },
     "execution_count": 4,
     "metadata": {},
     "output_type": "execute_result"
    }
   ],
   "source": [
    "#read csv, print 5 rows\n",
    "klangapi = pd.read_csv('klangapiCleanedDailyBaru.csv')\n",
    "\n",
    "#change data type \"date\" from object to actual date for easy analysis\n",
    "klangapi['date']=pd.to_datetime(klangapi['date'])\n",
    "#set index to date\n",
    "klangapi.set_index('date',inplace=True)\n",
    "\n",
    "klangapi.head(10)"
   ]
  },
  {
   "cell_type": "code",
   "execution_count": 196,
   "id": "5638e29b",
   "metadata": {},
   "outputs": [
    {
     "name": "stdout",
     "output_type": "stream",
     "text": [
      "6039 366 6405\n"
     ]
    }
   ],
   "source": [
    "trainTest=klangapi.loc['2002-10-01':'2019-12-31'].copy() #2002-2017/3/31\n",
    "verifyDeploy=klangapi.loc['2020-01-01':'2020-12-31'].copy() #2018\n",
    "jumlahTrainNTest=trainTest.shape[0]\n",
    "jumlahVerification=verifyDeploy.shape[0]\n",
    "print(jumlahTrainNTest,jumlahVerification,jumlahTrainNTest+jumlahVerification)"
   ]
  },
  {
   "cell_type": "code",
   "execution_count": 197,
   "id": "73ad2720",
   "metadata": {},
   "outputs": [
    {
     "data": {
      "text/plain": [
       "((6039, 11), (366, 11))"
      ]
     },
     "execution_count": 197,
     "metadata": {},
     "output_type": "execute_result"
    }
   ],
   "source": [
    "# LSTM uses sigmoid and tanh that are sensitive to magnitude so values need to be normalized\n",
    "# scaler = StandardScaler()\n",
    "# scaler = scaler.fit(klangapi)\n",
    "scaler = MinMaxScaler(feature_range=(0, 1))\n",
    "scaler = scaler.fit(klangapi)\n",
    "trainTestScaled = scaler.transform(trainTest)\n",
    "verifyDeployScaled = scaler.transform(verifyDeploy)\n",
    "trainTestScaled.shape,verifyDeployScaled.shape"
   ]
  },
  {
   "cell_type": "markdown",
   "id": "2811bd3b",
   "metadata": {},
   "source": [
    "## THIS SEGMENT IS TO CHECK THE DATA"
   ]
  },
  {
   "cell_type": "code",
   "execution_count": 198,
   "id": "a4a21001",
   "metadata": {},
   "outputs": [
    {
     "data": {
      "text/html": [
       "<div>\n",
       "<style scoped>\n",
       "    .dataframe tbody tr th:only-of-type {\n",
       "        vertical-align: middle;\n",
       "    }\n",
       "\n",
       "    .dataframe tbody tr th {\n",
       "        vertical-align: top;\n",
       "    }\n",
       "\n",
       "    .dataframe thead th {\n",
       "        text-align: right;\n",
       "    }\n",
       "</style>\n",
       "<table border=\"1\" class=\"dataframe\">\n",
       "  <thead>\n",
       "    <tr style=\"text-align: right;\">\n",
       "      <th></th>\n",
       "      <th>wind_speed</th>\n",
       "      <th>wind_direction</th>\n",
       "      <th>temperature</th>\n",
       "      <th>relative_humidity</th>\n",
       "      <th>nox</th>\n",
       "      <th>no</th>\n",
       "      <th>so2</th>\n",
       "      <th>no2</th>\n",
       "      <th>o3</th>\n",
       "      <th>co</th>\n",
       "      <th>pm10</th>\n",
       "    </tr>\n",
       "    <tr>\n",
       "      <th>date</th>\n",
       "      <th></th>\n",
       "      <th></th>\n",
       "      <th></th>\n",
       "      <th></th>\n",
       "      <th></th>\n",
       "      <th></th>\n",
       "      <th></th>\n",
       "      <th></th>\n",
       "      <th></th>\n",
       "      <th></th>\n",
       "      <th></th>\n",
       "    </tr>\n",
       "  </thead>\n",
       "  <tbody>\n",
       "    <tr>\n",
       "      <th>2019-12-31</th>\n",
       "      <td>0.9178</td>\n",
       "      <td>117.25</td>\n",
       "      <td>27.3971</td>\n",
       "      <td>84.5361</td>\n",
       "      <td>0.0358</td>\n",
       "      <td>0.0157</td>\n",
       "      <td>0.0007</td>\n",
       "      <td>0.0202</td>\n",
       "      <td>0.0154</td>\n",
       "      <td>1.3941</td>\n",
       "      <td>52.8893</td>\n",
       "    </tr>\n",
       "  </tbody>\n",
       "</table>\n",
       "</div>"
      ],
      "text/plain": [
       "            wind_speed  wind_direction  temperature  relative_humidity  \\\n",
       "date                                                                     \n",
       "2019-12-31      0.9178          117.25      27.3971            84.5361   \n",
       "\n",
       "               nox      no     so2     no2      o3      co     pm10  \n",
       "date                                                                 \n",
       "2019-12-31  0.0358  0.0157  0.0007  0.0202  0.0154  1.3941  52.8893  "
      ]
     },
     "execution_count": 198,
     "metadata": {},
     "output_type": "execute_result"
    }
   ],
   "source": [
    "trainTest.iloc[[-1]]"
   ]
  },
  {
   "cell_type": "code",
   "execution_count": 199,
   "id": "ab17abcd",
   "metadata": {},
   "outputs": [
    {
     "data": {
      "text/plain": [
       "52.8893"
      ]
     },
     "execution_count": 199,
     "metadata": {},
     "output_type": "execute_result"
    }
   ],
   "source": [
    "scaler.inverse_transform(trainTestScaled[[-1]])[0][10]\n"
   ]
  },
  {
   "cell_type": "code",
   "execution_count": 200,
   "id": "89dbf802",
   "metadata": {
    "scrolled": true
   },
   "outputs": [
    {
     "data": {
      "text/html": [
       "<div>\n",
       "<style scoped>\n",
       "    .dataframe tbody tr th:only-of-type {\n",
       "        vertical-align: middle;\n",
       "    }\n",
       "\n",
       "    .dataframe tbody tr th {\n",
       "        vertical-align: top;\n",
       "    }\n",
       "\n",
       "    .dataframe thead th {\n",
       "        text-align: right;\n",
       "    }\n",
       "</style>\n",
       "<table border=\"1\" class=\"dataframe\">\n",
       "  <thead>\n",
       "    <tr style=\"text-align: right;\">\n",
       "      <th></th>\n",
       "      <th>wind_speed</th>\n",
       "      <th>wind_direction</th>\n",
       "      <th>temperature</th>\n",
       "      <th>relative_humidity</th>\n",
       "      <th>nox</th>\n",
       "      <th>no</th>\n",
       "      <th>so2</th>\n",
       "      <th>no2</th>\n",
       "      <th>o3</th>\n",
       "      <th>co</th>\n",
       "      <th>pm10</th>\n",
       "    </tr>\n",
       "    <tr>\n",
       "      <th>date</th>\n",
       "      <th></th>\n",
       "      <th></th>\n",
       "      <th></th>\n",
       "      <th></th>\n",
       "      <th></th>\n",
       "      <th></th>\n",
       "      <th></th>\n",
       "      <th></th>\n",
       "      <th></th>\n",
       "      <th></th>\n",
       "      <th></th>\n",
       "    </tr>\n",
       "  </thead>\n",
       "  <tbody>\n",
       "    <tr>\n",
       "      <th>2020-01-01</th>\n",
       "      <td>1.1107</td>\n",
       "      <td>164.5</td>\n",
       "      <td>28.3942</td>\n",
       "      <td>75.1008</td>\n",
       "      <td>0.0348</td>\n",
       "      <td>0.0204</td>\n",
       "      <td>0.0008</td>\n",
       "      <td>0.0143</td>\n",
       "      <td>0.015</td>\n",
       "      <td>1.4294</td>\n",
       "      <td>46.0017</td>\n",
       "    </tr>\n",
       "  </tbody>\n",
       "</table>\n",
       "</div>"
      ],
      "text/plain": [
       "            wind_speed  wind_direction  temperature  relative_humidity  \\\n",
       "date                                                                     \n",
       "2020-01-01      1.1107           164.5      28.3942            75.1008   \n",
       "\n",
       "               nox      no     so2     no2     o3      co     pm10  \n",
       "date                                                                \n",
       "2020-01-01  0.0348  0.0204  0.0008  0.0143  0.015  1.4294  46.0017  "
      ]
     },
     "execution_count": 200,
     "metadata": {},
     "output_type": "execute_result"
    }
   ],
   "source": [
    "verifyDeploy.iloc[[0]]"
   ]
  },
  {
   "cell_type": "code",
   "execution_count": 201,
   "id": "95119d0a",
   "metadata": {
    "scrolled": false
   },
   "outputs": [
    {
     "data": {
      "text/plain": [
       "46.0017"
      ]
     },
     "execution_count": 201,
     "metadata": {},
     "output_type": "execute_result"
    }
   ],
   "source": [
    "scaler.inverse_transform(verifyDeployScaled[[0]])[0][10]"
   ]
  },
  {
   "cell_type": "code",
   "execution_count": 202,
   "id": "0ae5aa53",
   "metadata": {},
   "outputs": [
    {
     "data": {
      "text/plain": [
       "((4831, 11), (1208, 11))"
      ]
     },
     "execution_count": 202,
     "metadata": {},
     "output_type": "execute_result"
    }
   ],
   "source": [
    "##splitting dataset into train and test split\n",
    "training_size=int(len(trainTestScaled)*0.80)\n",
    "test_size=len(trainTestScaled)-training_size\n",
    "train,test=trainTestScaled[0:training_size,:],trainTestScaled[training_size:len(trainTestScaled),:]\n",
    "train.shape,test.shape"
   ]
  },
  {
   "cell_type": "markdown",
   "id": "657eef6b",
   "metadata": {},
   "source": [
    "## END OF SEGMENT"
   ]
  },
  {
   "cell_type": "code",
   "execution_count": 66,
   "id": "bc60761d",
   "metadata": {},
   "outputs": [],
   "source": [
    "# references target features\n",
    "# 10 = pm10\n",
    "# 9 = co\n",
    "# 8 = o3\n",
    "# 7 = no2\n",
    "# 6 = so2\n",
    "# 5 = no\n",
    "# 4 = nox"
   ]
  },
  {
   "cell_type": "code",
   "execution_count": 708,
   "id": "3515a7c1",
   "metadata": {},
   "outputs": [],
   "source": [
    "# function to organize data in correct forms so that the data can be fitted to the model\n",
    "# data, number of past days, number of features, target pollutants to be predicted\n",
    "def to_sequences(dataset, n_past, no_features, target_features):\n",
    "    # n_past: Number of past days we want to use to predict the future.\n",
    "    X = []\n",
    "    y = []\n",
    "    n_future = 1   # Number of days we want to look into the future based on the past days.\n",
    "    for i in range(n_past, len(dataset) - n_future +1):\n",
    "        X.append(dataset[i - n_past:i, 0:no_features])\n",
    "        y.append(dataset[i + n_future - 1:i + n_future, target_features]) \n",
    "    return np.array(X), np.array(y)\n",
    "\n",
    "# function to build LSTM model\n",
    "def modelling(no_past, no_features):\n",
    "    model = Sequential()\n",
    "    model.add(LSTM(128, input_shape=(trainX.shape[1], trainX.shape[2]), return_sequences=True))\n",
    "    model.add(LSTM(64, return_sequences=False))\n",
    "    model.add(Dense(32))\n",
    "    # model.add(LSTM(50, return_sequences=False))\n",
    "    model.add(Dropout(0.2))\n",
    "    model.add(Dense(trainY.shape[1]))\n",
    "\n",
    "    model.compile(optimizer='adam', loss='mse')\n",
    "    return model\n",
    "    #model.summary()#ANN->RNN->LSTM\n",
    "    \n",
    "# function to retrieve performance of the model\n",
    "def performance_measure(actual,pred) :\n",
    "    rmse=math.sqrt(mean_squared_error(actual,pred, squared=False))\n",
    "    mae=mean_absolute_error(actual, pred)\n",
    "    mape=mean_absolute_percentage_error(actual, pred)*100\n",
    "    return rmse,mae,mape\n"
   ]
  },
  {
   "cell_type": "markdown",
   "id": "ecf60752",
   "metadata": {},
   "source": [
    "# PM10 Modelling : 10"
   ]
  },
  {
   "cell_type": "markdown",
   "id": "ec502277",
   "metadata": {},
   "source": [
    "### Restrustured the data and determine the target features"
   ]
  },
  {
   "cell_type": "code",
   "execution_count": 709,
   "id": "d8032847",
   "metadata": {
    "scrolled": true
   },
   "outputs": [
    {
     "name": "stdout",
     "output_type": "stream",
     "text": [
      "trainX shape == (4828, 3, 11).\n",
      "trainY shape == (4828, 1).\n",
      "testX shape == (1205, 3, 11).\n",
      "testY shape == (1205, 1).\n"
     ]
    }
   ],
   "source": [
    "trainX, trainY = to_sequences(train, 3, klangapi.shape[1],10)\n",
    "testX, testY = to_sequences(test, 3, klangapi.shape[1],10)\n",
    "\n",
    "print('trainX shape == {}.'.format(trainX.shape))\n",
    "print('trainY shape == {}.'.format(trainY.shape))\n",
    "\n",
    "print('testX shape == {}.'.format(testX.shape))\n",
    "print('testY shape == {}.'.format(testY.shape))"
   ]
  },
  {
   "cell_type": "code",
   "execution_count": 710,
   "id": "2afc1f78",
   "metadata": {},
   "outputs": [
    {
     "data": {
      "text/plain": [
       "True"
      ]
     },
     "execution_count": 710,
     "metadata": {},
     "output_type": "execute_result"
    }
   ],
   "source": [
    "trainY[0][0] == trainTestScaled[3][10]"
   ]
  },
  {
   "cell_type": "markdown",
   "id": "bb4c4621",
   "metadata": {},
   "source": [
    "### Training model"
   ]
  },
  {
   "cell_type": "code",
   "execution_count": 711,
   "id": "83c81078",
   "metadata": {
    "scrolled": true
   },
   "outputs": [
    {
     "name": "stdout",
     "output_type": "stream",
     "text": [
      "Model: \"sequential_37\"\n",
      "_________________________________________________________________\n",
      "Layer (type)                 Output Shape              Param #   \n",
      "=================================================================\n",
      "lstm_81 (LSTM)               (None, 3, 128)            71680     \n",
      "_________________________________________________________________\n",
      "lstm_82 (LSTM)               (None, 64)                49408     \n",
      "_________________________________________________________________\n",
      "dense_57 (Dense)             (None, 32)                2080      \n",
      "_________________________________________________________________\n",
      "dropout_31 (Dropout)         (None, 32)                0         \n",
      "_________________________________________________________________\n",
      "dense_58 (Dense)             (None, 1)                 33        \n",
      "=================================================================\n",
      "Total params: 123,201\n",
      "Trainable params: 123,201\n",
      "Non-trainable params: 0\n",
      "_________________________________________________________________\n",
      "Epoch 1/20\n",
      "604/604 [==============================] - 2s 3ms/step - loss: 0.0025 - val_loss: 0.0015\n",
      "Epoch 2/20\n",
      "604/604 [==============================] - 1s 2ms/step - loss: 0.0020 - val_loss: 7.7965e-04\n",
      "Epoch 3/20\n",
      "604/604 [==============================] - 1s 2ms/step - loss: 0.0017 - val_loss: 0.0015\n",
      "Epoch 4/20\n",
      "604/604 [==============================] - 1s 2ms/step - loss: 0.0016 - val_loss: 0.0012\n",
      "Epoch 5/20\n",
      "604/604 [==============================] - 1s 2ms/step - loss: 0.0015 - val_loss: 0.0012\n",
      "Epoch 6/20\n",
      "604/604 [==============================] - 1s 2ms/step - loss: 0.0016 - val_loss: 0.0016\n",
      "Epoch 7/20\n",
      "604/604 [==============================] - 1s 2ms/step - loss: 0.0014 - val_loss: 8.8783e-04\n",
      "Epoch 8/20\n",
      "604/604 [==============================] - 1s 2ms/step - loss: 0.0016 - val_loss: 6.6564e-04\n",
      "Epoch 9/20\n",
      "604/604 [==============================] - 1s 2ms/step - loss: 0.0014 - val_loss: 6.9970e-04\n",
      "Epoch 10/20\n",
      "604/604 [==============================] - 1s 2ms/step - loss: 0.0014 - val_loss: 6.1699e-04\n",
      "Epoch 11/20\n",
      "604/604 [==============================] - 1s 2ms/step - loss: 0.0014 - val_loss: 0.0011\n",
      "Epoch 12/20\n",
      "604/604 [==============================] - 1s 2ms/step - loss: 0.0014 - val_loss: 6.9411e-04\n",
      "Epoch 13/20\n",
      "604/604 [==============================] - 1s 2ms/step - loss: 0.0014 - val_loss: 8.2157e-04\n",
      "Epoch 14/20\n",
      "604/604 [==============================] - 1s 2ms/step - loss: 0.0013 - val_loss: 0.0013\n",
      "Epoch 15/20\n",
      "604/604 [==============================] - 1s 2ms/step - loss: 0.0014 - val_loss: 7.8430e-04\n",
      "Epoch 16/20\n",
      "604/604 [==============================] - 1s 2ms/step - loss: 0.0013 - val_loss: 0.0011\n",
      "Epoch 17/20\n",
      "604/604 [==============================] - 1s 2ms/step - loss: 0.0013 - val_loss: 8.0542e-04\n",
      "Epoch 18/20\n",
      "604/604 [==============================] - 1s 2ms/step - loss: 0.0013 - val_loss: 7.1767e-04\n",
      "Epoch 19/20\n",
      "604/604 [==============================] - 1s 2ms/step - loss: 0.0013 - val_loss: 6.9259e-04\n",
      "Epoch 20/20\n",
      "604/604 [==============================] - 1s 2ms/step - loss: 0.0013 - val_loss: 6.8222e-04\n"
     ]
    }
   ],
   "source": [
    "#trainX(number of rows, number of past days, number of features)\n",
    "#PM10 Modelling\n",
    "modelPM10=modelling(trainX.shape[1],trainX.shape[2]) \n",
    "modelPM10.summary()\n",
    "history = modelPM10.fit(trainX, trainY, epochs=20, batch_size=8, validation_data=(testX,testY), verbose=1)"
   ]
  },
  {
   "cell_type": "code",
   "execution_count": 712,
   "id": "198d4c14",
   "metadata": {},
   "outputs": [
    {
     "data": {
      "text/plain": [
       "<matplotlib.legend.Legend at 0x298044f66d0>"
      ]
     },
     "execution_count": 712,
     "metadata": {},
     "output_type": "execute_result"
    },
    {
     "data": {
      "image/png": "[encoded data removed]",
      "text/plain": [
       "<Figure size 432x288 with 1 Axes>"
      ]
     },
     "metadata": {
      "needs_background": "light"
     },
     "output_type": "display_data"
    }
   ],
   "source": [
    "plt.plot(history.history['loss'], label='Training loss')\n",
    "plt.plot(history.history['val_loss'], label='Validation loss')\n",
    "plt.legend()"
   ]
  },
  {
   "cell_type": "code",
   "execution_count": 713,
   "id": "93e95a6d",
   "metadata": {},
   "outputs": [],
   "source": [
    "prediction = modelPM10.predict(trainX)\n"
   ]
  },
  {
   "cell_type": "code",
   "execution_count": 714,
   "id": "4fa31a6b",
   "metadata": {},
   "outputs": [],
   "source": [
    "prediction_copies = np.repeat(prediction, klangapi.shape[1], axis=-1)\n",
    "y_pred_future = scaler.inverse_transform(prediction_copies)[:,10]\n"
   ]
  },
  {
   "cell_type": "code",
   "execution_count": 715,
   "id": "fb1a6cdf",
   "metadata": {},
   "outputs": [],
   "source": [
    "actualY = np.repeat(trainY, klangapi.shape[1], axis=-1)\n",
    "actualY = scaler.inverse_transform(actualY)[:,10]\n",
    "#klangapi.iloc[3:4831,10]"
   ]
  },
  {
   "cell_type": "code",
   "execution_count": 716,
   "id": "633a6938",
   "metadata": {},
   "outputs": [
    {
     "name": "stdout",
     "output_type": "stream",
     "text": [
      "RMSE : 4.462703836547335.\n",
      "MAE : 13.042557235167218.\n",
      "MAPE : 19.985777652448625.\n"
     ]
    }
   ],
   "source": [
    "rmse, mae, mape = performance_measure(actualY,y_pred_future)\n",
    "print('RMSE : {}.'.format(rmse))\n",
    "print('MAE : {}.'.format(mae))\n",
    "print('MAPE : {}.'.format(mape))"
   ]
  },
  {
   "cell_type": "code",
   "execution_count": 717,
   "id": "b0a33996",
   "metadata": {},
   "outputs": [
    {
     "data": {
      "text/plain": [
       "[<matplotlib.lines.Line2D at 0x2984e500220>]"
      ]
     },
     "execution_count": 717,
     "metadata": {},
     "output_type": "execute_result"
    },
    {
     "data": {
      "image/png": "[encoded data removed]",
      "text/plain": [
       "<Figure size 432x288 with 1 Axes>"
      ]
     },
     "metadata": {
      "needs_background": "light"
     },
     "output_type": "display_data"
    }
   ],
   "source": [
    "train_results = pd.DataFrame(data={'Train Predictions':y_pred_future, 'Actuals':actualY})\n",
    "plt.plot(train_results['Train Predictions'][4500:4828])\n",
    "plt.plot(train_results['Actuals'][4500:4828])"
   ]
  },
  {
   "cell_type": "code",
   "execution_count": 718,
   "id": "bae21766",
   "metadata": {},
   "outputs": [
    {
     "data": {
      "text/html": [
       "<div>\n",
       "<style scoped>\n",
       "    .dataframe tbody tr th:only-of-type {\n",
       "        vertical-align: middle;\n",
       "    }\n",
       "\n",
       "    .dataframe tbody tr th {\n",
       "        vertical-align: top;\n",
       "    }\n",
       "\n",
       "    .dataframe thead th {\n",
       "        text-align: right;\n",
       "    }\n",
       "</style>\n",
       "<table border=\"1\" class=\"dataframe\">\n",
       "  <thead>\n",
       "    <tr style=\"text-align: right;\">\n",
       "      <th></th>\n",
       "      <th>Train Predictions</th>\n",
       "      <th>Actuals</th>\n",
       "    </tr>\n",
       "  </thead>\n",
       "  <tbody>\n",
       "    <tr>\n",
       "      <th>0</th>\n",
       "      <td>85.137184</td>\n",
       "      <td>116.6250</td>\n",
       "    </tr>\n",
       "    <tr>\n",
       "      <th>1</th>\n",
       "      <td>93.526672</td>\n",
       "      <td>94.9583</td>\n",
       "    </tr>\n",
       "    <tr>\n",
       "      <th>2</th>\n",
       "      <td>80.930786</td>\n",
       "      <td>83.7083</td>\n",
       "    </tr>\n",
       "    <tr>\n",
       "      <th>3</th>\n",
       "      <td>76.369171</td>\n",
       "      <td>75.5625</td>\n",
       "    </tr>\n",
       "    <tr>\n",
       "      <th>4</th>\n",
       "      <td>72.115456</td>\n",
       "      <td>53.6458</td>\n",
       "    </tr>\n",
       "    <tr>\n",
       "      <th>...</th>\n",
       "      <td>...</td>\n",
       "      <td>...</td>\n",
       "    </tr>\n",
       "    <tr>\n",
       "      <th>4823</th>\n",
       "      <td>59.529263</td>\n",
       "      <td>57.9583</td>\n",
       "    </tr>\n",
       "    <tr>\n",
       "      <th>4824</th>\n",
       "      <td>53.534363</td>\n",
       "      <td>50.3750</td>\n",
       "    </tr>\n",
       "    <tr>\n",
       "      <th>4825</th>\n",
       "      <td>51.497665</td>\n",
       "      <td>36.6667</td>\n",
       "    </tr>\n",
       "    <tr>\n",
       "      <th>4826</th>\n",
       "      <td>45.060429</td>\n",
       "      <td>54.3333</td>\n",
       "    </tr>\n",
       "    <tr>\n",
       "      <th>4827</th>\n",
       "      <td>50.848598</td>\n",
       "      <td>64.1250</td>\n",
       "    </tr>\n",
       "  </tbody>\n",
       "</table>\n",
       "<p>4828 rows × 2 columns</p>\n",
       "</div>"
      ],
      "text/plain": [
       "      Train Predictions   Actuals\n",
       "0             85.137184  116.6250\n",
       "1             93.526672   94.9583\n",
       "2             80.930786   83.7083\n",
       "3             76.369171   75.5625\n",
       "4             72.115456   53.6458\n",
       "...                 ...       ...\n",
       "4823          59.529263   57.9583\n",
       "4824          53.534363   50.3750\n",
       "4825          51.497665   36.6667\n",
       "4826          45.060429   54.3333\n",
       "4827          50.848598   64.1250\n",
       "\n",
       "[4828 rows x 2 columns]"
      ]
     },
     "execution_count": 718,
     "metadata": {},
     "output_type": "execute_result"
    }
   ],
   "source": [
    "train_results"
   ]
  },
  {
   "cell_type": "markdown",
   "id": "a2d4696d",
   "metadata": {},
   "source": [
    "### Deploy on unseen data 2020\n"
   ]
  },
  {
   "cell_type": "code",
   "execution_count": 719,
   "id": "c155e495",
   "metadata": {
    "scrolled": false
   },
   "outputs": [
    {
     "name": "stdout",
     "output_type": "stream",
     "text": [
      "verifyX shape == (363, 3, 11).\n",
      "verifyY shape == (363, 1).\n"
     ]
    }
   ],
   "source": [
    "verifyX, verifyY = to_sequences(verifyDeployScaled, 3, klangapi.shape[1],10)\n",
    "print('verifyX shape == {}.'.format(verifyX.shape))\n",
    "print('verifyY shape == {}.'.format(verifyY.shape))"
   ]
  },
  {
   "cell_type": "code",
   "execution_count": 720,
   "id": "21747b63",
   "metadata": {
    "scrolled": true
   },
   "outputs": [],
   "source": [
    "prediction = modelPM10.predict(verifyX)\n",
    "\n",
    "prediction_copies = np.repeat(prediction, klangapi.shape[1], axis=-1)\n",
    "y_pred_future_test = scaler.inverse_transform(prediction_copies)[:,10]\n",
    "\n",
    "verificationYRepeat = np.repeat(verifyY, klangapi.shape[1], axis=-1)\n",
    "verificationYUnscaled = scaler.inverse_transform(verificationYRepeat)[:,10]"
   ]
  },
  {
   "cell_type": "code",
   "execution_count": 721,
   "id": "168264a7",
   "metadata": {},
   "outputs": [
    {
     "name": "stdout",
     "output_type": "stream",
     "text": [
      "RMSE : 3.4451246956089316.\n",
      "MAE : 10.083892372555903.\n",
      "MAPE : 36.18160805879481.\n"
     ]
    }
   ],
   "source": [
    "rmse, mae, mape = performance_measure(verificationYUnscaled,y_pred_future_test)\n",
    "print('RMSE : {}.'.format(rmse))\n",
    "print('MAE : {}.'.format(mae))\n",
    "print('MAPE : {}.'.format(mape))"
   ]
  },
  {
   "cell_type": "code",
   "execution_count": 722,
   "id": "bee516fc",
   "metadata": {
    "scrolled": true
   },
   "outputs": [
    {
     "data": {
      "text/html": [
       "<div>\n",
       "<style scoped>\n",
       "    .dataframe tbody tr th:only-of-type {\n",
       "        vertical-align: middle;\n",
       "    }\n",
       "\n",
       "    .dataframe tbody tr th {\n",
       "        vertical-align: top;\n",
       "    }\n",
       "\n",
       "    .dataframe thead th {\n",
       "        text-align: right;\n",
       "    }\n",
       "</style>\n",
       "<table border=\"1\" class=\"dataframe\">\n",
       "  <thead>\n",
       "    <tr style=\"text-align: right;\">\n",
       "      <th></th>\n",
       "      <th>Train Predictions</th>\n",
       "      <th>Actuals</th>\n",
       "    </tr>\n",
       "  </thead>\n",
       "  <tbody>\n",
       "    <tr>\n",
       "      <th>0</th>\n",
       "      <td>41.336864</td>\n",
       "      <td>33.9980</td>\n",
       "    </tr>\n",
       "    <tr>\n",
       "      <th>1</th>\n",
       "      <td>40.072018</td>\n",
       "      <td>33.8509</td>\n",
       "    </tr>\n",
       "    <tr>\n",
       "      <th>2</th>\n",
       "      <td>42.622562</td>\n",
       "      <td>31.7105</td>\n",
       "    </tr>\n",
       "    <tr>\n",
       "      <th>3</th>\n",
       "      <td>42.804283</td>\n",
       "      <td>34.8861</td>\n",
       "    </tr>\n",
       "    <tr>\n",
       "      <th>4</th>\n",
       "      <td>43.230789</td>\n",
       "      <td>35.9569</td>\n",
       "    </tr>\n",
       "    <tr>\n",
       "      <th>...</th>\n",
       "      <td>...</td>\n",
       "      <td>...</td>\n",
       "    </tr>\n",
       "    <tr>\n",
       "      <th>358</th>\n",
       "      <td>39.825111</td>\n",
       "      <td>19.1635</td>\n",
       "    </tr>\n",
       "    <tr>\n",
       "      <th>359</th>\n",
       "      <td>37.042465</td>\n",
       "      <td>34.3774</td>\n",
       "    </tr>\n",
       "    <tr>\n",
       "      <th>360</th>\n",
       "      <td>38.677299</td>\n",
       "      <td>23.4586</td>\n",
       "    </tr>\n",
       "    <tr>\n",
       "      <th>361</th>\n",
       "      <td>36.670479</td>\n",
       "      <td>26.0311</td>\n",
       "    </tr>\n",
       "    <tr>\n",
       "      <th>362</th>\n",
       "      <td>38.637993</td>\n",
       "      <td>36.1911</td>\n",
       "    </tr>\n",
       "  </tbody>\n",
       "</table>\n",
       "<p>363 rows × 2 columns</p>\n",
       "</div>"
      ],
      "text/plain": [
       "     Train Predictions  Actuals\n",
       "0            41.336864  33.9980\n",
       "1            40.072018  33.8509\n",
       "2            42.622562  31.7105\n",
       "3            42.804283  34.8861\n",
       "4            43.230789  35.9569\n",
       "..                 ...      ...\n",
       "358          39.825111  19.1635\n",
       "359          37.042465  34.3774\n",
       "360          38.677299  23.4586\n",
       "361          36.670479  26.0311\n",
       "362          38.637993  36.1911\n",
       "\n",
       "[363 rows x 2 columns]"
      ]
     },
     "execution_count": 722,
     "metadata": {},
     "output_type": "execute_result"
    }
   ],
   "source": [
    "test_results = pd.DataFrame(data={'Train Predictions':y_pred_future_test, 'Actuals':verificationYUnscaled})\n",
    "test_results"
   ]
  },
  {
   "cell_type": "code",
   "execution_count": 842,
   "id": "762fbd0b",
   "metadata": {
    "scrolled": true
   },
   "outputs": [
    {
     "data": {
      "text/plain": [
       "[<matplotlib.lines.Line2D at 0x2981f093bb0>]"
      ]
     },
     "execution_count": 842,
     "metadata": {},
     "output_type": "execute_result"
    },
    {
     "data": {
      "image/png": "[encoded data removed]",
      "text/plain": [
       "<Figure size 432x288 with 1 Axes>"
      ]
     },
     "metadata": {
      "needs_background": "light"
     },
     "output_type": "display_data"
    }
   ],
   "source": [
    "plt.plot(test_results['Train Predictions'][300:])\n",
    "plt.plot(test_results['Actuals'][300:])"
   ]
  },
  {
   "cell_type": "markdown",
   "id": "e69c3faa",
   "metadata": {},
   "source": [
    "# CO Modelling : 9"
   ]
  },
  {
   "cell_type": "code",
   "execution_count": 724,
   "id": "814ea94c",
   "metadata": {},
   "outputs": [
    {
     "name": "stdout",
     "output_type": "stream",
     "text": [
      "trainX shape == (4828, 3, 11).\n",
      "trainY shape == (4828, 1).\n",
      "testX shape == (1205, 3, 11).\n",
      "testY shape == (1205, 1).\n"
     ]
    }
   ],
   "source": [
    "trainX, trainY = to_sequences(train, 3, klangapi.shape[1], 9)\n",
    "testX, testY = to_sequences(test, 3, klangapi.shape[1], 9)\n",
    "\n",
    "print('trainX shape == {}.'.format(trainX.shape))\n",
    "print('trainY shape == {}.'.format(trainY.shape))\n",
    "\n",
    "print('testX shape == {}.'.format(testX.shape))\n",
    "print('testY shape == {}.'.format(testY.shape))"
   ]
  },
  {
   "cell_type": "code",
   "execution_count": 725,
   "id": "f8b5b0aa",
   "metadata": {},
   "outputs": [
    {
     "data": {
      "text/plain": [
       "True"
      ]
     },
     "execution_count": 725,
     "metadata": {},
     "output_type": "execute_result"
    }
   ],
   "source": [
    "trainY[0][0] == trainTestScaled[3][9]"
   ]
  },
  {
   "cell_type": "code",
   "execution_count": 726,
   "id": "55e9633e",
   "metadata": {},
   "outputs": [
    {
     "name": "stdout",
     "output_type": "stream",
     "text": [
      "Model: \"sequential_38\"\n",
      "_________________________________________________________________\n",
      "Layer (type)                 Output Shape              Param #   \n",
      "=================================================================\n",
      "lstm_83 (LSTM)               (None, 3, 128)            71680     \n",
      "_________________________________________________________________\n",
      "lstm_84 (LSTM)               (None, 64)                49408     \n",
      "_________________________________________________________________\n",
      "dense_59 (Dense)             (None, 32)                2080      \n",
      "_________________________________________________________________\n",
      "dropout_32 (Dropout)         (None, 32)                0         \n",
      "_________________________________________________________________\n",
      "dense_60 (Dense)             (None, 1)                 33        \n",
      "=================================================================\n",
      "Total params: 123,201\n",
      "Trainable params: 123,201\n",
      "Non-trainable params: 0\n",
      "_________________________________________________________________\n"
     ]
    }
   ],
   "source": [
    "#trainX(number of rows, number of past days, number of features)\n",
    "#CO Modelling\n",
    "model=modelling(trainX.shape[1],trainX.shape[2]) \n",
    "model.summary()"
   ]
  },
  {
   "cell_type": "code",
   "execution_count": 727,
   "id": "6298f08d",
   "metadata": {},
   "outputs": [
    {
     "name": "stdout",
     "output_type": "stream",
     "text": [
      "Epoch 1/20\n",
      "604/604 [==============================] - 2s 3ms/step - loss: 0.0048 - val_loss: 0.0017\n",
      "Epoch 2/20\n",
      "604/604 [==============================] - 1s 2ms/step - loss: 0.0039 - val_loss: 0.0018\n",
      "Epoch 3/20\n",
      "604/604 [==============================] - 1s 2ms/step - loss: 0.0035 - val_loss: 0.0015\n",
      "Epoch 4/20\n",
      "604/604 [==============================] - 1s 2ms/step - loss: 0.0034 - val_loss: 0.0021\n",
      "Epoch 5/20\n",
      "604/604 [==============================] - 1s 2ms/step - loss: 0.0032 - val_loss: 0.0023\n",
      "Epoch 6/20\n",
      "604/604 [==============================] - 1s 2ms/step - loss: 0.0033 - val_loss: 0.0018\n",
      "Epoch 7/20\n",
      "604/604 [==============================] - 1s 2ms/step - loss: 0.0032 - val_loss: 0.0012\n",
      "Epoch 8/20\n",
      "604/604 [==============================] - 1s 2ms/step - loss: 0.0032 - val_loss: 0.0012\n",
      "Epoch 9/20\n",
      "604/604 [==============================] - 1s 2ms/step - loss: 0.0031 - val_loss: 0.0013\n",
      "Epoch 10/20\n",
      "604/604 [==============================] - 1s 2ms/step - loss: 0.0031 - val_loss: 0.0013\n",
      "Epoch 11/20\n",
      "604/604 [==============================] - 1s 2ms/step - loss: 0.0031 - val_loss: 0.0011\n",
      "Epoch 12/20\n",
      "604/604 [==============================] - 1s 2ms/step - loss: 0.0031 - val_loss: 0.0011\n",
      "Epoch 13/20\n",
      "604/604 [==============================] - 1s 2ms/step - loss: 0.0031 - val_loss: 0.0013\n",
      "Epoch 14/20\n",
      "604/604 [==============================] - 1s 2ms/step - loss: 0.0031 - val_loss: 0.0014\n",
      "Epoch 15/20\n",
      "604/604 [==============================] - 1s 2ms/step - loss: 0.0031 - val_loss: 0.0011\n",
      "Epoch 16/20\n",
      "604/604 [==============================] - 1s 2ms/step - loss: 0.0030 - val_loss: 0.0015\n",
      "Epoch 17/20\n",
      "604/604 [==============================] - 1s 2ms/step - loss: 0.0030 - val_loss: 0.0012\n",
      "Epoch 18/20\n",
      "604/604 [==============================] - 1s 2ms/step - loss: 0.0031 - val_loss: 0.0012\n",
      "Epoch 19/20\n",
      "604/604 [==============================] - 1s 2ms/step - loss: 0.0030 - val_loss: 0.0013\n",
      "Epoch 20/20\n",
      "604/604 [==============================] - 1s 2ms/step - loss: 0.0030 - val_loss: 0.0010\n"
     ]
    }
   ],
   "source": [
    "history = model.fit(trainX, trainY, epochs=20, batch_size=8, validation_data=(testX,testY), verbose=1)"
   ]
  },
  {
   "cell_type": "code",
   "execution_count": 728,
   "id": "90c459a6",
   "metadata": {},
   "outputs": [
    {
     "data": {
      "text/plain": [
       "<matplotlib.legend.Legend at 0x29854403880>"
      ]
     },
     "execution_count": 728,
     "metadata": {},
     "output_type": "execute_result"
    },
    {
     "data": {
      "image/png": "[encoded data removed]",
      "text/plain": [
       "<Figure size 432x288 with 1 Axes>"
      ]
     },
     "metadata": {
      "needs_background": "light"
     },
     "output_type": "display_data"
    }
   ],
   "source": [
    "plt.plot(history.history['loss'], label='Training loss')\n",
    "plt.plot(history.history['val_loss'], label='Validation loss')\n",
    "plt.legend()"
   ]
  },
  {
   "cell_type": "code",
   "execution_count": 729,
   "id": "bb1ac9fb",
   "metadata": {},
   "outputs": [],
   "source": [
    "prediction = model.predict(trainX)"
   ]
  },
  {
   "cell_type": "code",
   "execution_count": 730,
   "id": "edcfc301",
   "metadata": {},
   "outputs": [
    {
     "data": {
      "text/plain": [
       "(4828,)"
      ]
     },
     "execution_count": 730,
     "metadata": {},
     "output_type": "execute_result"
    }
   ],
   "source": [
    "prediction_copies = np.repeat(prediction, klangapi.shape[1], axis=-1)\n",
    "y_pred_future = scaler.inverse_transform(prediction_copies)[:,9]\n",
    "y_pred_future.shape"
   ]
  },
  {
   "cell_type": "code",
   "execution_count": 731,
   "id": "78a38c91",
   "metadata": {},
   "outputs": [
    {
     "data": {
      "text/plain": [
       "(4828,)"
      ]
     },
     "execution_count": 731,
     "metadata": {},
     "output_type": "execute_result"
    }
   ],
   "source": [
    "actualY = np.repeat(trainY, klangapi.shape[1], axis=-1)\n",
    "actualY = scaler.inverse_transform(actualY)[:,9]\n",
    "actualY.shape"
   ]
  },
  {
   "cell_type": "code",
   "execution_count": 732,
   "id": "60ca0595",
   "metadata": {},
   "outputs": [
    {
     "name": "stdout",
     "output_type": "stream",
     "text": [
      "RMSE : 0.5728850638573436.\n",
      "MAE : 0.2386666175268658.\n",
      "MAPE : 24.52295567081408.\n"
     ]
    }
   ],
   "source": [
    "rmse, mae, mape = performance_measure(actualY,y_pred_future)\n",
    "print('RMSE : {}.'.format(rmse))\n",
    "print('MAE : {}.'.format(mae))\n",
    "print('MAPE : {}.'.format(mape))"
   ]
  },
  {
   "cell_type": "code",
   "execution_count": 733,
   "id": "3efe3edb",
   "metadata": {},
   "outputs": [
    {
     "data": {
      "text/html": [
       "<div>\n",
       "<style scoped>\n",
       "    .dataframe tbody tr th:only-of-type {\n",
       "        vertical-align: middle;\n",
       "    }\n",
       "\n",
       "    .dataframe tbody tr th {\n",
       "        vertical-align: top;\n",
       "    }\n",
       "\n",
       "    .dataframe thead th {\n",
       "        text-align: right;\n",
       "    }\n",
       "</style>\n",
       "<table border=\"1\" class=\"dataframe\">\n",
       "  <thead>\n",
       "    <tr style=\"text-align: right;\">\n",
       "      <th></th>\n",
       "      <th>Train Predictions</th>\n",
       "      <th>Actuals</th>\n",
       "    </tr>\n",
       "  </thead>\n",
       "  <tbody>\n",
       "    <tr>\n",
       "      <th>0</th>\n",
       "      <td>85.137184</td>\n",
       "      <td>116.6250</td>\n",
       "    </tr>\n",
       "    <tr>\n",
       "      <th>1</th>\n",
       "      <td>93.526672</td>\n",
       "      <td>94.9583</td>\n",
       "    </tr>\n",
       "    <tr>\n",
       "      <th>2</th>\n",
       "      <td>80.930786</td>\n",
       "      <td>83.7083</td>\n",
       "    </tr>\n",
       "    <tr>\n",
       "      <th>3</th>\n",
       "      <td>76.369171</td>\n",
       "      <td>75.5625</td>\n",
       "    </tr>\n",
       "    <tr>\n",
       "      <th>4</th>\n",
       "      <td>72.115456</td>\n",
       "      <td>53.6458</td>\n",
       "    </tr>\n",
       "    <tr>\n",
       "      <th>...</th>\n",
       "      <td>...</td>\n",
       "      <td>...</td>\n",
       "    </tr>\n",
       "    <tr>\n",
       "      <th>4823</th>\n",
       "      <td>59.529263</td>\n",
       "      <td>57.9583</td>\n",
       "    </tr>\n",
       "    <tr>\n",
       "      <th>4824</th>\n",
       "      <td>53.534363</td>\n",
       "      <td>50.3750</td>\n",
       "    </tr>\n",
       "    <tr>\n",
       "      <th>4825</th>\n",
       "      <td>51.497665</td>\n",
       "      <td>36.6667</td>\n",
       "    </tr>\n",
       "    <tr>\n",
       "      <th>4826</th>\n",
       "      <td>45.060429</td>\n",
       "      <td>54.3333</td>\n",
       "    </tr>\n",
       "    <tr>\n",
       "      <th>4827</th>\n",
       "      <td>50.848598</td>\n",
       "      <td>64.1250</td>\n",
       "    </tr>\n",
       "  </tbody>\n",
       "</table>\n",
       "<p>4828 rows × 2 columns</p>\n",
       "</div>"
      ],
      "text/plain": [
       "      Train Predictions   Actuals\n",
       "0             85.137184  116.6250\n",
       "1             93.526672   94.9583\n",
       "2             80.930786   83.7083\n",
       "3             76.369171   75.5625\n",
       "4             72.115456   53.6458\n",
       "...                 ...       ...\n",
       "4823          59.529263   57.9583\n",
       "4824          53.534363   50.3750\n",
       "4825          51.497665   36.6667\n",
       "4826          45.060429   54.3333\n",
       "4827          50.848598   64.1250\n",
       "\n",
       "[4828 rows x 2 columns]"
      ]
     },
     "execution_count": 733,
     "metadata": {},
     "output_type": "execute_result"
    }
   ],
   "source": [
    "train_results"
   ]
  },
  {
   "cell_type": "code",
   "execution_count": 734,
   "id": "2bcddce6",
   "metadata": {},
   "outputs": [
    {
     "data": {
      "text/plain": [
       "[<matplotlib.lines.Line2D at 0x298041488e0>]"
      ]
     },
     "execution_count": 734,
     "metadata": {},
     "output_type": "execute_result"
    },
    {
     "data": {
      "image/png": "[encoded data removed]",
      "text/plain": [
       "<Figure size 432x288 with 1 Axes>"
      ]
     },
     "metadata": {
      "needs_background": "light"
     },
     "output_type": "display_data"
    }
   ],
   "source": [
    "train_results = pd.DataFrame(data={'Train Predictions':y_pred_future, 'Actuals':actualY})\n",
    "plt.plot(train_results['Train Predictions'][4500:4828])\n",
    "plt.plot(train_results['Actuals'][4500:4828])"
   ]
  },
  {
   "cell_type": "markdown",
   "id": "8a01f095",
   "metadata": {},
   "source": [
    "### Deploy on unseen data\n"
   ]
  },
  {
   "cell_type": "code",
   "execution_count": 735,
   "id": "d1bc4f59",
   "metadata": {
    "scrolled": true
   },
   "outputs": [
    {
     "name": "stdout",
     "output_type": "stream",
     "text": [
      "verifyX shape == (363, 3, 11).\n",
      "verifyY shape == (363, 1).\n"
     ]
    }
   ],
   "source": [
    "verifyX, verifyY = to_sequences(verifyDeployScaled, 3, klangapi.shape[1], 9)\n",
    "print('verifyX shape == {}.'.format(verifyX.shape))\n",
    "print('verifyY shape == {}.'.format(verifyY.shape))"
   ]
  },
  {
   "cell_type": "code",
   "execution_count": 736,
   "id": "6f880bc3",
   "metadata": {
    "scrolled": true
   },
   "outputs": [],
   "source": [
    "prediction = model.predict(verifyX)\n",
    "\n",
    "prediction_copies = np.repeat(prediction, klangapi.shape[1], axis=-1)\n",
    "y_pred_future_test = scaler.inverse_transform(prediction_copies)[:,9]\n",
    "\n",
    "verificationYRepeat = np.repeat(verifyY, klangapi.shape[1], axis=-1)\n",
    "verificationYUnscaled = scaler.inverse_transform(verificationYRepeat)[:,9]"
   ]
  },
  {
   "cell_type": "code",
   "execution_count": 737,
   "id": "f91934c7",
   "metadata": {},
   "outputs": [
    {
     "name": "stdout",
     "output_type": "stream",
     "text": [
      "RMSE : 0.4153860533995155.\n",
      "MAE : 0.1401204996487326.\n",
      "MAPE : 20.40977746410188.\n"
     ]
    }
   ],
   "source": [
    "rmse, mae, mape = performance_measure(verificationYUnscaled,y_pred_future_test)\n",
    "print('RMSE : {}.'.format(rmse))\n",
    "print('MAE : {}.'.format(mae))\n",
    "print('MAPE : {}.'.format(mape))"
   ]
  },
  {
   "cell_type": "code",
   "execution_count": 845,
   "id": "dfc4117d",
   "metadata": {
    "scrolled": true
   },
   "outputs": [
    {
     "data": {
      "text/plain": [
       "[<matplotlib.lines.Line2D at 0x29832a0e7c0>]"
      ]
     },
     "execution_count": 845,
     "metadata": {},
     "output_type": "execute_result"
    },
    {
     "data": {
      "image/png": "[encoded data removed]",
      "text/plain": [
       "<Figure size 432x288 with 1 Axes>"
      ]
     },
     "metadata": {
      "needs_background": "light"
     },
     "output_type": "display_data"
    }
   ],
   "source": [
    "plt.plot(test_results['Train Predictions'][:])\n",
    "plt.plot(test_results['Actuals'][:])"
   ]
  },
  {
   "cell_type": "code",
   "execution_count": 739,
   "id": "9ddd0ece",
   "metadata": {
    "scrolled": true
   },
   "outputs": [
    {
     "data": {
      "text/html": [
       "<div>\n",
       "<style scoped>\n",
       "    .dataframe tbody tr th:only-of-type {\n",
       "        vertical-align: middle;\n",
       "    }\n",
       "\n",
       "    .dataframe tbody tr th {\n",
       "        vertical-align: top;\n",
       "    }\n",
       "\n",
       "    .dataframe thead th {\n",
       "        text-align: right;\n",
       "    }\n",
       "</style>\n",
       "<table border=\"1\" class=\"dataframe\">\n",
       "  <thead>\n",
       "    <tr style=\"text-align: right;\">\n",
       "      <th></th>\n",
       "      <th>Train Predictions</th>\n",
       "      <th>Actuals</th>\n",
       "    </tr>\n",
       "  </thead>\n",
       "  <tbody>\n",
       "    <tr>\n",
       "      <th>0</th>\n",
       "      <td>1.005126</td>\n",
       "      <td>0.8596</td>\n",
       "    </tr>\n",
       "    <tr>\n",
       "      <th>1</th>\n",
       "      <td>0.913491</td>\n",
       "      <td>0.9872</td>\n",
       "    </tr>\n",
       "    <tr>\n",
       "      <th>2</th>\n",
       "      <td>0.974038</td>\n",
       "      <td>0.8925</td>\n",
       "    </tr>\n",
       "    <tr>\n",
       "      <th>3</th>\n",
       "      <td>0.957718</td>\n",
       "      <td>0.8877</td>\n",
       "    </tr>\n",
       "    <tr>\n",
       "      <th>4</th>\n",
       "      <td>0.940530</td>\n",
       "      <td>0.8069</td>\n",
       "    </tr>\n",
       "    <tr>\n",
       "      <th>...</th>\n",
       "      <td>...</td>\n",
       "      <td>...</td>\n",
       "    </tr>\n",
       "    <tr>\n",
       "      <th>358</th>\n",
       "      <td>0.892216</td>\n",
       "      <td>0.6674</td>\n",
       "    </tr>\n",
       "    <tr>\n",
       "      <th>359</th>\n",
       "      <td>0.865657</td>\n",
       "      <td>0.8996</td>\n",
       "    </tr>\n",
       "    <tr>\n",
       "      <th>360</th>\n",
       "      <td>0.924372</td>\n",
       "      <td>0.8214</td>\n",
       "    </tr>\n",
       "    <tr>\n",
       "      <th>361</th>\n",
       "      <td>0.921358</td>\n",
       "      <td>1.0505</td>\n",
       "    </tr>\n",
       "    <tr>\n",
       "      <th>362</th>\n",
       "      <td>1.013854</td>\n",
       "      <td>1.0570</td>\n",
       "    </tr>\n",
       "  </tbody>\n",
       "</table>\n",
       "<p>363 rows × 2 columns</p>\n",
       "</div>"
      ],
      "text/plain": [
       "     Train Predictions  Actuals\n",
       "0             1.005126   0.8596\n",
       "1             0.913491   0.9872\n",
       "2             0.974038   0.8925\n",
       "3             0.957718   0.8877\n",
       "4             0.940530   0.8069\n",
       "..                 ...      ...\n",
       "358           0.892216   0.6674\n",
       "359           0.865657   0.8996\n",
       "360           0.924372   0.8214\n",
       "361           0.921358   1.0505\n",
       "362           1.013854   1.0570\n",
       "\n",
       "[363 rows x 2 columns]"
      ]
     },
     "execution_count": 739,
     "metadata": {},
     "output_type": "execute_result"
    }
   ],
   "source": [
    "test_results = pd.DataFrame(data={'Train Predictions':y_pred_future_test, 'Actuals':verificationYUnscaled})\n",
    "test_results"
   ]
  },
  {
   "cell_type": "code",
   "execution_count": null,
   "id": "2bbfad19",
   "metadata": {},
   "outputs": [],
   "source": []
  },
  {
   "cell_type": "markdown",
   "id": "b2000f10",
   "metadata": {},
   "source": [
    "# O3 Modelling : 8"
   ]
  },
  {
   "cell_type": "code",
   "execution_count": 847,
   "id": "7211a122",
   "metadata": {},
   "outputs": [
    {
     "name": "stdout",
     "output_type": "stream",
     "text": [
      "trainX shape == (4828, 3, 11).\n",
      "trainY shape == (4828, 1).\n",
      "testX shape == (1205, 3, 11).\n",
      "testY shape == (1205, 1).\n"
     ]
    }
   ],
   "source": [
    "trainX, trainY = to_sequences(train, 3, klangapi.shape[1], 8)\n",
    "testX, testY = to_sequences(test, 3, klangapi.shape[1], 8)\n",
    "\n",
    "print('trainX shape == {}.'.format(trainX.shape))\n",
    "print('trainY shape == {}.'.format(trainY.shape))\n",
    "\n",
    "print('testX shape == {}.'.format(testX.shape))\n",
    "print('testY shape == {}.'.format(testY.shape))"
   ]
  },
  {
   "cell_type": "code",
   "execution_count": 848,
   "id": "2b9d8ebf",
   "metadata": {},
   "outputs": [
    {
     "data": {
      "text/plain": [
       "True"
      ]
     },
     "execution_count": 848,
     "metadata": {},
     "output_type": "execute_result"
    }
   ],
   "source": [
    "trainY[0][0] == trainTestScaled[3][8]"
   ]
  },
  {
   "cell_type": "code",
   "execution_count": 849,
   "id": "cff34186",
   "metadata": {},
   "outputs": [
    {
     "name": "stdout",
     "output_type": "stream",
     "text": [
      "Model: \"sequential_47\"\n",
      "_________________________________________________________________\n",
      "Layer (type)                 Output Shape              Param #   \n",
      "=================================================================\n",
      "lstm_101 (LSTM)              (None, 3, 128)            71680     \n",
      "_________________________________________________________________\n",
      "lstm_102 (LSTM)              (None, 64)                49408     \n",
      "_________________________________________________________________\n",
      "dense_77 (Dense)             (None, 32)                2080      \n",
      "_________________________________________________________________\n",
      "dropout_41 (Dropout)         (None, 32)                0         \n",
      "_________________________________________________________________\n",
      "dense_78 (Dense)             (None, 1)                 33        \n",
      "=================================================================\n",
      "Total params: 123,201\n",
      "Trainable params: 123,201\n",
      "Non-trainable params: 0\n",
      "_________________________________________________________________\n"
     ]
    }
   ],
   "source": [
    "#trainX(number of rows, number of past days, number of features)\n",
    "#CO Modelling\n",
    "model=modelling(trainX.shape[1],trainX.shape[2]) \n",
    "model.summary()"
   ]
  },
  {
   "cell_type": "code",
   "execution_count": 850,
   "id": "df5ea754",
   "metadata": {},
   "outputs": [
    {
     "name": "stdout",
     "output_type": "stream",
     "text": [
      "Epoch 1/20\n",
      "604/604 [==============================] - 2s 3ms/step - loss: 0.0145 - val_loss: 0.0109\n",
      "Epoch 2/20\n",
      "604/604 [==============================] - 1s 2ms/step - loss: 0.0118 - val_loss: 0.0103\n",
      "Epoch 3/20\n",
      "604/604 [==============================] - 1s 2ms/step - loss: 0.0112 - val_loss: 0.0094\n",
      "Epoch 4/20\n",
      "604/604 [==============================] - 1s 2ms/step - loss: 0.0112 - val_loss: 0.0101\n",
      "Epoch 5/20\n",
      "604/604 [==============================] - 1s 2ms/step - loss: 0.0109 - val_loss: 0.0093\n",
      "Epoch 6/20\n",
      "604/604 [==============================] - 1s 2ms/step - loss: 0.0108 - val_loss: 0.0096\n",
      "Epoch 7/20\n",
      "604/604 [==============================] - 1s 2ms/step - loss: 0.0107 - val_loss: 0.0096\n",
      "Epoch 8/20\n",
      "604/604 [==============================] - 1s 2ms/step - loss: 0.0106 - val_loss: 0.0089\n",
      "Epoch 9/20\n",
      "604/604 [==============================] - 1s 2ms/step - loss: 0.0104 - val_loss: 0.0107\n",
      "Epoch 10/20\n",
      "604/604 [==============================] - 1s 2ms/step - loss: 0.0105 - val_loss: 0.0096\n",
      "Epoch 11/20\n",
      "604/604 [==============================] - 1s 2ms/step - loss: 0.0104 - val_loss: 0.0098\n",
      "Epoch 12/20\n",
      "604/604 [==============================] - 1s 2ms/step - loss: 0.0104 - val_loss: 0.0093\n",
      "Epoch 13/20\n",
      "604/604 [==============================] - 1s 2ms/step - loss: 0.0104 - val_loss: 0.0091\n",
      "Epoch 14/20\n",
      "604/604 [==============================] - 1s 2ms/step - loss: 0.0103 - val_loss: 0.0091\n",
      "Epoch 15/20\n",
      "604/604 [==============================] - 1s 2ms/step - loss: 0.0102 - val_loss: 0.0096\n",
      "Epoch 16/20\n",
      "604/604 [==============================] - 1s 2ms/step - loss: 0.0104 - val_loss: 0.0089\n",
      "Epoch 17/20\n",
      "604/604 [==============================] - 1s 2ms/step - loss: 0.0104 - val_loss: 0.0100\n",
      "Epoch 18/20\n",
      "604/604 [==============================] - 1s 2ms/step - loss: 0.0102 - val_loss: 0.0095\n",
      "Epoch 19/20\n",
      "604/604 [==============================] - 1s 2ms/step - loss: 0.0102 - val_loss: 0.0092\n",
      "Epoch 20/20\n",
      "604/604 [==============================] - 1s 2ms/step - loss: 0.0103 - val_loss: 0.0093\n"
     ]
    }
   ],
   "source": [
    "history = model.fit(trainX, trainY, epochs=20, batch_size=8, validation_data=(testX,testY), verbose=1)"
   ]
  },
  {
   "cell_type": "code",
   "execution_count": 851,
   "id": "adf68328",
   "metadata": {},
   "outputs": [
    {
     "data": {
      "text/plain": [
       "<matplotlib.legend.Legend at 0x298542458e0>"
      ]
     },
     "execution_count": 851,
     "metadata": {},
     "output_type": "execute_result"
    },
    {
     "data": {
      "image/png": "[encoded data removed]",
      "text/plain": [
       "<Figure size 432x288 with 1 Axes>"
      ]
     },
     "metadata": {
      "needs_background": "light"
     },
     "output_type": "display_data"
    }
   ],
   "source": [
    "plt.plot(history.history['loss'], label='Training loss')\n",
    "plt.plot(history.history['val_loss'], label='Validation loss')\n",
    "plt.legend()"
   ]
  },
  {
   "cell_type": "code",
   "execution_count": 852,
   "id": "80cda86c",
   "metadata": {},
   "outputs": [],
   "source": [
    "prediction = model.predict(trainX)"
   ]
  },
  {
   "cell_type": "code",
   "execution_count": 853,
   "id": "7f12fae2",
   "metadata": {},
   "outputs": [
    {
     "data": {
      "text/plain": [
       "(4828,)"
      ]
     },
     "execution_count": 853,
     "metadata": {},
     "output_type": "execute_result"
    }
   ],
   "source": [
    "prediction_copies = np.repeat(prediction, klangapi.shape[1], axis=-1)\n",
    "y_pred_future = scaler.inverse_transform(prediction_copies)[:,8]\n",
    "y_pred_future.shape"
   ]
  },
  {
   "cell_type": "code",
   "execution_count": 854,
   "id": "fc96a4b2",
   "metadata": {},
   "outputs": [
    {
     "data": {
      "text/plain": [
       "(4828,)"
      ]
     },
     "execution_count": 854,
     "metadata": {},
     "output_type": "execute_result"
    }
   ],
   "source": [
    "actualY = np.repeat(trainY, klangapi.shape[1], axis=-1)\n",
    "actualY = scaler.inverse_transform(actualY)[:,8]\n",
    "actualY.shape"
   ]
  },
  {
   "cell_type": "code",
   "execution_count": 855,
   "id": "25e5c101",
   "metadata": {},
   "outputs": [
    {
     "name": "stdout",
     "output_type": "stream",
     "text": [
      "RMSE : 0.07136396724273661.\n",
      "MAE : 0.0039124227176467455.\n",
      "MAPE : 26.692523041350334.\n"
     ]
    }
   ],
   "source": [
    "rmse, mae, mape = performance_measure(actualY,y_pred_future)\n",
    "print('RMSE : {}.'.format(rmse))\n",
    "print('MAE : {}.'.format(mae))\n",
    "print('MAPE : {}.'.format(mape))"
   ]
  },
  {
   "cell_type": "code",
   "execution_count": 856,
   "id": "39a3852a",
   "metadata": {},
   "outputs": [
    {
     "data": {
      "text/html": [
       "<div>\n",
       "<style scoped>\n",
       "    .dataframe tbody tr th:only-of-type {\n",
       "        vertical-align: middle;\n",
       "    }\n",
       "\n",
       "    .dataframe tbody tr th {\n",
       "        vertical-align: top;\n",
       "    }\n",
       "\n",
       "    .dataframe thead th {\n",
       "        text-align: right;\n",
       "    }\n",
       "</style>\n",
       "<table border=\"1\" class=\"dataframe\">\n",
       "  <thead>\n",
       "    <tr style=\"text-align: right;\">\n",
       "      <th></th>\n",
       "      <th>Train Predictions</th>\n",
       "      <th>Actuals</th>\n",
       "    </tr>\n",
       "  </thead>\n",
       "  <tbody>\n",
       "    <tr>\n",
       "      <th>0</th>\n",
       "      <td>0.054375</td>\n",
       "      <td>0.0871</td>\n",
       "    </tr>\n",
       "    <tr>\n",
       "      <th>1</th>\n",
       "      <td>0.060227</td>\n",
       "      <td>0.0539</td>\n",
       "    </tr>\n",
       "    <tr>\n",
       "      <th>2</th>\n",
       "      <td>0.040846</td>\n",
       "      <td>0.0471</td>\n",
       "    </tr>\n",
       "    <tr>\n",
       "      <th>3</th>\n",
       "      <td>0.051442</td>\n",
       "      <td>0.0737</td>\n",
       "    </tr>\n",
       "    <tr>\n",
       "      <th>4</th>\n",
       "      <td>0.056502</td>\n",
       "      <td>0.0258</td>\n",
       "    </tr>\n",
       "    <tr>\n",
       "      <th>...</th>\n",
       "      <td>...</td>\n",
       "      <td>...</td>\n",
       "    </tr>\n",
       "    <tr>\n",
       "      <th>4823</th>\n",
       "      <td>0.040809</td>\n",
       "      <td>0.0450</td>\n",
       "    </tr>\n",
       "    <tr>\n",
       "      <th>4824</th>\n",
       "      <td>0.042433</td>\n",
       "      <td>0.0295</td>\n",
       "    </tr>\n",
       "    <tr>\n",
       "      <th>4825</th>\n",
       "      <td>0.033219</td>\n",
       "      <td>0.0235</td>\n",
       "    </tr>\n",
       "    <tr>\n",
       "      <th>4826</th>\n",
       "      <td>0.033165</td>\n",
       "      <td>0.0357</td>\n",
       "    </tr>\n",
       "    <tr>\n",
       "      <th>4827</th>\n",
       "      <td>0.032959</td>\n",
       "      <td>0.0333</td>\n",
       "    </tr>\n",
       "  </tbody>\n",
       "</table>\n",
       "<p>4828 rows × 2 columns</p>\n",
       "</div>"
      ],
      "text/plain": [
       "      Train Predictions  Actuals\n",
       "0              0.054375   0.0871\n",
       "1              0.060227   0.0539\n",
       "2              0.040846   0.0471\n",
       "3              0.051442   0.0737\n",
       "4              0.056502   0.0258\n",
       "...                 ...      ...\n",
       "4823           0.040809   0.0450\n",
       "4824           0.042433   0.0295\n",
       "4825           0.033219   0.0235\n",
       "4826           0.033165   0.0357\n",
       "4827           0.032959   0.0333\n",
       "\n",
       "[4828 rows x 2 columns]"
      ]
     },
     "execution_count": 856,
     "metadata": {},
     "output_type": "execute_result"
    }
   ],
   "source": [
    "train_results"
   ]
  },
  {
   "cell_type": "code",
   "execution_count": 857,
   "id": "c6e49620",
   "metadata": {
    "scrolled": true
   },
   "outputs": [
    {
     "data": {
      "text/plain": [
       "[<matplotlib.lines.Line2D at 0x2986cd99af0>]"
      ]
     },
     "execution_count": 857,
     "metadata": {},
     "output_type": "execute_result"
    },
    {
     "data": {
      "image/png": "[encoded data removed]",
      "text/plain": [
       "<Figure size 432x288 with 1 Axes>"
      ]
     },
     "metadata": {
      "needs_background": "light"
     },
     "output_type": "display_data"
    }
   ],
   "source": [
    "train_results = pd.DataFrame(data={'Train Predictions':y_pred_future, 'Actuals':actualY})\n",
    "plt.plot(train_results['Train Predictions'][4500:4828])\n",
    "plt.plot(train_results['Actuals'][4500:4828])"
   ]
  },
  {
   "cell_type": "markdown",
   "id": "d8ceac84",
   "metadata": {},
   "source": [
    "### Deploy on unseen data\n"
   ]
  },
  {
   "cell_type": "code",
   "execution_count": 858,
   "id": "c0094e24",
   "metadata": {
    "scrolled": true
   },
   "outputs": [
    {
     "name": "stdout",
     "output_type": "stream",
     "text": [
      "verifyX shape == (363, 3, 11).\n",
      "verifyY shape == (363, 1).\n"
     ]
    }
   ],
   "source": [
    "verifyX, verifyY = to_sequences(verifyDeployScaled, 3, klangapi.shape[1], 8)\n",
    "print('verifyX shape == {}.'.format(verifyX.shape))\n",
    "print('verifyY shape == {}.'.format(verifyY.shape))"
   ]
  },
  {
   "cell_type": "code",
   "execution_count": 859,
   "id": "2d2fb7b8",
   "metadata": {
    "scrolled": true
   },
   "outputs": [],
   "source": [
    "prediction = model.predict(verifyX)\n",
    "\n",
    "prediction_copies = np.repeat(prediction, klangapi.shape[1], axis=-1)\n",
    "y_pred_future_test = scaler.inverse_transform(prediction_copies)[:,8]\n",
    "\n",
    "verificationYRepeat = np.repeat(verifyY, klangapi.shape[1], axis=-1)\n",
    "verificationYUnscaled = scaler.inverse_transform(verificationYRepeat)[:,8]"
   ]
  },
  {
   "cell_type": "code",
   "execution_count": 860,
   "id": "36a0ca01",
   "metadata": {},
   "outputs": [
    {
     "name": "stdout",
     "output_type": "stream",
     "text": [
      "RMSE : 0.06547957562837321.\n",
      "MAE : 0.0031976811603409527.\n",
      "MAPE : 24.28312981527851.\n"
     ]
    }
   ],
   "source": [
    "rmse, mae, mape = performance_measure(verificationYUnscaled,y_pred_future_test)\n",
    "print('RMSE : {}.'.format(rmse))\n",
    "print('MAE : {}.'.format(mae))\n",
    "print('MAPE : {}.'.format(mape))"
   ]
  },
  {
   "cell_type": "code",
   "execution_count": 861,
   "id": "c6b91863",
   "metadata": {
    "scrolled": true
   },
   "outputs": [
    {
     "data": {
      "text/html": [
       "<div>\n",
       "<style scoped>\n",
       "    .dataframe tbody tr th:only-of-type {\n",
       "        vertical-align: middle;\n",
       "    }\n",
       "\n",
       "    .dataframe tbody tr th {\n",
       "        vertical-align: top;\n",
       "    }\n",
       "\n",
       "    .dataframe thead th {\n",
       "        text-align: right;\n",
       "    }\n",
       "</style>\n",
       "<table border=\"1\" class=\"dataframe\">\n",
       "  <thead>\n",
       "    <tr style=\"text-align: right;\">\n",
       "      <th></th>\n",
       "      <th>Train Predictions</th>\n",
       "      <th>Actuals</th>\n",
       "    </tr>\n",
       "  </thead>\n",
       "  <tbody>\n",
       "    <tr>\n",
       "      <th>0</th>\n",
       "      <td>0.013288</td>\n",
       "      <td>0.0149</td>\n",
       "    </tr>\n",
       "    <tr>\n",
       "      <th>1</th>\n",
       "      <td>0.014295</td>\n",
       "      <td>0.0119</td>\n",
       "    </tr>\n",
       "    <tr>\n",
       "      <th>2</th>\n",
       "      <td>0.014029</td>\n",
       "      <td>0.0100</td>\n",
       "    </tr>\n",
       "    <tr>\n",
       "      <th>3</th>\n",
       "      <td>0.013621</td>\n",
       "      <td>0.0101</td>\n",
       "    </tr>\n",
       "    <tr>\n",
       "      <th>4</th>\n",
       "      <td>0.013028</td>\n",
       "      <td>0.0129</td>\n",
       "    </tr>\n",
       "    <tr>\n",
       "      <th>...</th>\n",
       "      <td>...</td>\n",
       "      <td>...</td>\n",
       "    </tr>\n",
       "    <tr>\n",
       "      <th>358</th>\n",
       "      <td>0.016216</td>\n",
       "      <td>0.0223</td>\n",
       "    </tr>\n",
       "    <tr>\n",
       "      <th>359</th>\n",
       "      <td>0.018010</td>\n",
       "      <td>0.0159</td>\n",
       "    </tr>\n",
       "    <tr>\n",
       "      <th>360</th>\n",
       "      <td>0.016553</td>\n",
       "      <td>0.0133</td>\n",
       "    </tr>\n",
       "    <tr>\n",
       "      <th>361</th>\n",
       "      <td>0.015521</td>\n",
       "      <td>0.0135</td>\n",
       "    </tr>\n",
       "    <tr>\n",
       "      <th>362</th>\n",
       "      <td>0.014931</td>\n",
       "      <td>0.0151</td>\n",
       "    </tr>\n",
       "  </tbody>\n",
       "</table>\n",
       "<p>363 rows × 2 columns</p>\n",
       "</div>"
      ],
      "text/plain": [
       "     Train Predictions  Actuals\n",
       "0             0.013288   0.0149\n",
       "1             0.014295   0.0119\n",
       "2             0.014029   0.0100\n",
       "3             0.013621   0.0101\n",
       "4             0.013028   0.0129\n",
       "..                 ...      ...\n",
       "358           0.016216   0.0223\n",
       "359           0.018010   0.0159\n",
       "360           0.016553   0.0133\n",
       "361           0.015521   0.0135\n",
       "362           0.014931   0.0151\n",
       "\n",
       "[363 rows x 2 columns]"
      ]
     },
     "execution_count": 861,
     "metadata": {},
     "output_type": "execute_result"
    }
   ],
   "source": [
    "test_results = pd.DataFrame(data={'Train Predictions':y_pred_future_test, 'Actuals':verificationYUnscaled})\n",
    "test_results"
   ]
  },
  {
   "cell_type": "code",
   "execution_count": 862,
   "id": "f4d415fb",
   "metadata": {
    "scrolled": true
   },
   "outputs": [
    {
     "data": {
      "text/plain": [
       "[<matplotlib.lines.Line2D at 0x29806f05af0>]"
      ]
     },
     "execution_count": 862,
     "metadata": {},
     "output_type": "execute_result"
    },
    {
     "data": {
      "image/png": "[encoded data removed]",
      "text/plain": [
       "<Figure size 432x288 with 1 Axes>"
      ]
     },
     "metadata": {
      "needs_background": "light"
     },
     "output_type": "display_data"
    }
   ],
   "source": [
    "plt.plot(test_results['Train Predictions'][:])\n",
    "plt.plot(test_results['Actuals'][:])"
   ]
  },
  {
   "cell_type": "code",
   "execution_count": null,
   "id": "a4ef00ed",
   "metadata": {},
   "outputs": [],
   "source": []
  },
  {
   "cell_type": "markdown",
   "id": "2c32b5f5",
   "metadata": {},
   "source": [
    "# NO2 Modelling : 7"
   ]
  },
  {
   "cell_type": "code",
   "execution_count": 756,
   "id": "b00413b4",
   "metadata": {},
   "outputs": [
    {
     "name": "stdout",
     "output_type": "stream",
     "text": [
      "trainX shape == (4828, 3, 11).\n",
      "trainY shape == (4828, 1).\n",
      "testX shape == (1205, 3, 11).\n",
      "testY shape == (1205, 1).\n"
     ]
    }
   ],
   "source": [
    "trainX, trainY = to_sequences(train, 3, klangapi.shape[1], 7)\n",
    "testX, testY = to_sequences(test, 3, klangapi.shape[1], 7)\n",
    "\n",
    "print('trainX shape == {}.'.format(trainX.shape))\n",
    "print('trainY shape == {}.'.format(trainY.shape))\n",
    "\n",
    "print('testX shape == {}.'.format(testX.shape))\n",
    "print('testY shape == {}.'.format(testY.shape))"
   ]
  },
  {
   "cell_type": "code",
   "execution_count": 757,
   "id": "b3cbf775",
   "metadata": {
    "scrolled": true
   },
   "outputs": [
    {
     "data": {
      "text/plain": [
       "True"
      ]
     },
     "execution_count": 757,
     "metadata": {},
     "output_type": "execute_result"
    }
   ],
   "source": [
    "trainY[0][0] == trainTestScaled[3][7]"
   ]
  },
  {
   "cell_type": "code",
   "execution_count": 758,
   "id": "0bc7e906",
   "metadata": {},
   "outputs": [
    {
     "name": "stdout",
     "output_type": "stream",
     "text": [
      "Model: \"sequential_40\"\n",
      "_________________________________________________________________\n",
      "Layer (type)                 Output Shape              Param #   \n",
      "=================================================================\n",
      "lstm_87 (LSTM)               (None, 3, 128)            71680     \n",
      "_________________________________________________________________\n",
      "lstm_88 (LSTM)               (None, 64)                49408     \n",
      "_________________________________________________________________\n",
      "dense_63 (Dense)             (None, 32)                2080      \n",
      "_________________________________________________________________\n",
      "dropout_34 (Dropout)         (None, 32)                0         \n",
      "_________________________________________________________________\n",
      "dense_64 (Dense)             (None, 1)                 33        \n",
      "=================================================================\n",
      "Total params: 123,201\n",
      "Trainable params: 123,201\n",
      "Non-trainable params: 0\n",
      "_________________________________________________________________\n",
      "Epoch 1/20\n",
      "151/151 [==============================] - 1s 6ms/step - loss: 0.0239 - val_loss: 0.0117\n",
      "Epoch 2/20\n",
      "151/151 [==============================] - 0s 3ms/step - loss: 0.0170 - val_loss: 0.0111\n",
      "Epoch 3/20\n",
      "151/151 [==============================] - 0s 3ms/step - loss: 0.0162 - val_loss: 0.0096\n",
      "Epoch 4/20\n",
      "151/151 [==============================] - 0s 3ms/step - loss: 0.0153 - val_loss: 0.0135\n",
      "Epoch 5/20\n",
      "151/151 [==============================] - 0s 3ms/step - loss: 0.0146 - val_loss: 0.0105\n",
      "Epoch 6/20\n",
      "151/151 [==============================] - 0s 3ms/step - loss: 0.0143 - val_loss: 0.0109\n",
      "Epoch 7/20\n",
      "151/151 [==============================] - 0s 3ms/step - loss: 0.0139 - val_loss: 0.0138\n",
      "Epoch 8/20\n",
      "151/151 [==============================] - 0s 3ms/step - loss: 0.0141 - val_loss: 0.0094\n",
      "Epoch 9/20\n",
      "151/151 [==============================] - 0s 3ms/step - loss: 0.0139 - val_loss: 0.0085\n",
      "Epoch 10/20\n",
      "151/151 [==============================] - 0s 3ms/step - loss: 0.0142 - val_loss: 0.0100\n",
      "Epoch 11/20\n",
      "151/151 [==============================] - 0s 3ms/step - loss: 0.0137 - val_loss: 0.0106\n",
      "Epoch 12/20\n",
      "151/151 [==============================] - 0s 3ms/step - loss: 0.0135 - val_loss: 0.0086\n",
      "Epoch 13/20\n",
      "151/151 [==============================] - 0s 3ms/step - loss: 0.0134 - val_loss: 0.0105\n",
      "Epoch 14/20\n",
      "151/151 [==============================] - 0s 3ms/step - loss: 0.0134 - val_loss: 0.0088\n",
      "Epoch 15/20\n",
      "151/151 [==============================] - 0s 3ms/step - loss: 0.0136 - val_loss: 0.0121\n",
      "Epoch 16/20\n",
      "151/151 [==============================] - 0s 3ms/step - loss: 0.0133 - val_loss: 0.0087\n",
      "Epoch 17/20\n",
      "151/151 [==============================] - 0s 3ms/step - loss: 0.0131 - val_loss: 0.0107\n",
      "Epoch 18/20\n",
      "151/151 [==============================] - 0s 3ms/step - loss: 0.0130 - val_loss: 0.0087\n",
      "Epoch 19/20\n",
      "151/151 [==============================] - 0s 3ms/step - loss: 0.0129 - val_loss: 0.0088\n",
      "Epoch 20/20\n",
      "151/151 [==============================] - 0s 3ms/step - loss: 0.0132 - val_loss: 0.0096\n"
     ]
    }
   ],
   "source": [
    "#trainX(number of rows, number of past days, number of features)\n",
    "#CO Modelling\n",
    "model=modelling(trainX.shape[1],trainX.shape[2]) \n",
    "model.summary()\n",
    "history = model.fit(trainX, trainY, epochs=20, batch_size=32, validation_data=(testX,testY), verbose=1)"
   ]
  },
  {
   "cell_type": "code",
   "execution_count": 759,
   "id": "10c18073",
   "metadata": {},
   "outputs": [
    {
     "data": {
      "text/plain": [
       "<matplotlib.legend.Legend at 0x2980b602fd0>"
      ]
     },
     "execution_count": 759,
     "metadata": {},
     "output_type": "execute_result"
    },
    {
     "data": {
      "image/png": "[encoded data removed]",
      "text/plain": [
       "<Figure size 432x288 with 1 Axes>"
      ]
     },
     "metadata": {
      "needs_background": "light"
     },
     "output_type": "display_data"
    }
   ],
   "source": [
    "plt.plot(history.history['loss'], label='Training loss')\n",
    "plt.plot(history.history['val_loss'], label='Validation loss')\n",
    "plt.legend()"
   ]
  },
  {
   "cell_type": "code",
   "execution_count": 760,
   "id": "c3847f1a",
   "metadata": {},
   "outputs": [],
   "source": [
    "prediction = model.predict(trainX)"
   ]
  },
  {
   "cell_type": "code",
   "execution_count": 761,
   "id": "66ffffee",
   "metadata": {},
   "outputs": [
    {
     "data": {
      "text/plain": [
       "(4828,)"
      ]
     },
     "execution_count": 761,
     "metadata": {},
     "output_type": "execute_result"
    }
   ],
   "source": [
    "prediction_copies = np.repeat(prediction, klangapi.shape[1], axis=-1)\n",
    "y_pred_future = scaler.inverse_transform(prediction_copies)[:,7]\n",
    "y_pred_future.shape"
   ]
  },
  {
   "cell_type": "code",
   "execution_count": 762,
   "id": "b16e3044",
   "metadata": {},
   "outputs": [],
   "source": [
    "# y_pred_future=np.round_(y_pred_future, decimals = 4)"
   ]
  },
  {
   "cell_type": "code",
   "execution_count": 763,
   "id": "290e342a",
   "metadata": {},
   "outputs": [
    {
     "data": {
      "text/plain": [
       "array([0.02850311, 0.02814826, 0.02244609, ..., 0.02184581, 0.02025628,\n",
       "       0.02259924], dtype=float32)"
      ]
     },
     "execution_count": 763,
     "metadata": {},
     "output_type": "execute_result"
    }
   ],
   "source": [
    "y_pred_future"
   ]
  },
  {
   "cell_type": "code",
   "execution_count": 764,
   "id": "4dfab5e1",
   "metadata": {},
   "outputs": [
    {
     "data": {
      "text/plain": [
       "(4828,)"
      ]
     },
     "execution_count": 764,
     "metadata": {},
     "output_type": "execute_result"
    }
   ],
   "source": [
    "actualY = np.repeat(trainY, klangapi.shape[1], axis=-1)\n",
    "actualY = scaler.inverse_transform(actualY)[:,7]\n",
    "actualY.shape"
   ]
  },
  {
   "cell_type": "code",
   "execution_count": 765,
   "id": "0a4fa329",
   "metadata": {},
   "outputs": [
    {
     "data": {
      "text/plain": [
       "array([0.0366, 0.0234, 0.0242, ..., 0.0158, 0.0236, 0.0219])"
      ]
     },
     "execution_count": 765,
     "metadata": {},
     "output_type": "execute_result"
    }
   ],
   "source": [
    "actualY"
   ]
  },
  {
   "cell_type": "code",
   "execution_count": 766,
   "id": "38c3d2fc",
   "metadata": {},
   "outputs": [
    {
     "name": "stdout",
     "output_type": "stream",
     "text": [
      "RMSE : 0.0711543648135766.\n",
      "MAE : 0.003979475220090261.\n",
      "MAPE : 340193455806.5191.\n"
     ]
    }
   ],
   "source": [
    "rmse, mae, mape = performance_measure(actualY,y_pred_future)\n",
    "print('RMSE : {}.'.format(rmse))\n",
    "print('MAE : {}.'.format(mae))\n",
    "print('MAPE : {}.'.format(mape))"
   ]
  },
  {
   "cell_type": "code",
   "execution_count": 767,
   "id": "11eff850",
   "metadata": {
    "scrolled": true
   },
   "outputs": [
    {
     "data": {
      "text/plain": [
       "[<matplotlib.lines.Line2D at 0x2981320ef10>]"
      ]
     },
     "execution_count": 767,
     "metadata": {},
     "output_type": "execute_result"
    },
    {
     "data": {
      "image/png": "[encoded data removed]",
      "text/plain": [
       "<Figure size 432x288 with 1 Axes>"
      ]
     },
     "metadata": {
      "needs_background": "light"
     },
     "output_type": "display_data"
    }
   ],
   "source": [
    "train_results = pd.DataFrame(data={'Train Predictions':y_pred_future, 'Actuals':actualY})\n",
    "plt.plot(train_results['Train Predictions'][4500:4828])\n",
    "plt.plot(train_results['Actuals'][4500:4828])"
   ]
  },
  {
   "cell_type": "code",
   "execution_count": 768,
   "id": "8157bb2c",
   "metadata": {},
   "outputs": [
    {
     "data": {
      "text/html": [
       "<div>\n",
       "<style scoped>\n",
       "    .dataframe tbody tr th:only-of-type {\n",
       "        vertical-align: middle;\n",
       "    }\n",
       "\n",
       "    .dataframe tbody tr th {\n",
       "        vertical-align: top;\n",
       "    }\n",
       "\n",
       "    .dataframe thead th {\n",
       "        text-align: right;\n",
       "    }\n",
       "</style>\n",
       "<table border=\"1\" class=\"dataframe\">\n",
       "  <thead>\n",
       "    <tr style=\"text-align: right;\">\n",
       "      <th></th>\n",
       "      <th>Train Predictions</th>\n",
       "      <th>Actuals</th>\n",
       "    </tr>\n",
       "  </thead>\n",
       "  <tbody>\n",
       "    <tr>\n",
       "      <th>0</th>\n",
       "      <td>0.028503</td>\n",
       "      <td>0.0366</td>\n",
       "    </tr>\n",
       "    <tr>\n",
       "      <th>1</th>\n",
       "      <td>0.028148</td>\n",
       "      <td>0.0234</td>\n",
       "    </tr>\n",
       "    <tr>\n",
       "      <th>2</th>\n",
       "      <td>0.022446</td>\n",
       "      <td>0.0242</td>\n",
       "    </tr>\n",
       "    <tr>\n",
       "      <th>3</th>\n",
       "      <td>0.024106</td>\n",
       "      <td>0.0250</td>\n",
       "    </tr>\n",
       "    <tr>\n",
       "      <th>4</th>\n",
       "      <td>0.021946</td>\n",
       "      <td>0.0154</td>\n",
       "    </tr>\n",
       "    <tr>\n",
       "      <th>...</th>\n",
       "      <td>...</td>\n",
       "      <td>...</td>\n",
       "    </tr>\n",
       "    <tr>\n",
       "      <th>4823</th>\n",
       "      <td>0.025673</td>\n",
       "      <td>0.0257</td>\n",
       "    </tr>\n",
       "    <tr>\n",
       "      <th>4824</th>\n",
       "      <td>0.024409</td>\n",
       "      <td>0.0209</td>\n",
       "    </tr>\n",
       "    <tr>\n",
       "      <th>4825</th>\n",
       "      <td>0.021846</td>\n",
       "      <td>0.0158</td>\n",
       "    </tr>\n",
       "    <tr>\n",
       "      <th>4826</th>\n",
       "      <td>0.020256</td>\n",
       "      <td>0.0236</td>\n",
       "    </tr>\n",
       "    <tr>\n",
       "      <th>4827</th>\n",
       "      <td>0.022599</td>\n",
       "      <td>0.0219</td>\n",
       "    </tr>\n",
       "  </tbody>\n",
       "</table>\n",
       "<p>4828 rows × 2 columns</p>\n",
       "</div>"
      ],
      "text/plain": [
       "      Train Predictions  Actuals\n",
       "0              0.028503   0.0366\n",
       "1              0.028148   0.0234\n",
       "2              0.022446   0.0242\n",
       "3              0.024106   0.0250\n",
       "4              0.021946   0.0154\n",
       "...                 ...      ...\n",
       "4823           0.025673   0.0257\n",
       "4824           0.024409   0.0209\n",
       "4825           0.021846   0.0158\n",
       "4826           0.020256   0.0236\n",
       "4827           0.022599   0.0219\n",
       "\n",
       "[4828 rows x 2 columns]"
      ]
     },
     "execution_count": 768,
     "metadata": {},
     "output_type": "execute_result"
    }
   ],
   "source": [
    "train_results"
   ]
  },
  {
   "cell_type": "code",
   "execution_count": 769,
   "id": "dbd9820e",
   "metadata": {},
   "outputs": [],
   "source": [
    "# klangapi.loc['2015-04-24':'2015-06-30']['no2'].plot()"
   ]
  },
  {
   "cell_type": "markdown",
   "id": "89dbf6f5",
   "metadata": {},
   "source": [
    "### Deploy on unseen data\n"
   ]
  },
  {
   "cell_type": "code",
   "execution_count": 770,
   "id": "07ec1025",
   "metadata": {
    "scrolled": true
   },
   "outputs": [
    {
     "name": "stdout",
     "output_type": "stream",
     "text": [
      "verifyX shape == (363, 3, 11).\n",
      "verifyY shape == (363, 1).\n"
     ]
    }
   ],
   "source": [
    "verifyX, verifyY = to_sequences(verifyDeployScaled, 3, klangapi.shape[1], 8)\n",
    "print('verifyX shape == {}.'.format(verifyX.shape))\n",
    "print('verifyY shape == {}.'.format(verifyY.shape))"
   ]
  },
  {
   "cell_type": "code",
   "execution_count": 771,
   "id": "22f63866",
   "metadata": {
    "scrolled": true
   },
   "outputs": [],
   "source": [
    "prediction = model.predict(verifyX)\n",
    "\n",
    "prediction_copies = np.repeat(prediction, klangapi.shape[1], axis=-1)\n",
    "y_pred_future_test = scaler.inverse_transform(prediction_copies)[:,7]\n",
    "\n",
    "verificationYRepeat = np.repeat(verifyY, klangapi.shape[1], axis=-1)\n",
    "verificationYUnscaled = scaler.inverse_transform(verificationYRepeat)[:,7]"
   ]
  },
  {
   "cell_type": "code",
   "execution_count": 772,
   "id": "64022f26",
   "metadata": {},
   "outputs": [
    {
     "name": "stdout",
     "output_type": "stream",
     "text": [
      "RMSE : 0.08975722351444286.\n",
      "MAE : 0.006901535320713947.\n",
      "MAPE : 71.3500944181001.\n"
     ]
    }
   ],
   "source": [
    "rmse, mae, mape = performance_measure(verificationYUnscaled,y_pred_future_test)\n",
    "print('RMSE : {}.'.format(rmse))\n",
    "print('MAE : {}.'.format(mae))\n",
    "print('MAPE : {}.'.format(mape))"
   ]
  },
  {
   "cell_type": "code",
   "execution_count": 773,
   "id": "75885be9",
   "metadata": {
    "scrolled": true
   },
   "outputs": [
    {
     "data": {
      "text/html": [
       "<div>\n",
       "<style scoped>\n",
       "    .dataframe tbody tr th:only-of-type {\n",
       "        vertical-align: middle;\n",
       "    }\n",
       "\n",
       "    .dataframe tbody tr th {\n",
       "        vertical-align: top;\n",
       "    }\n",
       "\n",
       "    .dataframe thead th {\n",
       "        text-align: right;\n",
       "    }\n",
       "</style>\n",
       "<table border=\"1\" class=\"dataframe\">\n",
       "  <thead>\n",
       "    <tr style=\"text-align: right;\">\n",
       "      <th></th>\n",
       "      <th>Train Predictions</th>\n",
       "      <th>Actuals</th>\n",
       "    </tr>\n",
       "  </thead>\n",
       "  <tbody>\n",
       "    <tr>\n",
       "      <th>0</th>\n",
       "      <td>0.021059</td>\n",
       "      <td>0.012806</td>\n",
       "    </tr>\n",
       "    <tr>\n",
       "      <th>1</th>\n",
       "      <td>0.019956</td>\n",
       "      <td>0.010138</td>\n",
       "    </tr>\n",
       "    <tr>\n",
       "      <th>2</th>\n",
       "      <td>0.018430</td>\n",
       "      <td>0.008449</td>\n",
       "    </tr>\n",
       "    <tr>\n",
       "      <th>3</th>\n",
       "      <td>0.019818</td>\n",
       "      <td>0.008537</td>\n",
       "    </tr>\n",
       "    <tr>\n",
       "      <th>4</th>\n",
       "      <td>0.020209</td>\n",
       "      <td>0.011028</td>\n",
       "    </tr>\n",
       "    <tr>\n",
       "      <th>...</th>\n",
       "      <td>...</td>\n",
       "      <td>...</td>\n",
       "    </tr>\n",
       "    <tr>\n",
       "      <th>358</th>\n",
       "      <td>0.019943</td>\n",
       "      <td>0.019387</td>\n",
       "    </tr>\n",
       "    <tr>\n",
       "      <th>359</th>\n",
       "      <td>0.019295</td>\n",
       "      <td>0.013696</td>\n",
       "    </tr>\n",
       "    <tr>\n",
       "      <th>360</th>\n",
       "      <td>0.021332</td>\n",
       "      <td>0.011383</td>\n",
       "    </tr>\n",
       "    <tr>\n",
       "      <th>361</th>\n",
       "      <td>0.020905</td>\n",
       "      <td>0.011561</td>\n",
       "    </tr>\n",
       "    <tr>\n",
       "      <th>362</th>\n",
       "      <td>0.023089</td>\n",
       "      <td>0.012984</td>\n",
       "    </tr>\n",
       "  </tbody>\n",
       "</table>\n",
       "<p>363 rows × 2 columns</p>\n",
       "</div>"
      ],
      "text/plain": [
       "     Train Predictions   Actuals\n",
       "0             0.021059  0.012806\n",
       "1             0.019956  0.010138\n",
       "2             0.018430  0.008449\n",
       "3             0.019818  0.008537\n",
       "4             0.020209  0.011028\n",
       "..                 ...       ...\n",
       "358           0.019943  0.019387\n",
       "359           0.019295  0.013696\n",
       "360           0.021332  0.011383\n",
       "361           0.020905  0.011561\n",
       "362           0.023089  0.012984\n",
       "\n",
       "[363 rows x 2 columns]"
      ]
     },
     "execution_count": 773,
     "metadata": {},
     "output_type": "execute_result"
    }
   ],
   "source": [
    "test_results = pd.DataFrame(data={'Train Predictions':y_pred_future_test, 'Actuals':verificationYUnscaled})\n",
    "test_results"
   ]
  },
  {
   "cell_type": "code",
   "execution_count": 774,
   "id": "bfe999df",
   "metadata": {
    "scrolled": false
   },
   "outputs": [
    {
     "data": {
      "text/plain": [
       "[<matplotlib.lines.Line2D at 0x298132cb7f0>]"
      ]
     },
     "execution_count": 774,
     "metadata": {},
     "output_type": "execute_result"
    },
    {
     "data": {
      "image/png": "[encoded data removed]",
      "text/plain": [
       "<Figure size 432x288 with 1 Axes>"
      ]
     },
     "metadata": {
      "needs_background": "light"
     },
     "output_type": "display_data"
    }
   ],
   "source": [
    "plt.plot(test_results['Train Predictions'][300:])\n",
    "plt.plot(test_results['Actuals'][300:])"
   ]
  },
  {
   "cell_type": "markdown",
   "id": "2243b111",
   "metadata": {},
   "source": [
    "# SO2 Modelling : 6"
   ]
  },
  {
   "cell_type": "code",
   "execution_count": 775,
   "id": "c53d7aa6",
   "metadata": {},
   "outputs": [
    {
     "name": "stdout",
     "output_type": "stream",
     "text": [
      "trainX shape == (4828, 3, 11).\n",
      "trainY shape == (4828, 1).\n",
      "testX shape == (1205, 3, 11).\n",
      "testY shape == (1205, 1).\n"
     ]
    }
   ],
   "source": [
    "trainX, trainY = to_sequences(train, 3, klangapi.shape[1], 6)\n",
    "testX, testY = to_sequences(test, 3, klangapi.shape[1], 6)\n",
    "\n",
    "print('trainX shape == {}.'.format(trainX.shape))\n",
    "print('trainY shape == {}.'.format(trainY.shape))\n",
    "\n",
    "print('testX shape == {}.'.format(testX.shape))\n",
    "print('testY shape == {}.'.format(testY.shape))"
   ]
  },
  {
   "cell_type": "code",
   "execution_count": 776,
   "id": "e30833b7",
   "metadata": {},
   "outputs": [
    {
     "data": {
      "text/plain": [
       "True"
      ]
     },
     "execution_count": 776,
     "metadata": {},
     "output_type": "execute_result"
    }
   ],
   "source": [
    "trainY[0][0] == trainTestScaled[3][6]"
   ]
  },
  {
   "cell_type": "code",
   "execution_count": 777,
   "id": "341893ee",
   "metadata": {},
   "outputs": [
    {
     "name": "stdout",
     "output_type": "stream",
     "text": [
      "Model: \"sequential_41\"\n",
      "_________________________________________________________________\n",
      "Layer (type)                 Output Shape              Param #   \n",
      "=================================================================\n",
      "lstm_89 (LSTM)               (None, 3, 128)            71680     \n",
      "_________________________________________________________________\n",
      "lstm_90 (LSTM)               (None, 64)                49408     \n",
      "_________________________________________________________________\n",
      "dense_65 (Dense)             (None, 32)                2080      \n",
      "_________________________________________________________________\n",
      "dropout_35 (Dropout)         (None, 32)                0         \n",
      "_________________________________________________________________\n",
      "dense_66 (Dense)             (None, 1)                 33        \n",
      "=================================================================\n",
      "Total params: 123,201\n",
      "Trainable params: 123,201\n",
      "Non-trainable params: 0\n",
      "_________________________________________________________________\n"
     ]
    }
   ],
   "source": [
    "#trainX(number of rows, number of past days, number of features)\n",
    "#CO Modelling\n",
    "model=modelling(trainX.shape[1],trainX.shape[2]) \n",
    "model.summary()"
   ]
  },
  {
   "cell_type": "code",
   "execution_count": 778,
   "id": "97e95901",
   "metadata": {},
   "outputs": [
    {
     "name": "stdout",
     "output_type": "stream",
     "text": [
      "Epoch 1/20\n",
      "604/604 [==============================] - 2s 3ms/step - loss: 0.0071 - val_loss: 0.0058\n",
      "Epoch 2/20\n",
      "604/604 [==============================] - 1s 2ms/step - loss: 0.0060 - val_loss: 0.0068\n",
      "Epoch 3/20\n",
      "604/604 [==============================] - 1s 2ms/step - loss: 0.0056 - val_loss: 0.0048\n",
      "Epoch 4/20\n",
      "604/604 [==============================] - 1s 2ms/step - loss: 0.0055 - val_loss: 0.0061\n",
      "Epoch 5/20\n",
      "604/604 [==============================] - 1s 2ms/step - loss: 0.0053 - val_loss: 0.0032\n",
      "Epoch 6/20\n",
      "604/604 [==============================] - 1s 2ms/step - loss: 0.0053 - val_loss: 0.0063\n",
      "Epoch 7/20\n",
      "604/604 [==============================] - 1s 2ms/step - loss: 0.0053 - val_loss: 0.0038\n",
      "Epoch 8/20\n",
      "604/604 [==============================] - 1s 2ms/step - loss: 0.0052 - val_loss: 0.0041\n",
      "Epoch 9/20\n",
      "604/604 [==============================] - 1s 2ms/step - loss: 0.0052 - val_loss: 0.0047\n",
      "Epoch 10/20\n",
      "604/604 [==============================] - 1s 2ms/step - loss: 0.0052 - val_loss: 0.0058\n",
      "Epoch 11/20\n",
      "604/604 [==============================] - 1s 2ms/step - loss: 0.0052 - val_loss: 0.0051\n",
      "Epoch 12/20\n",
      "604/604 [==============================] - 1s 2ms/step - loss: 0.0052 - val_loss: 0.0035\n",
      "Epoch 13/20\n",
      "604/604 [==============================] - 1s 2ms/step - loss: 0.0051 - val_loss: 0.0059\n",
      "Epoch 14/20\n",
      "604/604 [==============================] - 1s 2ms/step - loss: 0.0051 - val_loss: 0.0043\n",
      "Epoch 15/20\n",
      "604/604 [==============================] - 1s 2ms/step - loss: 0.0051 - val_loss: 0.0051\n",
      "Epoch 16/20\n",
      "604/604 [==============================] - 1s 2ms/step - loss: 0.0051 - val_loss: 0.0027\n",
      "Epoch 17/20\n",
      "604/604 [==============================] - 1s 2ms/step - loss: 0.0051 - val_loss: 0.0034\n",
      "Epoch 18/20\n",
      "604/604 [==============================] - 1s 2ms/step - loss: 0.0051 - val_loss: 0.0052\n",
      "Epoch 19/20\n",
      "604/604 [==============================] - 1s 2ms/step - loss: 0.0050 - val_loss: 0.0048\n",
      "Epoch 20/20\n",
      "604/604 [==============================] - 1s 2ms/step - loss: 0.0050 - val_loss: 0.0026\n"
     ]
    }
   ],
   "source": [
    "history = model.fit(trainX, trainY, epochs=20, batch_size=8, validation_data=(testX,testY), verbose=1)"
   ]
  },
  {
   "cell_type": "code",
   "execution_count": 779,
   "id": "fd0f59a3",
   "metadata": {},
   "outputs": [
    {
     "data": {
      "text/plain": [
       "<matplotlib.legend.Legend at 0x2981a8c36a0>"
      ]
     },
     "execution_count": 779,
     "metadata": {},
     "output_type": "execute_result"
    },
    {
     "data": {
      "image/png": "[encoded data removed]",
      "text/plain": [
       "<Figure size 432x288 with 1 Axes>"
      ]
     },
     "metadata": {
      "needs_background": "light"
     },
     "output_type": "display_data"
    }
   ],
   "source": [
    "plt.plot(history.history['loss'], label='Training loss')\n",
    "plt.plot(history.history['val_loss'], label='Validation loss')\n",
    "plt.legend()"
   ]
  },
  {
   "cell_type": "code",
   "execution_count": 780,
   "id": "7e921965",
   "metadata": {},
   "outputs": [],
   "source": [
    "prediction = model.predict(trainX)"
   ]
  },
  {
   "cell_type": "code",
   "execution_count": 781,
   "id": "f2eaa8df",
   "metadata": {},
   "outputs": [
    {
     "data": {
      "text/plain": [
       "(4828,)"
      ]
     },
     "execution_count": 781,
     "metadata": {},
     "output_type": "execute_result"
    }
   ],
   "source": [
    "prediction_copies = np.repeat(prediction, klangapi.shape[1], axis=-1)\n",
    "y_pred_future = scaler.inverse_transform(prediction_copies)[:,6]\n",
    "y_pred_future.shape"
   ]
  },
  {
   "cell_type": "code",
   "execution_count": 782,
   "id": "f8313f6c",
   "metadata": {},
   "outputs": [
    {
     "data": {
      "text/plain": [
       "(4828,)"
      ]
     },
     "execution_count": 782,
     "metadata": {},
     "output_type": "execute_result"
    }
   ],
   "source": [
    "actualY = np.repeat(trainY, klangapi.shape[1], axis=-1)\n",
    "actualY = scaler.inverse_transform(actualY)[:,6]\n",
    "actualY.shape"
   ]
  },
  {
   "cell_type": "code",
   "execution_count": 783,
   "id": "e8e9995e",
   "metadata": {},
   "outputs": [
    {
     "name": "stdout",
     "output_type": "stream",
     "text": [
      "RMSE : 0.04388042972653474.\n",
      "MAE : 0.0013496251072260832.\n",
      "MAPE : 805031703235.7991.\n"
     ]
    }
   ],
   "source": [
    "rmse, mae, mape = performance_measure(actualY,y_pred_future)\n",
    "print('RMSE : {}.'.format(rmse))\n",
    "print('MAE : {}.'.format(mae))\n",
    "print('MAPE : {}.'.format(mape))"
   ]
  },
  {
   "cell_type": "code",
   "execution_count": 784,
   "id": "444a1401",
   "metadata": {},
   "outputs": [
    {
     "data": {
      "text/html": [
       "<div>\n",
       "<style scoped>\n",
       "    .dataframe tbody tr th:only-of-type {\n",
       "        vertical-align: middle;\n",
       "    }\n",
       "\n",
       "    .dataframe tbody tr th {\n",
       "        vertical-align: top;\n",
       "    }\n",
       "\n",
       "    .dataframe thead th {\n",
       "        text-align: right;\n",
       "    }\n",
       "</style>\n",
       "<table border=\"1\" class=\"dataframe\">\n",
       "  <thead>\n",
       "    <tr style=\"text-align: right;\">\n",
       "      <th></th>\n",
       "      <th>Train Predictions</th>\n",
       "      <th>Actuals</th>\n",
       "    </tr>\n",
       "  </thead>\n",
       "  <tbody>\n",
       "    <tr>\n",
       "      <th>0</th>\n",
       "      <td>0.028503</td>\n",
       "      <td>0.0366</td>\n",
       "    </tr>\n",
       "    <tr>\n",
       "      <th>1</th>\n",
       "      <td>0.028148</td>\n",
       "      <td>0.0234</td>\n",
       "    </tr>\n",
       "    <tr>\n",
       "      <th>2</th>\n",
       "      <td>0.022446</td>\n",
       "      <td>0.0242</td>\n",
       "    </tr>\n",
       "    <tr>\n",
       "      <th>3</th>\n",
       "      <td>0.024106</td>\n",
       "      <td>0.0250</td>\n",
       "    </tr>\n",
       "    <tr>\n",
       "      <th>4</th>\n",
       "      <td>0.021946</td>\n",
       "      <td>0.0154</td>\n",
       "    </tr>\n",
       "    <tr>\n",
       "      <th>...</th>\n",
       "      <td>...</td>\n",
       "      <td>...</td>\n",
       "    </tr>\n",
       "    <tr>\n",
       "      <th>4823</th>\n",
       "      <td>0.025673</td>\n",
       "      <td>0.0257</td>\n",
       "    </tr>\n",
       "    <tr>\n",
       "      <th>4824</th>\n",
       "      <td>0.024409</td>\n",
       "      <td>0.0209</td>\n",
       "    </tr>\n",
       "    <tr>\n",
       "      <th>4825</th>\n",
       "      <td>0.021846</td>\n",
       "      <td>0.0158</td>\n",
       "    </tr>\n",
       "    <tr>\n",
       "      <th>4826</th>\n",
       "      <td>0.020256</td>\n",
       "      <td>0.0236</td>\n",
       "    </tr>\n",
       "    <tr>\n",
       "      <th>4827</th>\n",
       "      <td>0.022599</td>\n",
       "      <td>0.0219</td>\n",
       "    </tr>\n",
       "  </tbody>\n",
       "</table>\n",
       "<p>4828 rows × 2 columns</p>\n",
       "</div>"
      ],
      "text/plain": [
       "      Train Predictions  Actuals\n",
       "0              0.028503   0.0366\n",
       "1              0.028148   0.0234\n",
       "2              0.022446   0.0242\n",
       "3              0.024106   0.0250\n",
       "4              0.021946   0.0154\n",
       "...                 ...      ...\n",
       "4823           0.025673   0.0257\n",
       "4824           0.024409   0.0209\n",
       "4825           0.021846   0.0158\n",
       "4826           0.020256   0.0236\n",
       "4827           0.022599   0.0219\n",
       "\n",
       "[4828 rows x 2 columns]"
      ]
     },
     "execution_count": 784,
     "metadata": {},
     "output_type": "execute_result"
    }
   ],
   "source": [
    "train_results"
   ]
  },
  {
   "cell_type": "code",
   "execution_count": 785,
   "id": "bc1e0e74",
   "metadata": {},
   "outputs": [
    {
     "data": {
      "text/plain": [
       "[<matplotlib.lines.Line2D at 0x2981af62b50>]"
      ]
     },
     "execution_count": 785,
     "metadata": {},
     "output_type": "execute_result"
    },
    {
     "data": {
      "image/png": "[encoded data removed]",
      "text/plain": [
       "<Figure size 432x288 with 1 Axes>"
      ]
     },
     "metadata": {
      "needs_background": "light"
     },
     "output_type": "display_data"
    }
   ],
   "source": [
    "train_results = pd.DataFrame(data={'Train Predictions':y_pred_future, 'Actuals':actualY})\n",
    "plt.plot(train_results['Train Predictions'][4500:4828])\n",
    "plt.plot(train_results['Actuals'][4500:4828])"
   ]
  },
  {
   "cell_type": "markdown",
   "id": "25182bb7",
   "metadata": {},
   "source": [
    "### Deploy on unseen data\n"
   ]
  },
  {
   "cell_type": "code",
   "execution_count": 786,
   "id": "6d3788bf",
   "metadata": {
    "scrolled": true
   },
   "outputs": [
    {
     "name": "stdout",
     "output_type": "stream",
     "text": [
      "verifyX shape == (363, 3, 11).\n",
      "verifyY shape == (363, 1).\n"
     ]
    }
   ],
   "source": [
    "verifyX, verifyY = to_sequences(verifyDeployScaled, 3, klangapi.shape[1], 6)\n",
    "print('verifyX shape == {}.'.format(verifyX.shape))\n",
    "print('verifyY shape == {}.'.format(verifyY.shape))"
   ]
  },
  {
   "cell_type": "code",
   "execution_count": 787,
   "id": "6e3cff2e",
   "metadata": {
    "scrolled": true
   },
   "outputs": [],
   "source": [
    "prediction = model.predict(verifyX)\n",
    "\n",
    "prediction_copies = np.repeat(prediction, klangapi.shape[1], axis=-1)\n",
    "y_pred_future_test = scaler.inverse_transform(prediction_copies)[:,6]\n",
    "\n",
    "verificationYRepeat = np.repeat(verifyY, klangapi.shape[1], axis=-1)\n",
    "verificationYUnscaled = scaler.inverse_transform(verificationYRepeat)[:,6]"
   ]
  },
  {
   "cell_type": "code",
   "execution_count": 788,
   "id": "f1f66713",
   "metadata": {},
   "outputs": [
    {
     "name": "stdout",
     "output_type": "stream",
     "text": [
      "RMSE : 0.03764064938186056.\n",
      "MAE : 0.0013083296480273043.\n",
      "MAPE : 127.64058645364882.\n"
     ]
    }
   ],
   "source": [
    "rmse, mae, mape = performance_measure(verificationYUnscaled,y_pred_future_test)\n",
    "print('RMSE : {}.'.format(rmse))\n",
    "print('MAE : {}.'.format(mae))\n",
    "print('MAPE : {}.'.format(mape))"
   ]
  },
  {
   "cell_type": "code",
   "execution_count": 789,
   "id": "65e9dd5f",
   "metadata": {
    "scrolled": true
   },
   "outputs": [
    {
     "data": {
      "text/html": [
       "<div>\n",
       "<style scoped>\n",
       "    .dataframe tbody tr th:only-of-type {\n",
       "        vertical-align: middle;\n",
       "    }\n",
       "\n",
       "    .dataframe tbody tr th {\n",
       "        vertical-align: top;\n",
       "    }\n",
       "\n",
       "    .dataframe thead th {\n",
       "        text-align: right;\n",
       "    }\n",
       "</style>\n",
       "<table border=\"1\" class=\"dataframe\">\n",
       "  <thead>\n",
       "    <tr style=\"text-align: right;\">\n",
       "      <th></th>\n",
       "      <th>Train Predictions</th>\n",
       "      <th>Actuals</th>\n",
       "    </tr>\n",
       "  </thead>\n",
       "  <tbody>\n",
       "    <tr>\n",
       "      <th>0</th>\n",
       "      <td>0.001813</td>\n",
       "      <td>0.0006</td>\n",
       "    </tr>\n",
       "    <tr>\n",
       "      <th>1</th>\n",
       "      <td>0.001985</td>\n",
       "      <td>0.0009</td>\n",
       "    </tr>\n",
       "    <tr>\n",
       "      <th>2</th>\n",
       "      <td>0.002067</td>\n",
       "      <td>0.0011</td>\n",
       "    </tr>\n",
       "    <tr>\n",
       "      <th>3</th>\n",
       "      <td>0.002168</td>\n",
       "      <td>0.0011</td>\n",
       "    </tr>\n",
       "    <tr>\n",
       "      <th>4</th>\n",
       "      <td>0.002102</td>\n",
       "      <td>0.0005</td>\n",
       "    </tr>\n",
       "    <tr>\n",
       "      <th>...</th>\n",
       "      <td>...</td>\n",
       "      <td>...</td>\n",
       "    </tr>\n",
       "    <tr>\n",
       "      <th>358</th>\n",
       "      <td>0.002346</td>\n",
       "      <td>0.0009</td>\n",
       "    </tr>\n",
       "    <tr>\n",
       "      <th>359</th>\n",
       "      <td>0.002482</td>\n",
       "      <td>0.0012</td>\n",
       "    </tr>\n",
       "    <tr>\n",
       "      <th>360</th>\n",
       "      <td>0.002828</td>\n",
       "      <td>0.0011</td>\n",
       "    </tr>\n",
       "    <tr>\n",
       "      <th>361</th>\n",
       "      <td>0.002665</td>\n",
       "      <td>0.0014</td>\n",
       "    </tr>\n",
       "    <tr>\n",
       "      <th>362</th>\n",
       "      <td>0.002437</td>\n",
       "      <td>0.0014</td>\n",
       "    </tr>\n",
       "  </tbody>\n",
       "</table>\n",
       "<p>363 rows × 2 columns</p>\n",
       "</div>"
      ],
      "text/plain": [
       "     Train Predictions  Actuals\n",
       "0             0.001813   0.0006\n",
       "1             0.001985   0.0009\n",
       "2             0.002067   0.0011\n",
       "3             0.002168   0.0011\n",
       "4             0.002102   0.0005\n",
       "..                 ...      ...\n",
       "358           0.002346   0.0009\n",
       "359           0.002482   0.0012\n",
       "360           0.002828   0.0011\n",
       "361           0.002665   0.0014\n",
       "362           0.002437   0.0014\n",
       "\n",
       "[363 rows x 2 columns]"
      ]
     },
     "execution_count": 789,
     "metadata": {},
     "output_type": "execute_result"
    }
   ],
   "source": [
    "test_results = pd.DataFrame(data={'Train Predictions':y_pred_future_test, 'Actuals':verificationYUnscaled})\n",
    "test_results"
   ]
  },
  {
   "cell_type": "code",
   "execution_count": 790,
   "id": "a510a805",
   "metadata": {
    "scrolled": false
   },
   "outputs": [
    {
     "data": {
      "text/plain": [
       "[<matplotlib.lines.Line2D at 0x2981b0165b0>]"
      ]
     },
     "execution_count": 790,
     "metadata": {},
     "output_type": "execute_result"
    },
    {
     "data": {
      "image/png": "[encoded data removed]",
      "text/plain": [
       "<Figure size 432x288 with 1 Axes>"
      ]
     },
     "metadata": {
      "needs_background": "light"
     },
     "output_type": "display_data"
    }
   ],
   "source": [
    "plt.plot(test_results['Train Predictions'][300:])\n",
    "plt.plot(test_results['Actuals'][300:])"
   ]
  },
  {
   "cell_type": "code",
   "execution_count": null,
   "id": "623082e6",
   "metadata": {},
   "outputs": [],
   "source": []
  },
  {
   "cell_type": "markdown",
   "id": "040b0dbd",
   "metadata": {},
   "source": [
    "# NO Modelling : 5"
   ]
  },
  {
   "cell_type": "code",
   "execution_count": 836,
   "id": "de2796c8",
   "metadata": {},
   "outputs": [
    {
     "name": "stdout",
     "output_type": "stream",
     "text": [
      "trainX shape == (4828, 3, 11).\n",
      "trainY shape == (4828, 1).\n",
      "testX shape == (1205, 3, 11).\n",
      "testY shape == (1205, 1).\n"
     ]
    }
   ],
   "source": [
    "trainX, trainY = to_sequences(train, 3, klangapi.shape[1], 5)\n",
    "testX, testY = to_sequences(test, 3, klangapi.shape[1], 5)\n",
    "\n",
    "print('trainX shape == {}.'.format(trainX.shape))\n",
    "print('trainY shape == {}.'.format(trainY.shape))\n",
    "\n",
    "print('testX shape == {}.'.format(testX.shape))\n",
    "print('testY shape == {}.'.format(testY.shape))"
   ]
  },
  {
   "cell_type": "code",
   "execution_count": 837,
   "id": "1d3cbfd7",
   "metadata": {},
   "outputs": [
    {
     "data": {
      "text/plain": [
       "True"
      ]
     },
     "execution_count": 837,
     "metadata": {},
     "output_type": "execute_result"
    }
   ],
   "source": [
    "trainY[0][0] == trainTestScaled[3][5]"
   ]
  },
  {
   "cell_type": "code",
   "execution_count": 838,
   "id": "933eda24",
   "metadata": {},
   "outputs": [
    {
     "name": "stdout",
     "output_type": "stream",
     "text": [
      "Model: \"sequential_46\"\n",
      "_________________________________________________________________\n",
      "Layer (type)                 Output Shape              Param #   \n",
      "=================================================================\n",
      "lstm_99 (LSTM)               (None, 3, 128)            71680     \n",
      "_________________________________________________________________\n",
      "lstm_100 (LSTM)              (None, 64)                49408     \n",
      "_________________________________________________________________\n",
      "dense_75 (Dense)             (None, 32)                2080      \n",
      "_________________________________________________________________\n",
      "dropout_40 (Dropout)         (None, 32)                0         \n",
      "_________________________________________________________________\n",
      "dense_76 (Dense)             (None, 1)                 33        \n",
      "=================================================================\n",
      "Total params: 123,201\n",
      "Trainable params: 123,201\n",
      "Non-trainable params: 0\n",
      "_________________________________________________________________\n"
     ]
    }
   ],
   "source": [
    "#trainX(number of rows, number of past days, number of features)\n",
    "#CO Modelling\n",
    "model=modelling(trainX.shape[1],trainX.shape[2]) \n",
    "model.summary()"
   ]
  },
  {
   "cell_type": "code",
   "execution_count": 839,
   "id": "84c630b3",
   "metadata": {},
   "outputs": [
    {
     "name": "stdout",
     "output_type": "stream",
     "text": [
      "Epoch 1/20\n",
      "604/604 [==============================] - 2s 3ms/step - loss: 0.0126 - val_loss: 0.0085\n",
      "Epoch 2/20\n",
      "604/604 [==============================] - 1s 2ms/step - loss: 0.0109 - val_loss: 0.0103\n",
      "Epoch 3/20\n",
      "604/604 [==============================] - 1s 2ms/step - loss: 0.0106 - val_loss: 0.0080\n",
      "Epoch 4/20\n",
      "604/604 [==============================] - 1s 2ms/step - loss: 0.0104 - val_loss: 0.0160\n",
      "Epoch 5/20\n",
      "604/604 [==============================] - 1s 2ms/step - loss: 0.0102 - val_loss: 0.0080\n",
      "Epoch 6/20\n",
      "604/604 [==============================] - 1s 2ms/step - loss: 0.0103 - val_loss: 0.0121\n",
      "Epoch 7/20\n",
      "604/604 [==============================] - 1s 2ms/step - loss: 0.0101 - val_loss: 0.0071\n",
      "Epoch 8/20\n",
      "604/604 [==============================] - 1s 2ms/step - loss: 0.0101 - val_loss: 0.0069\n",
      "Epoch 9/20\n",
      "604/604 [==============================] - 1s 2ms/step - loss: 0.0101 - val_loss: 0.0139\n",
      "Epoch 10/20\n",
      "604/604 [==============================] - 1s 2ms/step - loss: 0.0101 - val_loss: 0.0091\n",
      "Epoch 11/20\n",
      "604/604 [==============================] - 1s 2ms/step - loss: 0.0100 - val_loss: 0.0064\n",
      "Epoch 12/20\n",
      "604/604 [==============================] - 1s 2ms/step - loss: 0.0099 - val_loss: 0.0066\n",
      "Epoch 13/20\n",
      "604/604 [==============================] - 1s 2ms/step - loss: 0.0099 - val_loss: 0.0090\n",
      "Epoch 14/20\n",
      "604/604 [==============================] - 1s 2ms/step - loss: 0.0100 - val_loss: 0.0074\n",
      "Epoch 15/20\n",
      "604/604 [==============================] - 1s 2ms/step - loss: 0.0099 - val_loss: 0.0093\n",
      "Epoch 16/20\n",
      "604/604 [==============================] - 1s 2ms/step - loss: 0.0099 - val_loss: 0.0087\n",
      "Epoch 17/20\n",
      "604/604 [==============================] - 1s 2ms/step - loss: 0.0098 - val_loss: 0.0091\n",
      "Epoch 18/20\n",
      "604/604 [==============================] - 1s 2ms/step - loss: 0.0098 - val_loss: 0.0075\n",
      "Epoch 19/20\n",
      "604/604 [==============================] - 1s 2ms/step - loss: 0.0098 - val_loss: 0.0091\n",
      "Epoch 20/20\n",
      "604/604 [==============================] - 1s 2ms/step - loss: 0.0099 - val_loss: 0.0085\n"
     ]
    }
   ],
   "source": [
    "history = model.fit(trainX, trainY, epochs=20, batch_size=8, validation_data=(testX,testY), verbose=1)"
   ]
  },
  {
   "cell_type": "code",
   "execution_count": 840,
   "id": "d36ef982",
   "metadata": {},
   "outputs": [
    {
     "data": {
      "text/plain": [
       "<matplotlib.legend.Legend at 0x29814d56fd0>"
      ]
     },
     "execution_count": 840,
     "metadata": {},
     "output_type": "execute_result"
    },
    {
     "data": {
      "image/png": "[encoded data removed]",
      "text/plain": [
       "<Figure size 432x288 with 1 Axes>"
      ]
     },
     "metadata": {
      "needs_background": "light"
     },
     "output_type": "display_data"
    }
   ],
   "source": [
    "plt.plot(history.history['loss'], label='Training loss')\n",
    "plt.plot(history.history['val_loss'], label='Validation loss')\n",
    "plt.legend()"
   ]
  },
  {
   "cell_type": "code",
   "execution_count": null,
   "id": "d4f0d559",
   "metadata": {},
   "outputs": [],
   "source": [
    "prediction = model.predict(trainX)"
   ]
  },
  {
   "cell_type": "code",
   "execution_count": null,
   "id": "dd8e5c5b",
   "metadata": {},
   "outputs": [],
   "source": [
    "prediction_copies = np.repeat(prediction, klangapi.shape[1], axis=-1)\n",
    "y_pred_future = scaler.inverse_transform(prediction_copies)[:,5]\n",
    "y_pred_future.shape"
   ]
  },
  {
   "cell_type": "code",
   "execution_count": 798,
   "id": "48516f70",
   "metadata": {},
   "outputs": [
    {
     "data": {
      "text/plain": [
       "(4828,)"
      ]
     },
     "execution_count": 798,
     "metadata": {},
     "output_type": "execute_result"
    }
   ],
   "source": [
    "actualY = np.repeat(trainY, klangapi.shape[1], axis=-1)\n",
    "actualY = scaler.inverse_transform(actualY)[:,5]\n",
    "actualY.shape"
   ]
  },
  {
   "cell_type": "code",
   "execution_count": 799,
   "id": "0642ca74",
   "metadata": {},
   "outputs": [
    {
     "name": "stdout",
     "output_type": "stream",
     "text": [
      "RMSE : 0.09097798382107446.\n",
      "MAE : 0.00628572499964018.\n",
      "MAPE : 56.880078122120594.\n"
     ]
    }
   ],
   "source": [
    "rmse, mae, mape = performance_measure(actualY,y_pred_future)\n",
    "print('RMSE : {}.'.format(rmse))\n",
    "print('MAE : {}.'.format(mae))\n",
    "print('MAPE : {}.'.format(mape))"
   ]
  },
  {
   "cell_type": "code",
   "execution_count": 800,
   "id": "1dd4085a",
   "metadata": {},
   "outputs": [
    {
     "data": {
      "text/plain": [
       "[<matplotlib.lines.Line2D at 0x2980b2d2ca0>]"
      ]
     },
     "execution_count": 800,
     "metadata": {},
     "output_type": "execute_result"
    },
    {
     "data": {
      "image/png": "[encoded data removed]",
      "text/plain": [
       "<Figure size 432x288 with 1 Axes>"
      ]
     },
     "metadata": {
      "needs_background": "light"
     },
     "output_type": "display_data"
    }
   ],
   "source": [
    "train_results = pd.DataFrame(data={'Train Predictions':y_pred_future, 'Actuals':actualY})\n",
    "plt.plot(train_results['Train Predictions'][4500:4828])\n",
    "plt.plot(train_results['Actuals'][4500:4828])"
   ]
  },
  {
   "cell_type": "code",
   "execution_count": 801,
   "id": "d7a19124",
   "metadata": {},
   "outputs": [
    {
     "data": {
      "text/html": [
       "<div>\n",
       "<style scoped>\n",
       "    .dataframe tbody tr th:only-of-type {\n",
       "        vertical-align: middle;\n",
       "    }\n",
       "\n",
       "    .dataframe tbody tr th {\n",
       "        vertical-align: top;\n",
       "    }\n",
       "\n",
       "    .dataframe thead th {\n",
       "        text-align: right;\n",
       "    }\n",
       "</style>\n",
       "<table border=\"1\" class=\"dataframe\">\n",
       "  <thead>\n",
       "    <tr style=\"text-align: right;\">\n",
       "      <th></th>\n",
       "      <th>Train Predictions</th>\n",
       "      <th>Actuals</th>\n",
       "    </tr>\n",
       "  </thead>\n",
       "  <tbody>\n",
       "    <tr>\n",
       "      <th>0</th>\n",
       "      <td>0.025289</td>\n",
       "      <td>0.0506</td>\n",
       "    </tr>\n",
       "    <tr>\n",
       "      <th>1</th>\n",
       "      <td>0.032138</td>\n",
       "      <td>0.0305</td>\n",
       "    </tr>\n",
       "    <tr>\n",
       "      <th>2</th>\n",
       "      <td>0.020828</td>\n",
       "      <td>0.0229</td>\n",
       "    </tr>\n",
       "    <tr>\n",
       "      <th>3</th>\n",
       "      <td>0.026772</td>\n",
       "      <td>0.0487</td>\n",
       "    </tr>\n",
       "    <tr>\n",
       "      <th>4</th>\n",
       "      <td>0.034085</td>\n",
       "      <td>0.0105</td>\n",
       "    </tr>\n",
       "    <tr>\n",
       "      <th>...</th>\n",
       "      <td>...</td>\n",
       "      <td>...</td>\n",
       "    </tr>\n",
       "    <tr>\n",
       "      <th>4823</th>\n",
       "      <td>0.016028</td>\n",
       "      <td>0.0194</td>\n",
       "    </tr>\n",
       "    <tr>\n",
       "      <th>4824</th>\n",
       "      <td>0.018700</td>\n",
       "      <td>0.0086</td>\n",
       "    </tr>\n",
       "    <tr>\n",
       "      <th>4825</th>\n",
       "      <td>0.011653</td>\n",
       "      <td>0.0076</td>\n",
       "    </tr>\n",
       "    <tr>\n",
       "      <th>4826</th>\n",
       "      <td>0.012864</td>\n",
       "      <td>0.0121</td>\n",
       "    </tr>\n",
       "    <tr>\n",
       "      <th>4827</th>\n",
       "      <td>0.010722</td>\n",
       "      <td>0.0114</td>\n",
       "    </tr>\n",
       "  </tbody>\n",
       "</table>\n",
       "<p>4828 rows × 2 columns</p>\n",
       "</div>"
      ],
      "text/plain": [
       "      Train Predictions  Actuals\n",
       "0              0.025289   0.0506\n",
       "1              0.032138   0.0305\n",
       "2              0.020828   0.0229\n",
       "3              0.026772   0.0487\n",
       "4              0.034085   0.0105\n",
       "...                 ...      ...\n",
       "4823           0.016028   0.0194\n",
       "4824           0.018700   0.0086\n",
       "4825           0.011653   0.0076\n",
       "4826           0.012864   0.0121\n",
       "4827           0.010722   0.0114\n",
       "\n",
       "[4828 rows x 2 columns]"
      ]
     },
     "execution_count": 801,
     "metadata": {},
     "output_type": "execute_result"
    }
   ],
   "source": [
    "train_results"
   ]
  },
  {
   "cell_type": "markdown",
   "id": "1140b5bc",
   "metadata": {},
   "source": [
    "### Deploy on unseen data\n"
   ]
  },
  {
   "cell_type": "code",
   "execution_count": 802,
   "id": "de3c0f35",
   "metadata": {
    "scrolled": true
   },
   "outputs": [
    {
     "name": "stdout",
     "output_type": "stream",
     "text": [
      "verifyX shape == (363, 3, 11).\n",
      "verifyY shape == (363, 1).\n"
     ]
    }
   ],
   "source": [
    "verifyX, verifyY = to_sequences(verifyDeployScaled, 3, klangapi.shape[1], 5)\n",
    "print('verifyX shape == {}.'.format(verifyX.shape))\n",
    "print('verifyY shape == {}.'.format(verifyY.shape))"
   ]
  },
  {
   "cell_type": "code",
   "execution_count": 803,
   "id": "c30df02f",
   "metadata": {
    "scrolled": true
   },
   "outputs": [],
   "source": [
    "prediction = model.predict(verifyX)\n",
    "\n",
    "prediction_copies = np.repeat(prediction, klangapi.shape[1], axis=-1)\n",
    "y_pred_future_test = scaler.inverse_transform(prediction_copies)[:,6]\n",
    "\n",
    "verificationYRepeat = np.repeat(verifyY, klangapi.shape[1], axis=-1)\n",
    "verificationYUnscaled = scaler.inverse_transform(verificationYRepeat)[:,5]"
   ]
  },
  {
   "cell_type": "code",
   "execution_count": 804,
   "id": "156de6bf",
   "metadata": {},
   "outputs": [
    {
     "name": "stdout",
     "output_type": "stream",
     "text": [
      "RMSE : 0.06741604795161105.\n",
      "MAE : 0.0031600718736114904.\n",
      "MAPE : 42.984016082299746.\n"
     ]
    }
   ],
   "source": [
    "rmse, mae, mape = performance_measure(verificationYUnscaled,y_pred_future_test)\n",
    "print('RMSE : {}.'.format(rmse))\n",
    "print('MAE : {}.'.format(mae))\n",
    "print('MAPE : {}.'.format(mape))"
   ]
  },
  {
   "cell_type": "code",
   "execution_count": 805,
   "id": "4f66377d",
   "metadata": {
    "scrolled": true
   },
   "outputs": [
    {
     "data": {
      "text/html": [
       "<div>\n",
       "<style scoped>\n",
       "    .dataframe tbody tr th:only-of-type {\n",
       "        vertical-align: middle;\n",
       "    }\n",
       "\n",
       "    .dataframe tbody tr th {\n",
       "        vertical-align: top;\n",
       "    }\n",
       "\n",
       "    .dataframe thead th {\n",
       "        text-align: right;\n",
       "    }\n",
       "</style>\n",
       "<table border=\"1\" class=\"dataframe\">\n",
       "  <thead>\n",
       "    <tr style=\"text-align: right;\">\n",
       "      <th></th>\n",
       "      <th>Train Predictions</th>\n",
       "      <th>Actuals</th>\n",
       "    </tr>\n",
       "  </thead>\n",
       "  <tbody>\n",
       "    <tr>\n",
       "      <th>0</th>\n",
       "      <td>0.006444</td>\n",
       "      <td>0.0081</td>\n",
       "    </tr>\n",
       "    <tr>\n",
       "      <th>1</th>\n",
       "      <td>0.005068</td>\n",
       "      <td>0.0073</td>\n",
       "    </tr>\n",
       "    <tr>\n",
       "      <th>2</th>\n",
       "      <td>0.004780</td>\n",
       "      <td>0.0058</td>\n",
       "    </tr>\n",
       "    <tr>\n",
       "      <th>3</th>\n",
       "      <td>0.004769</td>\n",
       "      <td>0.0122</td>\n",
       "    </tr>\n",
       "    <tr>\n",
       "      <th>4</th>\n",
       "      <td>0.005466</td>\n",
       "      <td>0.0063</td>\n",
       "    </tr>\n",
       "    <tr>\n",
       "      <th>...</th>\n",
       "      <td>...</td>\n",
       "      <td>...</td>\n",
       "    </tr>\n",
       "    <tr>\n",
       "      <th>358</th>\n",
       "      <td>0.004924</td>\n",
       "      <td>0.0027</td>\n",
       "    </tr>\n",
       "    <tr>\n",
       "      <th>359</th>\n",
       "      <td>0.004955</td>\n",
       "      <td>0.0082</td>\n",
       "    </tr>\n",
       "    <tr>\n",
       "      <th>360</th>\n",
       "      <td>0.005610</td>\n",
       "      <td>0.0063</td>\n",
       "    </tr>\n",
       "    <tr>\n",
       "      <th>361</th>\n",
       "      <td>0.005752</td>\n",
       "      <td>0.0121</td>\n",
       "    </tr>\n",
       "    <tr>\n",
       "      <th>362</th>\n",
       "      <td>0.006339</td>\n",
       "      <td>0.0136</td>\n",
       "    </tr>\n",
       "  </tbody>\n",
       "</table>\n",
       "<p>363 rows × 2 columns</p>\n",
       "</div>"
      ],
      "text/plain": [
       "     Train Predictions  Actuals\n",
       "0             0.006444   0.0081\n",
       "1             0.005068   0.0073\n",
       "2             0.004780   0.0058\n",
       "3             0.004769   0.0122\n",
       "4             0.005466   0.0063\n",
       "..                 ...      ...\n",
       "358           0.004924   0.0027\n",
       "359           0.004955   0.0082\n",
       "360           0.005610   0.0063\n",
       "361           0.005752   0.0121\n",
       "362           0.006339   0.0136\n",
       "\n",
       "[363 rows x 2 columns]"
      ]
     },
     "execution_count": 805,
     "metadata": {},
     "output_type": "execute_result"
    }
   ],
   "source": [
    "test_results = pd.DataFrame(data={'Train Predictions':y_pred_future_test, 'Actuals':verificationYUnscaled})\n",
    "test_results"
   ]
  },
  {
   "cell_type": "code",
   "execution_count": 806,
   "id": "c06fbaf7",
   "metadata": {
    "scrolled": false
   },
   "outputs": [
    {
     "data": {
      "text/plain": [
       "[<matplotlib.lines.Line2D at 0x29849ab1310>]"
      ]
     },
     "execution_count": 806,
     "metadata": {},
     "output_type": "execute_result"
    },
    {
     "data": {
      "image/png": "[encoded data removed]",
      "text/plain": [
       "<Figure size 432x288 with 1 Axes>"
      ]
     },
     "metadata": {
      "needs_background": "light"
     },
     "output_type": "display_data"
    }
   ],
   "source": [
    "plt.plot(test_results['Train Predictions'][300:])\n",
    "plt.plot(test_results['Actuals'][300:])"
   ]
  },
  {
   "cell_type": "code",
   "execution_count": null,
   "id": "b8f80422",
   "metadata": {},
   "outputs": [],
   "source": []
  },
  {
   "cell_type": "markdown",
   "id": "1456f8aa",
   "metadata": {},
   "source": [
    "# NOX Modelling : 4"
   ]
  },
  {
   "cell_type": "code",
   "execution_count": 807,
   "id": "20739821",
   "metadata": {},
   "outputs": [
    {
     "name": "stdout",
     "output_type": "stream",
     "text": [
      "trainX shape == (4828, 3, 11).\n",
      "trainY shape == (4828, 1).\n",
      "testX shape == (1205, 3, 11).\n",
      "testY shape == (1205, 1).\n"
     ]
    }
   ],
   "source": [
    "trainX, trainY = to_sequences(train, 3, klangapi.shape[1], 4)\n",
    "testX, testY = to_sequences(test, 3, klangapi.shape[1], 4)\n",
    "\n",
    "print('trainX shape == {}.'.format(trainX.shape))\n",
    "print('trainY shape == {}.'.format(trainY.shape))\n",
    "\n",
    "print('testX shape == {}.'.format(testX.shape))\n",
    "print('testY shape == {}.'.format(testY.shape))"
   ]
  },
  {
   "cell_type": "code",
   "execution_count": 808,
   "id": "908babc1",
   "metadata": {},
   "outputs": [
    {
     "data": {
      "text/plain": [
       "True"
      ]
     },
     "execution_count": 808,
     "metadata": {},
     "output_type": "execute_result"
    }
   ],
   "source": [
    "trainY[0][0] == trainTestScaled[3][4]"
   ]
  },
  {
   "cell_type": "code",
   "execution_count": 809,
   "id": "fdd9cc12",
   "metadata": {},
   "outputs": [
    {
     "name": "stdout",
     "output_type": "stream",
     "text": [
      "Model: \"sequential_43\"\n",
      "_________________________________________________________________\n",
      "Layer (type)                 Output Shape              Param #   \n",
      "=================================================================\n",
      "lstm_93 (LSTM)               (None, 3, 128)            71680     \n",
      "_________________________________________________________________\n",
      "lstm_94 (LSTM)               (None, 64)                49408     \n",
      "_________________________________________________________________\n",
      "dense_69 (Dense)             (None, 32)                2080      \n",
      "_________________________________________________________________\n",
      "dropout_37 (Dropout)         (None, 32)                0         \n",
      "_________________________________________________________________\n",
      "dense_70 (Dense)             (None, 1)                 33        \n",
      "=================================================================\n",
      "Total params: 123,201\n",
      "Trainable params: 123,201\n",
      "Non-trainable params: 0\n",
      "_________________________________________________________________\n"
     ]
    }
   ],
   "source": [
    "#trainX(number of rows, number of past days, number of features)\n",
    "#CO Modelling\n",
    "model=modelling(trainX.shape[1],trainX.shape[2]) \n",
    "model.summary()"
   ]
  },
  {
   "cell_type": "code",
   "execution_count": 810,
   "id": "290f41d5",
   "metadata": {},
   "outputs": [
    {
     "name": "stdout",
     "output_type": "stream",
     "text": [
      "Epoch 1/20\n",
      "604/604 [==============================] - 2s 3ms/step - loss: 0.0132 - val_loss: 0.0074\n",
      "Epoch 2/20\n",
      "604/604 [==============================] - 1s 2ms/step - loss: 0.0113 - val_loss: 0.0084\n",
      "Epoch 3/20\n",
      "604/604 [==============================] - 1s 2ms/step - loss: 0.0108 - val_loss: 0.0066\n",
      "Epoch 4/20\n",
      "604/604 [==============================] - 1s 2ms/step - loss: 0.0107 - val_loss: 0.0166\n",
      "Epoch 5/20\n",
      "604/604 [==============================] - 1s 2ms/step - loss: 0.0104 - val_loss: 0.0095\n",
      "Epoch 6/20\n",
      "604/604 [==============================] - 1s 2ms/step - loss: 0.0104 - val_loss: 0.0124\n",
      "Epoch 7/20\n",
      "604/604 [==============================] - 1s 2ms/step - loss: 0.0103 - val_loss: 0.0078\n",
      "Epoch 8/20\n",
      "604/604 [==============================] - 1s 2ms/step - loss: 0.0102 - val_loss: 0.0069\n",
      "Epoch 9/20\n",
      "604/604 [==============================] - 1s 2ms/step - loss: 0.0102 - val_loss: 0.0131\n",
      "Epoch 10/20\n",
      "604/604 [==============================] - 1s 2ms/step - loss: 0.0102 - val_loss: 0.0102\n",
      "Epoch 11/20\n",
      "604/604 [==============================] - 1s 2ms/step - loss: 0.0101 - val_loss: 0.0064\n",
      "Epoch 12/20\n",
      "604/604 [==============================] - 1s 2ms/step - loss: 0.0100 - val_loss: 0.0065\n",
      "Epoch 13/20\n",
      "604/604 [==============================] - 1s 2ms/step - loss: 0.0100 - val_loss: 0.0092\n",
      "Epoch 14/20\n",
      "604/604 [==============================] - 1s 2ms/step - loss: 0.0100 - val_loss: 0.0078\n",
      "Epoch 15/20\n",
      "604/604 [==============================] - 1s 2ms/step - loss: 0.0100 - val_loss: 0.0093\n",
      "Epoch 16/20\n",
      "604/604 [==============================] - 1s 2ms/step - loss: 0.0099 - val_loss: 0.0086\n",
      "Epoch 17/20\n",
      "604/604 [==============================] - 1s 2ms/step - loss: 0.0098 - val_loss: 0.0085\n",
      "Epoch 18/20\n",
      "604/604 [==============================] - 1s 2ms/step - loss: 0.0098 - val_loss: 0.0082\n",
      "Epoch 19/20\n",
      "604/604 [==============================] - 1s 2ms/step - loss: 0.0098 - val_loss: 0.0085\n",
      "Epoch 20/20\n",
      "604/604 [==============================] - 1s 2ms/step - loss: 0.0098 - val_loss: 0.0080\n"
     ]
    }
   ],
   "source": [
    "history = model.fit(trainX, trainY, epochs=20, batch_size=8, validation_data=(testX,testY), verbose=1)"
   ]
  },
  {
   "cell_type": "code",
   "execution_count": 811,
   "id": "981cb4c9",
   "metadata": {},
   "outputs": [
    {
     "data": {
      "text/plain": [
       "<matplotlib.legend.Legend at 0x29803f02af0>"
      ]
     },
     "execution_count": 811,
     "metadata": {},
     "output_type": "execute_result"
    },
    {
     "data": {
      "image/png": "[encoded data removed]",
      "text/plain": [
       "<Figure size 432x288 with 1 Axes>"
      ]
     },
     "metadata": {
      "needs_background": "light"
     },
     "output_type": "display_data"
    }
   ],
   "source": [
    "plt.plot(history.history['loss'], label='Training loss')\n",
    "plt.plot(history.history['val_loss'], label='Validation loss')\n",
    "plt.legend()"
   ]
  },
  {
   "cell_type": "code",
   "execution_count": 812,
   "id": "e9762844",
   "metadata": {},
   "outputs": [],
   "source": [
    "prediction = model.predict(trainX)"
   ]
  },
  {
   "cell_type": "code",
   "execution_count": 813,
   "id": "16735b44",
   "metadata": {},
   "outputs": [
    {
     "data": {
      "text/plain": [
       "(4828,)"
      ]
     },
     "execution_count": 813,
     "metadata": {},
     "output_type": "execute_result"
    }
   ],
   "source": [
    "prediction_copies = np.repeat(prediction, klangapi.shape[1], axis=-1)\n",
    "y_pred_future = scaler.inverse_transform(prediction_copies)[:,4]\n",
    "y_pred_future.shape"
   ]
  },
  {
   "cell_type": "code",
   "execution_count": 814,
   "id": "a2851ccd",
   "metadata": {},
   "outputs": [
    {
     "data": {
      "text/plain": [
       "(4828,)"
      ]
     },
     "execution_count": 814,
     "metadata": {},
     "output_type": "execute_result"
    }
   ],
   "source": [
    "actualY = np.repeat(trainY, klangapi.shape[1], axis=-1)\n",
    "actualY = scaler.inverse_transform(actualY)[:,4]\n",
    "actualY.shape"
   ]
  },
  {
   "cell_type": "code",
   "execution_count": 815,
   "id": "2db329be",
   "metadata": {},
   "outputs": [
    {
     "name": "stdout",
     "output_type": "stream",
     "text": [
      "RMSE : 0.10875208988576765.\n",
      "MAE : 0.009238024539310198.\n",
      "MAPE : 27.41612345088797.\n"
     ]
    }
   ],
   "source": [
    "rmse, mae, mape = performance_measure(actualY,y_pred_future)\n",
    "print('RMSE : {}.'.format(rmse))\n",
    "print('MAE : {}.'.format(mae))\n",
    "print('MAPE : {}.'.format(mape))"
   ]
  },
  {
   "cell_type": "code",
   "execution_count": 816,
   "id": "e0b7080b",
   "metadata": {},
   "outputs": [
    {
     "data": {
      "text/plain": [
       "[<matplotlib.lines.Line2D at 0x2987a169580>]"
      ]
     },
     "execution_count": 816,
     "metadata": {},
     "output_type": "execute_result"
    },
    {
     "data": {
      "image/png": "[encoded data removed]",
      "text/plain": [
       "<Figure size 432x288 with 1 Axes>"
      ]
     },
     "metadata": {
      "needs_background": "light"
     },
     "output_type": "display_data"
    }
   ],
   "source": [
    "train_results = pd.DataFrame(data={'Train Predictions':y_pred_future, 'Actuals':actualY})\n",
    "plt.plot(train_results['Train Predictions'][4500:4828])\n",
    "plt.plot(train_results['Actuals'][4500:4828])"
   ]
  },
  {
   "cell_type": "code",
   "execution_count": 817,
   "id": "d0809146",
   "metadata": {
    "scrolled": true
   },
   "outputs": [
    {
     "data": {
      "text/html": [
       "<div>\n",
       "<style scoped>\n",
       "    .dataframe tbody tr th:only-of-type {\n",
       "        vertical-align: middle;\n",
       "    }\n",
       "\n",
       "    .dataframe tbody tr th {\n",
       "        vertical-align: top;\n",
       "    }\n",
       "\n",
       "    .dataframe thead th {\n",
       "        text-align: right;\n",
       "    }\n",
       "</style>\n",
       "<table border=\"1\" class=\"dataframe\">\n",
       "  <thead>\n",
       "    <tr style=\"text-align: right;\">\n",
       "      <th></th>\n",
       "      <th>Train Predictions</th>\n",
       "      <th>Actuals</th>\n",
       "    </tr>\n",
       "  </thead>\n",
       "  <tbody>\n",
       "    <tr>\n",
       "      <th>0</th>\n",
       "      <td>0.054375</td>\n",
       "      <td>0.0871</td>\n",
       "    </tr>\n",
       "    <tr>\n",
       "      <th>1</th>\n",
       "      <td>0.060227</td>\n",
       "      <td>0.0539</td>\n",
       "    </tr>\n",
       "    <tr>\n",
       "      <th>2</th>\n",
       "      <td>0.040846</td>\n",
       "      <td>0.0471</td>\n",
       "    </tr>\n",
       "    <tr>\n",
       "      <th>3</th>\n",
       "      <td>0.051442</td>\n",
       "      <td>0.0737</td>\n",
       "    </tr>\n",
       "    <tr>\n",
       "      <th>4</th>\n",
       "      <td>0.056502</td>\n",
       "      <td>0.0258</td>\n",
       "    </tr>\n",
       "    <tr>\n",
       "      <th>...</th>\n",
       "      <td>...</td>\n",
       "      <td>...</td>\n",
       "    </tr>\n",
       "    <tr>\n",
       "      <th>4823</th>\n",
       "      <td>0.040809</td>\n",
       "      <td>0.0450</td>\n",
       "    </tr>\n",
       "    <tr>\n",
       "      <th>4824</th>\n",
       "      <td>0.042433</td>\n",
       "      <td>0.0295</td>\n",
       "    </tr>\n",
       "    <tr>\n",
       "      <th>4825</th>\n",
       "      <td>0.033219</td>\n",
       "      <td>0.0235</td>\n",
       "    </tr>\n",
       "    <tr>\n",
       "      <th>4826</th>\n",
       "      <td>0.033165</td>\n",
       "      <td>0.0357</td>\n",
       "    </tr>\n",
       "    <tr>\n",
       "      <th>4827</th>\n",
       "      <td>0.032959</td>\n",
       "      <td>0.0333</td>\n",
       "    </tr>\n",
       "  </tbody>\n",
       "</table>\n",
       "<p>4828 rows × 2 columns</p>\n",
       "</div>"
      ],
      "text/plain": [
       "      Train Predictions  Actuals\n",
       "0              0.054375   0.0871\n",
       "1              0.060227   0.0539\n",
       "2              0.040846   0.0471\n",
       "3              0.051442   0.0737\n",
       "4              0.056502   0.0258\n",
       "...                 ...      ...\n",
       "4823           0.040809   0.0450\n",
       "4824           0.042433   0.0295\n",
       "4825           0.033219   0.0235\n",
       "4826           0.033165   0.0357\n",
       "4827           0.032959   0.0333\n",
       "\n",
       "[4828 rows x 2 columns]"
      ]
     },
     "execution_count": 817,
     "metadata": {},
     "output_type": "execute_result"
    }
   ],
   "source": [
    "train_results"
   ]
  },
  {
   "cell_type": "markdown",
   "id": "e3b18b39",
   "metadata": {},
   "source": [
    "### Deploy on unseen data\n"
   ]
  },
  {
   "cell_type": "code",
   "execution_count": 818,
   "id": "f2552f6f",
   "metadata": {
    "scrolled": true
   },
   "outputs": [
    {
     "name": "stdout",
     "output_type": "stream",
     "text": [
      "verifyX shape == (363, 3, 11).\n",
      "verifyY shape == (363, 1).\n"
     ]
    }
   ],
   "source": [
    "verifyX, verifyY = to_sequences(verifyDeployScaled, 3, klangapi.shape[1], 4)\n",
    "print('verifyX shape == {}.'.format(verifyX.shape))\n",
    "print('verifyY shape == {}.'.format(verifyY.shape))"
   ]
  },
  {
   "cell_type": "code",
   "execution_count": 819,
   "id": "3ac5dd3f",
   "metadata": {
    "scrolled": true
   },
   "outputs": [],
   "source": [
    "prediction = model.predict(verifyX)\n",
    "\n",
    "prediction_copies = np.repeat(prediction, klangapi.shape[1], axis=-1)\n",
    "y_pred_future_test = scaler.inverse_transform(prediction_copies)[:,4]\n",
    "\n",
    "verificationYRepeat = np.repeat(verifyY, klangapi.shape[1], axis=-1)\n",
    "verificationYUnscaled = scaler.inverse_transform(verificationYRepeat)[:,4]"
   ]
  },
  {
   "cell_type": "code",
   "execution_count": 820,
   "id": "f1b5eaad",
   "metadata": {},
   "outputs": [
    {
     "name": "stdout",
     "output_type": "stream",
     "text": [
      "RMSE : 0.11382817664430794.\n",
      "MAE : 0.011521334007751842.\n",
      "MAPE : 66.49709193013847.\n"
     ]
    }
   ],
   "source": [
    "rmse, mae, mape = performance_measure(verificationYUnscaled,y_pred_future_test)\n",
    "print('RMSE : {}.'.format(rmse))\n",
    "print('MAE : {}.'.format(mae))\n",
    "print('MAPE : {}.'.format(mape))"
   ]
  },
  {
   "cell_type": "code",
   "execution_count": 821,
   "id": "ea8952cd",
   "metadata": {
    "scrolled": true
   },
   "outputs": [
    {
     "data": {
      "text/html": [
       "<div>\n",
       "<style scoped>\n",
       "    .dataframe tbody tr th:only-of-type {\n",
       "        vertical-align: middle;\n",
       "    }\n",
       "\n",
       "    .dataframe tbody tr th {\n",
       "        vertical-align: top;\n",
       "    }\n",
       "\n",
       "    .dataframe thead th {\n",
       "        text-align: right;\n",
       "    }\n",
       "</style>\n",
       "<table border=\"1\" class=\"dataframe\">\n",
       "  <thead>\n",
       "    <tr style=\"text-align: right;\">\n",
       "      <th></th>\n",
       "      <th>Train Predictions</th>\n",
       "      <th>Actuals</th>\n",
       "    </tr>\n",
       "  </thead>\n",
       "  <tbody>\n",
       "    <tr>\n",
       "      <th>0</th>\n",
       "      <td>0.041384</td>\n",
       "      <td>0.0245</td>\n",
       "    </tr>\n",
       "    <tr>\n",
       "      <th>1</th>\n",
       "      <td>0.034832</td>\n",
       "      <td>0.0220</td>\n",
       "    </tr>\n",
       "    <tr>\n",
       "      <th>2</th>\n",
       "      <td>0.032534</td>\n",
       "      <td>0.0241</td>\n",
       "    </tr>\n",
       "    <tr>\n",
       "      <th>3</th>\n",
       "      <td>0.033611</td>\n",
       "      <td>0.0313</td>\n",
       "    </tr>\n",
       "    <tr>\n",
       "      <th>4</th>\n",
       "      <td>0.036143</td>\n",
       "      <td>0.0271</td>\n",
       "    </tr>\n",
       "    <tr>\n",
       "      <th>...</th>\n",
       "      <td>...</td>\n",
       "      <td>...</td>\n",
       "    </tr>\n",
       "    <tr>\n",
       "      <th>358</th>\n",
       "      <td>0.035448</td>\n",
       "      <td>0.0158</td>\n",
       "    </tr>\n",
       "    <tr>\n",
       "      <th>359</th>\n",
       "      <td>0.034447</td>\n",
       "      <td>0.0281</td>\n",
       "    </tr>\n",
       "    <tr>\n",
       "      <th>360</th>\n",
       "      <td>0.038519</td>\n",
       "      <td>0.0247</td>\n",
       "    </tr>\n",
       "    <tr>\n",
       "      <th>361</th>\n",
       "      <td>0.038709</td>\n",
       "      <td>0.0354</td>\n",
       "    </tr>\n",
       "    <tr>\n",
       "      <th>362</th>\n",
       "      <td>0.043164</td>\n",
       "      <td>0.0340</td>\n",
       "    </tr>\n",
       "  </tbody>\n",
       "</table>\n",
       "<p>363 rows × 2 columns</p>\n",
       "</div>"
      ],
      "text/plain": [
       "     Train Predictions  Actuals\n",
       "0             0.041384   0.0245\n",
       "1             0.034832   0.0220\n",
       "2             0.032534   0.0241\n",
       "3             0.033611   0.0313\n",
       "4             0.036143   0.0271\n",
       "..                 ...      ...\n",
       "358           0.035448   0.0158\n",
       "359           0.034447   0.0281\n",
       "360           0.038519   0.0247\n",
       "361           0.038709   0.0354\n",
       "362           0.043164   0.0340\n",
       "\n",
       "[363 rows x 2 columns]"
      ]
     },
     "execution_count": 821,
     "metadata": {},
     "output_type": "execute_result"
    }
   ],
   "source": [
    "test_results = pd.DataFrame(data={'Train Predictions':y_pred_future_test, 'Actuals':verificationYUnscaled})\n",
    "test_results"
   ]
  },
  {
   "cell_type": "code",
   "execution_count": 822,
   "id": "52dee336",
   "metadata": {
    "scrolled": false
   },
   "outputs": [
    {
     "data": {
      "text/plain": [
       "[<matplotlib.lines.Line2D at 0x2986f608550>]"
      ]
     },
     "execution_count": 822,
     "metadata": {},
     "output_type": "execute_result"
    },
    {
     "data": {
      "image/png": "[encoded data removed]",
      "text/plain": [
       "<Figure size 432x288 with 1 Axes>"
      ]
     },
     "metadata": {
      "needs_background": "light"
     },
     "output_type": "display_data"
    }
   ],
   "source": [
    "plt.plot(test_results['Train Predictions'][300:])\n",
    "plt.plot(test_results['Actuals'][300:])"
   ]
  },
  {
   "cell_type": "code",
   "execution_count": null,
   "id": "20142a22",
   "metadata": {},
   "outputs": [],
   "source": [
    "#no2 so2\n",
    "#train data mape 20-30\n",
    "#data 2020 mape 40>"
   ]
  },
  {
   "cell_type": "code",
   "execution_count": null,
   "id": "b7907846",
   "metadata": {},
   "outputs": [],
   "source": [
    "#hourly data\n",
    "#data 2019-2020 removed\n",
    "#training march 2017\n",
    "#verify 2018\n",
    "#1,2,3"
   ]
  },
  {
   "cell_type": "code",
   "execution_count": null,
   "id": "c85bc809",
   "metadata": {},
   "outputs": [],
   "source": []
  },
  {
   "cell_type": "code",
   "execution_count": null,
   "id": "63e404c6",
   "metadata": {},
   "outputs": [],
   "source": []
  },
  {
   "cell_type": "code",
   "execution_count": null,
   "id": "9f798c4c",
   "metadata": {},
   "outputs": [],
   "source": []
  },
  {
   "cell_type": "code",
   "execution_count": null,
   "id": "d350e190",
   "metadata": {},
   "outputs": [],
   "source": []
  },
  {
   "cell_type": "code",
   "execution_count": null,
   "id": "9003dfb4",
   "metadata": {},
   "outputs": [],
   "source": []
  },
  {
   "cell_type": "code",
   "execution_count": null,
   "id": "4a12a996",
   "metadata": {},
   "outputs": [],
   "source": []
  },
  {
   "cell_type": "code",
   "execution_count": null,
   "id": "c8934823",
   "metadata": {},
   "outputs": [],
   "source": []
  },
  {
   "cell_type": "code",
   "execution_count": null,
   "id": "bf7ef688",
   "metadata": {},
   "outputs": [],
   "source": []
  },
  {
   "cell_type": "code",
   "execution_count": null,
   "id": "f4f9cc33",
   "metadata": {},
   "outputs": [],
   "source": []
  },
  {
   "cell_type": "code",
   "execution_count": null,
   "id": "7834d49d",
   "metadata": {},
   "outputs": [],
   "source": []
  },
  {
   "cell_type": "code",
   "execution_count": null,
   "id": "890f76aa",
   "metadata": {},
   "outputs": [],
   "source": []
  },
  {
   "cell_type": "code",
   "execution_count": null,
   "id": "222a5a7c",
   "metadata": {},
   "outputs": [],
   "source": []
  }
 ],
 "metadata": {
  "kernelspec": {
   "display_name": "Python 3 (ipykernel)",
   "language": "python",
   "name": "python3"
  },
  "language_info": {
   "codemirror_mode": {
    "name": "ipython",
    "version": 3
   },
   "file_extension": ".py",
   "mimetype": "text/x-python",
   "name": "python",
   "nbconvert_exporter": "python",
   "pygments_lexer": "ipython3",
   "version": "3.8.8"
  }
 },
 "nbformat": 4,
 "nbformat_minor": 5
}
