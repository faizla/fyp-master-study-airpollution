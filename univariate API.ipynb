{
 "cells": [
  {
   "cell_type": "code",
   "execution_count": 750,
   "id": "dc144d70",
   "metadata": {},
   "outputs": [],
   "source": [
    "import tensorflow as tf\n",
    "import pandas as pd\n",
    "import numpy as np\n",
    "import math\n",
    "from sklearn.metrics import mean_squared_error\n",
    "from sklearn.metrics import mean_absolute_error\n",
    "from sklearn.metrics import mean_absolute_percentage_error"
   ]
  },
  {
   "cell_type": "code",
   "execution_count": 770,
   "id": "bc8d6484",
   "metadata": {},
   "outputs": [
    {
     "data": {
      "text/html": [
       "<div>\n",
       "<style scoped>\n",
       "    .dataframe tbody tr th:only-of-type {\n",
       "        vertical-align: middle;\n",
       "    }\n",
       "\n",
       "    .dataframe tbody tr th {\n",
       "        vertical-align: top;\n",
       "    }\n",
       "\n",
       "    .dataframe thead th {\n",
       "        text-align: right;\n",
       "    }\n",
       "</style>\n",
       "<table border=\"1\" class=\"dataframe\">\n",
       "  <thead>\n",
       "    <tr style=\"text-align: right;\">\n",
       "      <th></th>\n",
       "      <th>wind_speed</th>\n",
       "      <th>wind_direction</th>\n",
       "      <th>temperature</th>\n",
       "      <th>relative_humidity</th>\n",
       "      <th>nox</th>\n",
       "      <th>no</th>\n",
       "      <th>so2</th>\n",
       "      <th>no2</th>\n",
       "      <th>o3</th>\n",
       "      <th>co</th>\n",
       "      <th>pm10</th>\n",
       "    </tr>\n",
       "    <tr>\n",
       "      <th>date</th>\n",
       "      <th></th>\n",
       "      <th></th>\n",
       "      <th></th>\n",
       "      <th></th>\n",
       "      <th></th>\n",
       "      <th></th>\n",
       "      <th></th>\n",
       "      <th></th>\n",
       "      <th></th>\n",
       "      <th></th>\n",
       "      <th></th>\n",
       "    </tr>\n",
       "  </thead>\n",
       "  <tbody>\n",
       "    <tr>\n",
       "      <th>2002-10-01</th>\n",
       "      <td>4.2125</td>\n",
       "      <td>170.1875</td>\n",
       "      <td>27.3729</td>\n",
       "      <td>72.7500</td>\n",
       "      <td>0.0751</td>\n",
       "      <td>0.0409</td>\n",
       "      <td>0.0097</td>\n",
       "      <td>0.0342</td>\n",
       "      <td>0.0241</td>\n",
       "      <td>2.3044</td>\n",
       "      <td>108.6875</td>\n",
       "    </tr>\n",
       "    <tr>\n",
       "      <th>2002-10-02</th>\n",
       "      <td>4.9542</td>\n",
       "      <td>111.8750</td>\n",
       "      <td>27.4375</td>\n",
       "      <td>72.8333</td>\n",
       "      <td>0.0601</td>\n",
       "      <td>0.0247</td>\n",
       "      <td>0.0077</td>\n",
       "      <td>0.0354</td>\n",
       "      <td>0.0203</td>\n",
       "      <td>1.7673</td>\n",
       "      <td>108.3333</td>\n",
       "    </tr>\n",
       "    <tr>\n",
       "      <th>2002-10-03</th>\n",
       "      <td>5.0542</td>\n",
       "      <td>123.2083</td>\n",
       "      <td>26.8250</td>\n",
       "      <td>77.0833</td>\n",
       "      <td>0.0610</td>\n",
       "      <td>0.0261</td>\n",
       "      <td>0.0119</td>\n",
       "      <td>0.0349</td>\n",
       "      <td>0.0191</td>\n",
       "      <td>1.7481</td>\n",
       "      <td>99.9583</td>\n",
       "    </tr>\n",
       "    <tr>\n",
       "      <th>2002-10-04</th>\n",
       "      <td>3.6958</td>\n",
       "      <td>134.3750</td>\n",
       "      <td>26.4875</td>\n",
       "      <td>79.2500</td>\n",
       "      <td>0.0871</td>\n",
       "      <td>0.0506</td>\n",
       "      <td>0.0121</td>\n",
       "      <td>0.0366</td>\n",
       "      <td>0.0191</td>\n",
       "      <td>2.4892</td>\n",
       "      <td>116.6250</td>\n",
       "    </tr>\n",
       "    <tr>\n",
       "      <th>2002-10-05</th>\n",
       "      <td>4.4708</td>\n",
       "      <td>188.9167</td>\n",
       "      <td>26.4750</td>\n",
       "      <td>80.3333</td>\n",
       "      <td>0.0539</td>\n",
       "      <td>0.0305</td>\n",
       "      <td>0.0072</td>\n",
       "      <td>0.0234</td>\n",
       "      <td>0.0165</td>\n",
       "      <td>1.7731</td>\n",
       "      <td>94.9583</td>\n",
       "    </tr>\n",
       "    <tr>\n",
       "      <th>...</th>\n",
       "      <td>...</td>\n",
       "      <td>...</td>\n",
       "      <td>...</td>\n",
       "      <td>...</td>\n",
       "      <td>...</td>\n",
       "      <td>...</td>\n",
       "      <td>...</td>\n",
       "      <td>...</td>\n",
       "      <td>...</td>\n",
       "      <td>...</td>\n",
       "      <td>...</td>\n",
       "    </tr>\n",
       "    <tr>\n",
       "      <th>2020-12-27</th>\n",
       "      <td>1.1170</td>\n",
       "      <td>122.5417</td>\n",
       "      <td>27.7175</td>\n",
       "      <td>83.7624</td>\n",
       "      <td>0.0158</td>\n",
       "      <td>0.0027</td>\n",
       "      <td>0.0009</td>\n",
       "      <td>0.0130</td>\n",
       "      <td>0.0223</td>\n",
       "      <td>0.6674</td>\n",
       "      <td>19.1635</td>\n",
       "    </tr>\n",
       "    <tr>\n",
       "      <th>2020-12-28</th>\n",
       "      <td>0.8107</td>\n",
       "      <td>179.2917</td>\n",
       "      <td>27.5274</td>\n",
       "      <td>86.2811</td>\n",
       "      <td>0.0281</td>\n",
       "      <td>0.0082</td>\n",
       "      <td>0.0012</td>\n",
       "      <td>0.0199</td>\n",
       "      <td>0.0159</td>\n",
       "      <td>0.8996</td>\n",
       "      <td>34.3774</td>\n",
       "    </tr>\n",
       "    <tr>\n",
       "      <th>2020-12-29</th>\n",
       "      <td>1.1680</td>\n",
       "      <td>162.0000</td>\n",
       "      <td>27.1210</td>\n",
       "      <td>87.1327</td>\n",
       "      <td>0.0247</td>\n",
       "      <td>0.0063</td>\n",
       "      <td>0.0011</td>\n",
       "      <td>0.0184</td>\n",
       "      <td>0.0133</td>\n",
       "      <td>0.8214</td>\n",
       "      <td>23.4586</td>\n",
       "    </tr>\n",
       "    <tr>\n",
       "      <th>2020-12-30</th>\n",
       "      <td>1.2642</td>\n",
       "      <td>138.1250</td>\n",
       "      <td>27.5433</td>\n",
       "      <td>84.2922</td>\n",
       "      <td>0.0354</td>\n",
       "      <td>0.0121</td>\n",
       "      <td>0.0014</td>\n",
       "      <td>0.0233</td>\n",
       "      <td>0.0135</td>\n",
       "      <td>1.0505</td>\n",
       "      <td>26.0311</td>\n",
       "    </tr>\n",
       "    <tr>\n",
       "      <th>2020-12-31</th>\n",
       "      <td>1.2180</td>\n",
       "      <td>158.1667</td>\n",
       "      <td>27.5748</td>\n",
       "      <td>83.7281</td>\n",
       "      <td>0.0340</td>\n",
       "      <td>0.0136</td>\n",
       "      <td>0.0014</td>\n",
       "      <td>0.0203</td>\n",
       "      <td>0.0151</td>\n",
       "      <td>1.0570</td>\n",
       "      <td>36.1911</td>\n",
       "    </tr>\n",
       "  </tbody>\n",
       "</table>\n",
       "<p>6405 rows × 11 columns</p>\n",
       "</div>"
      ],
      "text/plain": [
       "            wind_speed  wind_direction  temperature  relative_humidity  \\\n",
       "date                                                                     \n",
       "2002-10-01      4.2125        170.1875      27.3729            72.7500   \n",
       "2002-10-02      4.9542        111.8750      27.4375            72.8333   \n",
       "2002-10-03      5.0542        123.2083      26.8250            77.0833   \n",
       "2002-10-04      3.6958        134.3750      26.4875            79.2500   \n",
       "2002-10-05      4.4708        188.9167      26.4750            80.3333   \n",
       "...                ...             ...          ...                ...   \n",
       "2020-12-27      1.1170        122.5417      27.7175            83.7624   \n",
       "2020-12-28      0.8107        179.2917      27.5274            86.2811   \n",
       "2020-12-29      1.1680        162.0000      27.1210            87.1327   \n",
       "2020-12-30      1.2642        138.1250      27.5433            84.2922   \n",
       "2020-12-31      1.2180        158.1667      27.5748            83.7281   \n",
       "\n",
       "               nox      no     so2     no2      o3      co      pm10  \n",
       "date                                                                  \n",
       "2002-10-01  0.0751  0.0409  0.0097  0.0342  0.0241  2.3044  108.6875  \n",
       "2002-10-02  0.0601  0.0247  0.0077  0.0354  0.0203  1.7673  108.3333  \n",
       "2002-10-03  0.0610  0.0261  0.0119  0.0349  0.0191  1.7481   99.9583  \n",
       "2002-10-04  0.0871  0.0506  0.0121  0.0366  0.0191  2.4892  116.6250  \n",
       "2002-10-05  0.0539  0.0305  0.0072  0.0234  0.0165  1.7731   94.9583  \n",
       "...            ...     ...     ...     ...     ...     ...       ...  \n",
       "2020-12-27  0.0158  0.0027  0.0009  0.0130  0.0223  0.6674   19.1635  \n",
       "2020-12-28  0.0281  0.0082  0.0012  0.0199  0.0159  0.8996   34.3774  \n",
       "2020-12-29  0.0247  0.0063  0.0011  0.0184  0.0133  0.8214   23.4586  \n",
       "2020-12-30  0.0354  0.0121  0.0014  0.0233  0.0135  1.0505   26.0311  \n",
       "2020-12-31  0.0340  0.0136  0.0014  0.0203  0.0151  1.0570   36.1911  \n",
       "\n",
       "[6405 rows x 11 columns]"
      ]
     },
     "execution_count": 770,
     "metadata": {},
     "output_type": "execute_result"
    }
   ],
   "source": [
    "# klangapi = pd.read_csv('klangapiCleanedHourly.csv')\n",
    "\n",
    "klangapi = pd.read_csv('klangapiCleanedDailyMean.csv')\n",
    "klangapi=klangapi.replace(0.0000,np.NaN)\n",
    "#klangapi[(klangapi == 0.0).any(axis=1)]\n",
    "klangapi.interpolate(method ='linear', limit_direction ='forward', inplace=True)\n",
    "\n",
    "#change data type \"date\" from object to actual date for easy analysis\n",
    "klangapi['date']=pd.to_datetime(klangapi['date'])\n",
    "#set index to date\n",
    "klangapi.set_index('date',inplace=True)\n",
    "\n",
    "klangapi"
   ]
  },
  {
   "cell_type": "code",
   "execution_count": 771,
   "id": "9eb0a30a",
   "metadata": {},
   "outputs": [],
   "source": [
    "trainTest=klangapi.loc['2002-01-01':'2017-03-31'].copy() #2002-2017/3/31\n",
    "verifyDeploy=klangapi.loc['2018-01-01':'2018-12-31'].copy() #2018"
   ]
  },
  {
   "cell_type": "code",
   "execution_count": 772,
   "id": "3c574333",
   "metadata": {},
   "outputs": [
    {
     "data": {
      "text/plain": [
       "((5296, 11), (365, 11))"
      ]
     },
     "execution_count": 772,
     "metadata": {},
     "output_type": "execute_result"
    }
   ],
   "source": [
    "trainTest.shape,verifyDeploy.shape"
   ]
  },
  {
   "cell_type": "code",
   "execution_count": 773,
   "id": "8a9ebd25",
   "metadata": {},
   "outputs": [
    {
     "data": {
      "text/plain": [
       "(5296,)"
      ]
     },
     "execution_count": 773,
     "metadata": {},
     "output_type": "execute_result"
    }
   ],
   "source": [
    "klangapiPM10 = trainTest['so2']\n",
    "klangapiPM10.shape"
   ]
  },
  {
   "cell_type": "code",
   "execution_count": 774,
   "id": "9dbcd977",
   "metadata": {},
   "outputs": [],
   "source": [
    "# #splitting dataset into train and test split\n",
    "# training_size=int(len(klangapiPM10)*0.90)\n",
    "# test_size=len(klangapiPM10)-training_size\n",
    "# train,test = klangapiPM10[0:training_size],klangapiPM10[training_size:len(klangapiPM10)]\n",
    "# train.shape,test.shape"
   ]
  },
  {
   "cell_type": "code",
   "execution_count": 775,
   "id": "8ad1ea0d",
   "metadata": {},
   "outputs": [],
   "source": [
    "# [[[1], [2], [3], [4], [5]]] [6]\n",
    "# [[[2], [3], [4], [5], [6]]] [7]\n",
    "# [[[3], [4], [5], [6], [7]]] [8]\n",
    "\n",
    "\n",
    "def df_to_X_y(df, window_size=5):\n",
    "    df_as_np = df.to_numpy()\n",
    "    X = []\n",
    "    y = []\n",
    "    for i in range(len(df_as_np)-window_size):\n",
    "        row = [[a] for a in df_as_np[i:i+window_size]]\n",
    "        X.append(row)\n",
    "        label = df_as_np[i+window_size]\n",
    "        y.append(label)\n",
    "    return np.array(X), np.array(y)\n",
    "\n",
    "def performance_measure(actual,pred) :\n",
    "    rmse=math.sqrt(mean_squared_error(actual,pred, squared=False))\n",
    "    mae=mean_absolute_error(actual, pred)\n",
    "    mape=mean_absolute_percentage_error(actual, pred)*100\n",
    "    return rmse,mae,mape"
   ]
  },
  {
   "cell_type": "code",
   "execution_count": 776,
   "id": "39347d8a",
   "metadata": {},
   "outputs": [
    {
     "data": {
      "text/plain": [
       "((5293, 3, 1), (5293,))"
      ]
     },
     "execution_count": 776,
     "metadata": {},
     "output_type": "execute_result"
    }
   ],
   "source": [
    "WINDOW_SIZE = 3\n",
    "X1, y1 = df_to_X_y(klangapiPM10, WINDOW_SIZE)\n",
    "X1.shape, y1.shape"
   ]
  },
  {
   "cell_type": "code",
   "execution_count": 777,
   "id": "58d9e974",
   "metadata": {},
   "outputs": [
    {
     "data": {
      "text/plain": [
       "((4763, 3, 1), (530, 3, 1))"
      ]
     },
     "execution_count": 777,
     "metadata": {},
     "output_type": "execute_result"
    }
   ],
   "source": [
    "##splitting dataset into train and test split\n",
    "training_size=int(len(X1)*0.90)\n",
    "test_size=len(X1)-training_size\n",
    "X_train1, y_train1 = X1[:training_size], y1[:training_size]\n",
    "X_test1, y_test1 = X1[training_size:], y1[training_size:]\n",
    "X_train1.shape,X_test1.shape"
   ]
  },
  {
   "cell_type": "code",
   "execution_count": 778,
   "id": "fca3ea43",
   "metadata": {},
   "outputs": [
    {
     "name": "stdout",
     "output_type": "stream",
     "text": [
      "Model: \"sequential_32\"\n",
      "_________________________________________________________________\n",
      "Layer (type)                 Output Shape              Param #   \n",
      "=================================================================\n",
      "lstm_31 (LSTM)               (None, 64)                16896     \n",
      "_________________________________________________________________\n",
      "dense_60 (Dense)             (None, 8)                 520       \n",
      "_________________________________________________________________\n",
      "dense_61 (Dense)             (None, 1)                 9         \n",
      "=================================================================\n",
      "Total params: 17,425\n",
      "Trainable params: 17,425\n",
      "Non-trainable params: 0\n",
      "_________________________________________________________________\n"
     ]
    }
   ],
   "source": [
    "from tensorflow.keras.models import Sequential\n",
    "from tensorflow.keras.layers import *\n",
    "from tensorflow.keras.callbacks import ModelCheckpoint\n",
    "from tensorflow.keras.losses import MeanSquaredError\n",
    "from tensorflow.keras.metrics import RootMeanSquaredError\n",
    "from tensorflow.keras.optimizers import Adam\n",
    "\n",
    "model1 = Sequential()\n",
    "model1.add(InputLayer((3, 1)))\n",
    "model1.add(LSTM(64))\n",
    "model1.add(Dense(8, 'relu'))\n",
    "model1.add(Dense(1, 'linear'))\n",
    "\n",
    "model1.summary()"
   ]
  },
  {
   "cell_type": "code",
   "execution_count": 779,
   "id": "88527231",
   "metadata": {
    "scrolled": true
   },
   "outputs": [
    {
     "name": "stdout",
     "output_type": "stream",
     "text": [
      "Epoch 1/10\n",
      "149/149 [==============================] - 0s 3ms/step - loss: 7.5775e-06 - mse: 7.5775e-06 - val_loss: 4.1797e-06 - val_mse: 4.1797e-06\n",
      "Epoch 2/10\n",
      "149/149 [==============================] - 0s 1ms/step - loss: 6.3885e-06 - mse: 6.3885e-06 - val_loss: 3.8910e-06 - val_mse: 3.8910e-06\n",
      "Epoch 3/10\n",
      "149/149 [==============================] - 0s 1ms/step - loss: 6.1785e-06 - mse: 6.1785e-06 - val_loss: 3.5179e-06 - val_mse: 3.5179e-06\n",
      "Epoch 4/10\n",
      "149/149 [==============================] - 0s 1ms/step - loss: 5.9254e-06 - mse: 5.9254e-06 - val_loss: 3.7065e-06 - val_mse: 3.7065e-06\n",
      "Epoch 5/10\n",
      "149/149 [==============================] - 0s 1ms/step - loss: 5.7248e-06 - mse: 5.7248e-06 - val_loss: 3.4800e-06 - val_mse: 3.4800e-06\n",
      "Epoch 6/10\n",
      "149/149 [==============================] - 0s 1ms/step - loss: 5.5292e-06 - mse: 5.5292e-06 - val_loss: 2.9820e-06 - val_mse: 2.9820e-06\n",
      "Epoch 7/10\n",
      "149/149 [==============================] - 0s 1ms/step - loss: 5.3184e-06 - mse: 5.3184e-06 - val_loss: 3.5156e-06 - val_mse: 3.5156e-06\n",
      "Epoch 8/10\n",
      "149/149 [==============================] - 0s 1ms/step - loss: 5.1408e-06 - mse: 5.1408e-06 - val_loss: 3.5696e-06 - val_mse: 3.5696e-06\n",
      "Epoch 9/10\n",
      "149/149 [==============================] - 0s 1ms/step - loss: 5.0108e-06 - mse: 5.0108e-06 - val_loss: 3.5387e-06 - val_mse: 3.5387e-06\n",
      "Epoch 10/10\n",
      "149/149 [==============================] - 0s 1ms/step - loss: 4.7759e-06 - mse: 4.7759e-06 - val_loss: 2.7563e-06 - val_mse: 2.7563e-06\n"
     ]
    },
    {
     "data": {
      "text/plain": [
       "<tensorflow.python.keras.callbacks.History at 0x2bbd7f1b730>"
      ]
     },
     "execution_count": 779,
     "metadata": {},
     "output_type": "execute_result"
    }
   ],
   "source": [
    "model1.compile(loss=MeanSquaredError(), optimizer=Adam(learning_rate=0.0001), metrics='mse')\n",
    "model1.fit(X_train1, y_train1, validation_data=(X_test1, y_test1), epochs=10)"
   ]
  },
  {
   "cell_type": "code",
   "execution_count": 780,
   "id": "c823b141",
   "metadata": {},
   "outputs": [
    {
     "data": {
      "text/html": [
       "<div>\n",
       "<style scoped>\n",
       "    .dataframe tbody tr th:only-of-type {\n",
       "        vertical-align: middle;\n",
       "    }\n",
       "\n",
       "    .dataframe tbody tr th {\n",
       "        vertical-align: top;\n",
       "    }\n",
       "\n",
       "    .dataframe thead th {\n",
       "        text-align: right;\n",
       "    }\n",
       "</style>\n",
       "<table border=\"1\" class=\"dataframe\">\n",
       "  <thead>\n",
       "    <tr style=\"text-align: right;\">\n",
       "      <th></th>\n",
       "      <th>Train Predictions</th>\n",
       "      <th>Actuals</th>\n",
       "    </tr>\n",
       "  </thead>\n",
       "  <tbody>\n",
       "    <tr>\n",
       "      <th>0</th>\n",
       "      <td>0.006672</td>\n",
       "      <td>0.0121</td>\n",
       "    </tr>\n",
       "    <tr>\n",
       "      <th>1</th>\n",
       "      <td>0.007030</td>\n",
       "      <td>0.0072</td>\n",
       "    </tr>\n",
       "    <tr>\n",
       "      <th>2</th>\n",
       "      <td>0.006794</td>\n",
       "      <td>0.0074</td>\n",
       "    </tr>\n",
       "    <tr>\n",
       "      <th>3</th>\n",
       "      <td>0.006197</td>\n",
       "      <td>0.0089</td>\n",
       "    </tr>\n",
       "    <tr>\n",
       "      <th>4</th>\n",
       "      <td>0.005890</td>\n",
       "      <td>0.0071</td>\n",
       "    </tr>\n",
       "    <tr>\n",
       "      <th>...</th>\n",
       "      <td>...</td>\n",
       "      <td>...</td>\n",
       "    </tr>\n",
       "    <tr>\n",
       "      <th>4758</th>\n",
       "      <td>0.004378</td>\n",
       "      <td>0.0029</td>\n",
       "    </tr>\n",
       "    <tr>\n",
       "      <th>4759</th>\n",
       "      <td>0.004205</td>\n",
       "      <td>0.0044</td>\n",
       "    </tr>\n",
       "    <tr>\n",
       "      <th>4760</th>\n",
       "      <td>0.004301</td>\n",
       "      <td>0.0050</td>\n",
       "    </tr>\n",
       "    <tr>\n",
       "      <th>4761</th>\n",
       "      <td>0.004408</td>\n",
       "      <td>0.0056</td>\n",
       "    </tr>\n",
       "    <tr>\n",
       "      <th>4762</th>\n",
       "      <td>0.004750</td>\n",
       "      <td>0.0068</td>\n",
       "    </tr>\n",
       "  </tbody>\n",
       "</table>\n",
       "<p>4763 rows × 2 columns</p>\n",
       "</div>"
      ],
      "text/plain": [
       "      Train Predictions  Actuals\n",
       "0              0.006672   0.0121\n",
       "1              0.007030   0.0072\n",
       "2              0.006794   0.0074\n",
       "3              0.006197   0.0089\n",
       "4              0.005890   0.0071\n",
       "...                 ...      ...\n",
       "4758           0.004378   0.0029\n",
       "4759           0.004205   0.0044\n",
       "4760           0.004301   0.0050\n",
       "4761           0.004408   0.0056\n",
       "4762           0.004750   0.0068\n",
       "\n",
       "[4763 rows x 2 columns]"
      ]
     },
     "execution_count": 780,
     "metadata": {},
     "output_type": "execute_result"
    }
   ],
   "source": [
    "train_predictions = model1.predict(X_train1).flatten()\n",
    "train_results = pd.DataFrame(data={'Train Predictions':train_predictions, 'Actuals':y_train1})\n",
    "train_results"
   ]
  },
  {
   "cell_type": "code",
   "execution_count": 781,
   "id": "5ee5bc99",
   "metadata": {},
   "outputs": [
    {
     "data": {
      "text/plain": [
       "(0.046593767229529764, 0.0015381518676945067, 39.150030943060074)"
      ]
     },
     "execution_count": 781,
     "metadata": {},
     "output_type": "execute_result"
    }
   ],
   "source": [
    "performance_measure(y_train1,train_predictions)"
   ]
  },
  {
   "cell_type": "code",
   "execution_count": 782,
   "id": "204013cf",
   "metadata": {
    "scrolled": false
   },
   "outputs": [
    {
     "data": {
      "text/plain": [
       "[<matplotlib.lines.Line2D at 0x2bbfdcc5f40>]"
      ]
     },
     "execution_count": 782,
     "metadata": {},
     "output_type": "execute_result"
    },
    {
     "data": {
      "image/png": "[encoded data removed]",
      "text/plain": [
       "<Figure size 432x288 with 1 Axes>"
      ]
     },
     "metadata": {
      "needs_background": "light"
     },
     "output_type": "display_data"
    }
   ],
   "source": [
    "import matplotlib.pyplot as plt\n",
    "plt.plot(train_results['Actuals'][:])\n",
    "plt.plot(train_results['Train Predictions'][:])"
   ]
  },
  {
   "cell_type": "code",
   "execution_count": null,
   "id": "f72db30a",
   "metadata": {},
   "outputs": [],
   "source": []
  },
  {
   "cell_type": "code",
   "execution_count": 783,
   "id": "3bad3e91",
   "metadata": {},
   "outputs": [
    {
     "data": {
      "text/plain": [
       "(365,)"
      ]
     },
     "execution_count": 783,
     "metadata": {},
     "output_type": "execute_result"
    }
   ],
   "source": [
    "klangapiPM10 = verifyDeploy['so2']\n",
    "klangapiPM10.shape"
   ]
  },
  {
   "cell_type": "code",
   "execution_count": 784,
   "id": "32d5556f",
   "metadata": {},
   "outputs": [
    {
     "data": {
      "text/plain": [
       "((362, 3, 1), (362,))"
      ]
     },
     "execution_count": 784,
     "metadata": {},
     "output_type": "execute_result"
    }
   ],
   "source": [
    "WINDOW_SIZE = 3\n",
    "X1, y1 = df_to_X_y(klangapiPM10, WINDOW_SIZE)\n",
    "X1.shape, y1.shape"
   ]
  },
  {
   "cell_type": "code",
   "execution_count": 785,
   "id": "10d1b5e1",
   "metadata": {},
   "outputs": [
    {
     "data": {
      "text/html": [
       "<div>\n",
       "<style scoped>\n",
       "    .dataframe tbody tr th:only-of-type {\n",
       "        vertical-align: middle;\n",
       "    }\n",
       "\n",
       "    .dataframe tbody tr th {\n",
       "        vertical-align: top;\n",
       "    }\n",
       "\n",
       "    .dataframe thead th {\n",
       "        text-align: right;\n",
       "    }\n",
       "</style>\n",
       "<table border=\"1\" class=\"dataframe\">\n",
       "  <thead>\n",
       "    <tr style=\"text-align: right;\">\n",
       "      <th></th>\n",
       "      <th>Val Predictions</th>\n",
       "      <th>Actuals</th>\n",
       "    </tr>\n",
       "  </thead>\n",
       "  <tbody>\n",
       "    <tr>\n",
       "      <th>0</th>\n",
       "      <td>0.003136</td>\n",
       "      <td>0.0017</td>\n",
       "    </tr>\n",
       "    <tr>\n",
       "      <th>1</th>\n",
       "      <td>0.003212</td>\n",
       "      <td>0.0020</td>\n",
       "    </tr>\n",
       "    <tr>\n",
       "      <th>2</th>\n",
       "      <td>0.003354</td>\n",
       "      <td>0.0017</td>\n",
       "    </tr>\n",
       "    <tr>\n",
       "      <th>3</th>\n",
       "      <td>0.003451</td>\n",
       "      <td>0.0017</td>\n",
       "    </tr>\n",
       "    <tr>\n",
       "      <th>4</th>\n",
       "      <td>0.003446</td>\n",
       "      <td>0.0016</td>\n",
       "    </tr>\n",
       "    <tr>\n",
       "      <th>...</th>\n",
       "      <td>...</td>\n",
       "      <td>...</td>\n",
       "    </tr>\n",
       "    <tr>\n",
       "      <th>357</th>\n",
       "      <td>0.003548</td>\n",
       "      <td>0.0032</td>\n",
       "    </tr>\n",
       "    <tr>\n",
       "      <th>358</th>\n",
       "      <td>0.003746</td>\n",
       "      <td>0.0018</td>\n",
       "    </tr>\n",
       "    <tr>\n",
       "      <th>359</th>\n",
       "      <td>0.003580</td>\n",
       "      <td>0.0017</td>\n",
       "    </tr>\n",
       "    <tr>\n",
       "      <th>360</th>\n",
       "      <td>0.003596</td>\n",
       "      <td>0.0015</td>\n",
       "    </tr>\n",
       "    <tr>\n",
       "      <th>361</th>\n",
       "      <td>0.003392</td>\n",
       "      <td>0.0011</td>\n",
       "    </tr>\n",
       "  </tbody>\n",
       "</table>\n",
       "<p>362 rows × 2 columns</p>\n",
       "</div>"
      ],
      "text/plain": [
       "     Val Predictions  Actuals\n",
       "0           0.003136   0.0017\n",
       "1           0.003212   0.0020\n",
       "2           0.003354   0.0017\n",
       "3           0.003451   0.0017\n",
       "4           0.003446   0.0016\n",
       "..               ...      ...\n",
       "357         0.003548   0.0032\n",
       "358         0.003746   0.0018\n",
       "359         0.003580   0.0017\n",
       "360         0.003596   0.0015\n",
       "361         0.003392   0.0011\n",
       "\n",
       "[362 rows x 2 columns]"
      ]
     },
     "execution_count": 785,
     "metadata": {},
     "output_type": "execute_result"
    }
   ],
   "source": [
    "val_predictions = model1.predict(X1).flatten()\n",
    "val_results = pd.DataFrame(data={'Val Predictions':val_predictions, 'Actuals':y1})\n",
    "val_results"
   ]
  },
  {
   "cell_type": "code",
   "execution_count": 786,
   "id": "19886fe3",
   "metadata": {},
   "outputs": [
    {
     "data": {
      "text/html": [
       "<div>\n",
       "<style scoped>\n",
       "    .dataframe tbody tr th:only-of-type {\n",
       "        vertical-align: middle;\n",
       "    }\n",
       "\n",
       "    .dataframe tbody tr th {\n",
       "        vertical-align: top;\n",
       "    }\n",
       "\n",
       "    .dataframe thead th {\n",
       "        text-align: right;\n",
       "    }\n",
       "</style>\n",
       "<table border=\"1\" class=\"dataframe\">\n",
       "  <thead>\n",
       "    <tr style=\"text-align: right;\">\n",
       "      <th></th>\n",
       "      <th>Val Predictions</th>\n",
       "      <th>Actuals</th>\n",
       "    </tr>\n",
       "  </thead>\n",
       "  <tbody>\n",
       "    <tr>\n",
       "      <th>206</th>\n",
       "      <td>0.003379</td>\n",
       "      <td>0.0009</td>\n",
       "    </tr>\n",
       "    <tr>\n",
       "      <th>207</th>\n",
       "      <td>0.003271</td>\n",
       "      <td>0.0008</td>\n",
       "    </tr>\n",
       "    <tr>\n",
       "      <th>217</th>\n",
       "      <td>0.003434</td>\n",
       "      <td>0.0008</td>\n",
       "    </tr>\n",
       "    <tr>\n",
       "      <th>230</th>\n",
       "      <td>0.003331</td>\n",
       "      <td>0.0009</td>\n",
       "    </tr>\n",
       "    <tr>\n",
       "      <th>272</th>\n",
       "      <td>0.003428</td>\n",
       "      <td>0.0006</td>\n",
       "    </tr>\n",
       "    <tr>\n",
       "      <th>273</th>\n",
       "      <td>0.003229</td>\n",
       "      <td>0.0008</td>\n",
       "    </tr>\n",
       "    <tr>\n",
       "      <th>276</th>\n",
       "      <td>0.003168</td>\n",
       "      <td>0.0006</td>\n",
       "    </tr>\n",
       "    <tr>\n",
       "      <th>277</th>\n",
       "      <td>0.003122</td>\n",
       "      <td>0.0007</td>\n",
       "    </tr>\n",
       "    <tr>\n",
       "      <th>278</th>\n",
       "      <td>0.003068</td>\n",
       "      <td>0.0009</td>\n",
       "    </tr>\n",
       "  </tbody>\n",
       "</table>\n",
       "</div>"
      ],
      "text/plain": [
       "     Val Predictions  Actuals\n",
       "206         0.003379   0.0009\n",
       "207         0.003271   0.0008\n",
       "217         0.003434   0.0008\n",
       "230         0.003331   0.0009\n",
       "272         0.003428   0.0006\n",
       "273         0.003229   0.0008\n",
       "276         0.003168   0.0006\n",
       "277         0.003122   0.0007\n",
       "278         0.003068   0.0009"
      ]
     },
     "execution_count": 786,
     "metadata": {},
     "output_type": "execute_result"
    }
   ],
   "source": [
    "val_results[(val_results < 0.001).any(axis=1)]"
   ]
  },
  {
   "cell_type": "code",
   "execution_count": 787,
   "id": "f7ff218d",
   "metadata": {},
   "outputs": [
    {
     "data": {
      "text/plain": [
       "(0.0408802779524385, 0.0015756868058373092, 98.1813555644682)"
      ]
     },
     "execution_count": 787,
     "metadata": {},
     "output_type": "execute_result"
    }
   ],
   "source": [
    "performance_measure(y1,val_predictions)"
   ]
  },
  {
   "cell_type": "code",
   "execution_count": 788,
   "id": "841177d9",
   "metadata": {},
   "outputs": [
    {
     "data": {
      "text/plain": [
       "[<matplotlib.lines.Line2D at 0x2bbfdd7c700>]"
      ]
     },
     "execution_count": 788,
     "metadata": {},
     "output_type": "execute_result"
    },
    {
     "data": {
      "image/png": "[encoded data removed]",
      "text/plain": [
       "<Figure size 432x288 with 1 Axes>"
      ]
     },
     "metadata": {
      "needs_background": "light"
     },
     "output_type": "display_data"
    }
   ],
   "source": [
    "plt.plot(val_results['Actuals'][:])\n",
    "plt.plot(val_results['Val Predictions'][:])"
   ]
  },
  {
   "cell_type": "code",
   "execution_count": null,
   "id": "cc0f0906",
   "metadata": {},
   "outputs": [],
   "source": []
  },
  {
   "cell_type": "code",
   "execution_count": null,
   "id": "c70b7fde",
   "metadata": {},
   "outputs": [],
   "source": []
  },
  {
   "cell_type": "code",
   "execution_count": null,
   "id": "86024aab",
   "metadata": {},
   "outputs": [],
   "source": []
  },
  {
   "cell_type": "code",
   "execution_count": null,
   "id": "c4fcd315",
   "metadata": {},
   "outputs": [],
   "source": []
  },
  {
   "cell_type": "code",
   "execution_count": null,
   "id": "a7ed14f3",
   "metadata": {},
   "outputs": [],
   "source": []
  },
  {
   "cell_type": "code",
   "execution_count": null,
   "id": "d0004e65",
   "metadata": {},
   "outputs": [],
   "source": []
  },
  {
   "cell_type": "code",
   "execution_count": null,
   "id": "e803abbf",
   "metadata": {},
   "outputs": [],
   "source": []
  },
  {
   "cell_type": "code",
   "execution_count": null,
   "id": "e1651fe1",
   "metadata": {},
   "outputs": [],
   "source": []
  },
  {
   "cell_type": "code",
   "execution_count": null,
   "id": "0b62c6e4",
   "metadata": {},
   "outputs": [],
   "source": []
  },
  {
   "cell_type": "code",
   "execution_count": null,
   "id": "81174c64",
   "metadata": {},
   "outputs": [],
   "source": []
  }
 ],
 "metadata": {
  "kernelspec": {
   "display_name": "Python 3 (ipykernel)",
   "language": "python",
   "name": "python3"
  },
  "language_info": {
   "codemirror_mode": {
    "name": "ipython",
    "version": 3
   },
   "file_extension": ".py",
   "mimetype": "text/x-python",
   "name": "python",
   "nbconvert_exporter": "python",
   "pygments_lexer": "ipython3",
   "version": "3.8.8"
  }
 },
 "nbformat": 4,
 "nbformat_minor": 5
}
