{
 "cells": [
  {
   "cell_type": "code",
   "execution_count": 452,
   "id": "021150d4",
   "metadata": {},
   "outputs": [],
   "source": [
    "import pandas as pd\n",
    "import numpy as np\n",
    "import matplotlib.pyplot as plt\n",
    "import seaborn as sns\n",
    "\n",
    "\n",
    "import tensorflow as tf\n",
    "from sklearn.preprocessing import StandardScaler, MinMaxScaler\n",
    "from tensorflow.keras.models import Sequential\n",
    "from tensorflow.keras.layers import LSTM\n",
    "from tensorflow.keras.layers import Dense, Dropout\n",
    "from tensorflow.keras.optimizers import Adam\n",
    "\n",
    "\n",
    "import math\n",
    "from sklearn.metrics import mean_squared_error\n",
    "from sklearn.metrics import mean_absolute_error\n",
    "from sklearn.metrics import mean_absolute_percentage_error"
   ]
  },
  {
   "cell_type": "code",
   "execution_count": 453,
   "id": "beb2fad2",
   "metadata": {},
   "outputs": [],
   "source": [
    "import random\n",
    "import os\n",
    "\n",
    "def reset_random_seeds():\n",
    "    os.environ['PYTHONHASHSEED']=str(1234)\n",
    "    tf.random.set_seed(1234)\n",
    "    np.random.seed(1234)\n",
    "    random.seed(1234)"
   ]
  },
  {
   "cell_type": "code",
   "execution_count": 454,
   "id": "87bb9d01",
   "metadata": {
    "scrolled": true
   },
   "outputs": [
    {
     "data": {
      "text/html": [
       "<div>\n",
       "<style scoped>\n",
       "    .dataframe tbody tr th:only-of-type {\n",
       "        vertical-align: middle;\n",
       "    }\n",
       "\n",
       "    .dataframe tbody tr th {\n",
       "        vertical-align: top;\n",
       "    }\n",
       "\n",
       "    .dataframe thead th {\n",
       "        text-align: right;\n",
       "    }\n",
       "</style>\n",
       "<table border=\"1\" class=\"dataframe\">\n",
       "  <thead>\n",
       "    <tr style=\"text-align: right;\">\n",
       "      <th></th>\n",
       "      <th>wind_speed</th>\n",
       "      <th>wind_direction</th>\n",
       "      <th>temperature</th>\n",
       "      <th>relative_humidity</th>\n",
       "      <th>no</th>\n",
       "      <th>so2</th>\n",
       "      <th>no2</th>\n",
       "      <th>o3</th>\n",
       "      <th>co</th>\n",
       "      <th>pm10</th>\n",
       "    </tr>\n",
       "    <tr>\n",
       "      <th>date</th>\n",
       "      <th></th>\n",
       "      <th></th>\n",
       "      <th></th>\n",
       "      <th></th>\n",
       "      <th></th>\n",
       "      <th></th>\n",
       "      <th></th>\n",
       "      <th></th>\n",
       "      <th></th>\n",
       "      <th></th>\n",
       "    </tr>\n",
       "  </thead>\n",
       "  <tbody>\n",
       "    <tr>\n",
       "      <th>2002-10-01</th>\n",
       "      <td>1.000</td>\n",
       "      <td>359.0</td>\n",
       "      <td>22.600</td>\n",
       "      <td>89.000</td>\n",
       "      <td>0.0740</td>\n",
       "      <td>0.0090</td>\n",
       "      <td>0.0330</td>\n",
       "      <td>0.0010</td>\n",
       "      <td>3.750</td>\n",
       "      <td>142.000</td>\n",
       "    </tr>\n",
       "    <tr>\n",
       "      <th>2002-10-01</th>\n",
       "      <td>1.000</td>\n",
       "      <td>356.0</td>\n",
       "      <td>22.300</td>\n",
       "      <td>90.000</td>\n",
       "      <td>0.0680</td>\n",
       "      <td>0.0100</td>\n",
       "      <td>0.0320</td>\n",
       "      <td>0.0010</td>\n",
       "      <td>3.490</td>\n",
       "      <td>136.000</td>\n",
       "    </tr>\n",
       "    <tr>\n",
       "      <th>2002-10-01</th>\n",
       "      <td>1.200</td>\n",
       "      <td>11.0</td>\n",
       "      <td>22.300</td>\n",
       "      <td>90.000</td>\n",
       "      <td>0.0420</td>\n",
       "      <td>0.0070</td>\n",
       "      <td>0.0280</td>\n",
       "      <td>0.0010</td>\n",
       "      <td>2.980</td>\n",
       "      <td>144.000</td>\n",
       "    </tr>\n",
       "    <tr>\n",
       "      <th>2002-10-01</th>\n",
       "      <td>0.900</td>\n",
       "      <td>349.0</td>\n",
       "      <td>22.200</td>\n",
       "      <td>90.000</td>\n",
       "      <td>0.0420</td>\n",
       "      <td>0.0050</td>\n",
       "      <td>0.0230</td>\n",
       "      <td>0.0010</td>\n",
       "      <td>2.840</td>\n",
       "      <td>146.000</td>\n",
       "    </tr>\n",
       "    <tr>\n",
       "      <th>2002-10-01</th>\n",
       "      <td>0.500</td>\n",
       "      <td>333.0</td>\n",
       "      <td>22.000</td>\n",
       "      <td>92.000</td>\n",
       "      <td>0.0570</td>\n",
       "      <td>0.0060</td>\n",
       "      <td>0.0210</td>\n",
       "      <td>0.0010</td>\n",
       "      <td>2.910</td>\n",
       "      <td>118.000</td>\n",
       "    </tr>\n",
       "    <tr>\n",
       "      <th>...</th>\n",
       "      <td>...</td>\n",
       "      <td>...</td>\n",
       "      <td>...</td>\n",
       "      <td>...</td>\n",
       "      <td>...</td>\n",
       "      <td>...</td>\n",
       "      <td>...</td>\n",
       "      <td>...</td>\n",
       "      <td>...</td>\n",
       "      <td>...</td>\n",
       "    </tr>\n",
       "    <tr>\n",
       "      <th>2020-12-31</th>\n",
       "      <td>1.772</td>\n",
       "      <td>206.0</td>\n",
       "      <td>28.779</td>\n",
       "      <td>80.241</td>\n",
       "      <td>0.0009</td>\n",
       "      <td>0.0012</td>\n",
       "      <td>0.0077</td>\n",
       "      <td>0.0275</td>\n",
       "      <td>0.562</td>\n",
       "      <td>15.332</td>\n",
       "    </tr>\n",
       "    <tr>\n",
       "      <th>2020-12-31</th>\n",
       "      <td>1.374</td>\n",
       "      <td>185.0</td>\n",
       "      <td>28.200</td>\n",
       "      <td>82.533</td>\n",
       "      <td>0.0016</td>\n",
       "      <td>0.0011</td>\n",
       "      <td>0.0161</td>\n",
       "      <td>0.0164</td>\n",
       "      <td>0.620</td>\n",
       "      <td>21.630</td>\n",
       "    </tr>\n",
       "    <tr>\n",
       "      <th>2020-12-31</th>\n",
       "      <td>1.243</td>\n",
       "      <td>105.0</td>\n",
       "      <td>27.643</td>\n",
       "      <td>83.318</td>\n",
       "      <td>0.0017</td>\n",
       "      <td>0.0011</td>\n",
       "      <td>0.0220</td>\n",
       "      <td>0.0084</td>\n",
       "      <td>0.925</td>\n",
       "      <td>25.202</td>\n",
       "    </tr>\n",
       "    <tr>\n",
       "      <th>2020-12-31</th>\n",
       "      <td>1.263</td>\n",
       "      <td>89.0</td>\n",
       "      <td>27.015</td>\n",
       "      <td>83.150</td>\n",
       "      <td>0.0075</td>\n",
       "      <td>0.0012</td>\n",
       "      <td>0.0278</td>\n",
       "      <td>0.0036</td>\n",
       "      <td>1.166</td>\n",
       "      <td>29.169</td>\n",
       "    </tr>\n",
       "    <tr>\n",
       "      <th>2020-12-31</th>\n",
       "      <td>0.863</td>\n",
       "      <td>59.0</td>\n",
       "      <td>26.881</td>\n",
       "      <td>87.308</td>\n",
       "      <td>0.0143</td>\n",
       "      <td>0.0012</td>\n",
       "      <td>0.0292</td>\n",
       "      <td>0.0021</td>\n",
       "      <td>1.409</td>\n",
       "      <td>30.373</td>\n",
       "    </tr>\n",
       "  </tbody>\n",
       "</table>\n",
       "<p>153708 rows × 10 columns</p>\n",
       "</div>"
      ],
      "text/plain": [
       "            wind_speed  wind_direction  temperature  relative_humidity  \\\n",
       "date                                                                     \n",
       "2002-10-01       1.000           359.0       22.600             89.000   \n",
       "2002-10-01       1.000           356.0       22.300             90.000   \n",
       "2002-10-01       1.200            11.0       22.300             90.000   \n",
       "2002-10-01       0.900           349.0       22.200             90.000   \n",
       "2002-10-01       0.500           333.0       22.000             92.000   \n",
       "...                ...             ...          ...                ...   \n",
       "2020-12-31       1.772           206.0       28.779             80.241   \n",
       "2020-12-31       1.374           185.0       28.200             82.533   \n",
       "2020-12-31       1.243           105.0       27.643             83.318   \n",
       "2020-12-31       1.263            89.0       27.015             83.150   \n",
       "2020-12-31       0.863            59.0       26.881             87.308   \n",
       "\n",
       "                no     so2     no2      o3     co     pm10  \n",
       "date                                                        \n",
       "2002-10-01  0.0740  0.0090  0.0330  0.0010  3.750  142.000  \n",
       "2002-10-01  0.0680  0.0100  0.0320  0.0010  3.490  136.000  \n",
       "2002-10-01  0.0420  0.0070  0.0280  0.0010  2.980  144.000  \n",
       "2002-10-01  0.0420  0.0050  0.0230  0.0010  2.840  146.000  \n",
       "2002-10-01  0.0570  0.0060  0.0210  0.0010  2.910  118.000  \n",
       "...            ...     ...     ...     ...    ...      ...  \n",
       "2020-12-31  0.0009  0.0012  0.0077  0.0275  0.562   15.332  \n",
       "2020-12-31  0.0016  0.0011  0.0161  0.0164  0.620   21.630  \n",
       "2020-12-31  0.0017  0.0011  0.0220  0.0084  0.925   25.202  \n",
       "2020-12-31  0.0075  0.0012  0.0278  0.0036  1.166   29.169  \n",
       "2020-12-31  0.0143  0.0012  0.0292  0.0021  1.409   30.373  \n",
       "\n",
       "[153708 rows x 10 columns]"
      ]
     },
     "execution_count": 454,
     "metadata": {},
     "output_type": "execute_result"
    }
   ],
   "source": [
    "#read csv, print 5 rows\n",
    "klangapi = pd.read_csv('klangapiCleanedHourly.csv')\n",
    "\n",
    "#change data type \"date\" from object to actual date for easy analysis\n",
    "klangapi['date']=pd.to_datetime(klangapi['date'])\n",
    "#set index to date\n",
    "klangapi.set_index('date',inplace=True)\n",
    "klangapi.drop(['nox'], axis=1, inplace=True)\n",
    "\n",
    "klangapi"
   ]
  },
  {
   "cell_type": "code",
   "execution_count": 455,
   "id": "5638e29b",
   "metadata": {},
   "outputs": [
    {
     "name": "stdout",
     "output_type": "stream",
     "text": [
      "144924 8784 153708\n"
     ]
    }
   ],
   "source": [
    "trainTest=klangapi.loc['2002-01-01':'2019-12-31'].copy() #2002-2017/3/31\n",
    "verifyDeploy=klangapi.loc['2020-01-01':'2020-12-31'].copy() #2018\n",
    "jumlahTrainNTest=trainTest.shape[0]\n",
    "jumlahVerification=verifyDeploy.shape[0]\n",
    "print(jumlahTrainNTest,jumlahVerification,jumlahTrainNTest+jumlahVerification)"
   ]
  },
  {
   "cell_type": "code",
   "execution_count": 456,
   "id": "73ad2720",
   "metadata": {},
   "outputs": [
    {
     "data": {
      "text/plain": [
       "((144924, 10), (8784, 10))"
      ]
     },
     "execution_count": 456,
     "metadata": {},
     "output_type": "execute_result"
    }
   ],
   "source": [
    "# LSTM uses sigmoid and tanh that are sensitive to magnitude so values need to be normalized\n",
    "# scaler = StandardScaler()\n",
    "# scaler = scaler.fit(klangapi)\n",
    "scaler = MinMaxScaler(feature_range=(0, 1))\n",
    "scaler = scaler.fit(klangapi)\n",
    "trainTestScaled = scaler.transform(trainTest)\n",
    "verifyDeployScaled = scaler.transform(verifyDeploy)\n",
    "trainTestScaled.shape,verifyDeployScaled.shape"
   ]
  },
  {
   "cell_type": "markdown",
   "id": "2811bd3b",
   "metadata": {},
   "source": [
    "## THIS SEGMENT IS TO CHECK THE DATA"
   ]
  },
  {
   "cell_type": "code",
   "execution_count": 457,
   "id": "a4a21001",
   "metadata": {},
   "outputs": [
    {
     "data": {
      "text/html": [
       "<div>\n",
       "<style scoped>\n",
       "    .dataframe tbody tr th:only-of-type {\n",
       "        vertical-align: middle;\n",
       "    }\n",
       "\n",
       "    .dataframe tbody tr th {\n",
       "        vertical-align: top;\n",
       "    }\n",
       "\n",
       "    .dataframe thead th {\n",
       "        text-align: right;\n",
       "    }\n",
       "</style>\n",
       "<table border=\"1\" class=\"dataframe\">\n",
       "  <thead>\n",
       "    <tr style=\"text-align: right;\">\n",
       "      <th></th>\n",
       "      <th>wind_speed</th>\n",
       "      <th>wind_direction</th>\n",
       "      <th>temperature</th>\n",
       "      <th>relative_humidity</th>\n",
       "      <th>no</th>\n",
       "      <th>so2</th>\n",
       "      <th>no2</th>\n",
       "      <th>o3</th>\n",
       "      <th>co</th>\n",
       "      <th>pm10</th>\n",
       "    </tr>\n",
       "    <tr>\n",
       "      <th>date</th>\n",
       "      <th></th>\n",
       "      <th></th>\n",
       "      <th></th>\n",
       "      <th></th>\n",
       "      <th></th>\n",
       "      <th></th>\n",
       "      <th></th>\n",
       "      <th></th>\n",
       "      <th></th>\n",
       "      <th></th>\n",
       "    </tr>\n",
       "  </thead>\n",
       "  <tbody>\n",
       "    <tr>\n",
       "      <th>2019-12-31</th>\n",
       "      <td>0.409</td>\n",
       "      <td>118.0</td>\n",
       "      <td>25.235</td>\n",
       "      <td>94.817</td>\n",
       "      <td>0.0871</td>\n",
       "      <td>0.0016</td>\n",
       "      <td>0.027</td>\n",
       "      <td>0.0007</td>\n",
       "      <td>3.799</td>\n",
       "      <td>52.226</td>\n",
       "    </tr>\n",
       "  </tbody>\n",
       "</table>\n",
       "</div>"
      ],
      "text/plain": [
       "            wind_speed  wind_direction  temperature  relative_humidity  \\\n",
       "date                                                                     \n",
       "2019-12-31       0.409           118.0       25.235             94.817   \n",
       "\n",
       "                no     so2    no2      o3     co    pm10  \n",
       "date                                                      \n",
       "2019-12-31  0.0871  0.0016  0.027  0.0007  3.799  52.226  "
      ]
     },
     "execution_count": 457,
     "metadata": {},
     "output_type": "execute_result"
    }
   ],
   "source": [
    "trainTest.iloc[[-1]]"
   ]
  },
  {
   "cell_type": "code",
   "execution_count": 458,
   "id": "ab17abcd",
   "metadata": {},
   "outputs": [
    {
     "data": {
      "text/plain": [
       "52.226"
      ]
     },
     "execution_count": 458,
     "metadata": {},
     "output_type": "execute_result"
    }
   ],
   "source": [
    "scaler.inverse_transform(trainTestScaled[[-1]])[0][9]\n"
   ]
  },
  {
   "cell_type": "code",
   "execution_count": 459,
   "id": "89dbf802",
   "metadata": {
    "scrolled": true
   },
   "outputs": [
    {
     "data": {
      "text/html": [
       "<div>\n",
       "<style scoped>\n",
       "    .dataframe tbody tr th:only-of-type {\n",
       "        vertical-align: middle;\n",
       "    }\n",
       "\n",
       "    .dataframe tbody tr th {\n",
       "        vertical-align: top;\n",
       "    }\n",
       "\n",
       "    .dataframe thead th {\n",
       "        text-align: right;\n",
       "    }\n",
       "</style>\n",
       "<table border=\"1\" class=\"dataframe\">\n",
       "  <thead>\n",
       "    <tr style=\"text-align: right;\">\n",
       "      <th></th>\n",
       "      <th>wind_speed</th>\n",
       "      <th>wind_direction</th>\n",
       "      <th>temperature</th>\n",
       "      <th>relative_humidity</th>\n",
       "      <th>no</th>\n",
       "      <th>so2</th>\n",
       "      <th>no2</th>\n",
       "      <th>o3</th>\n",
       "      <th>co</th>\n",
       "      <th>pm10</th>\n",
       "    </tr>\n",
       "    <tr>\n",
       "      <th>date</th>\n",
       "      <th></th>\n",
       "      <th></th>\n",
       "      <th></th>\n",
       "      <th></th>\n",
       "      <th></th>\n",
       "      <th></th>\n",
       "      <th></th>\n",
       "      <th></th>\n",
       "      <th></th>\n",
       "      <th></th>\n",
       "    </tr>\n",
       "  </thead>\n",
       "  <tbody>\n",
       "    <tr>\n",
       "      <th>2020-01-01</th>\n",
       "      <td>0.567</td>\n",
       "      <td>121.0</td>\n",
       "      <td>25.839</td>\n",
       "      <td>93.05</td>\n",
       "      <td>0.0939</td>\n",
       "      <td>0.0018</td>\n",
       "      <td>0.0272</td>\n",
       "      <td>0.0006</td>\n",
       "      <td>3.875</td>\n",
       "      <td>93.162</td>\n",
       "    </tr>\n",
       "  </tbody>\n",
       "</table>\n",
       "</div>"
      ],
      "text/plain": [
       "            wind_speed  wind_direction  temperature  relative_humidity  \\\n",
       "date                                                                     \n",
       "2020-01-01       0.567           121.0       25.839              93.05   \n",
       "\n",
       "                no     so2     no2      o3     co    pm10  \n",
       "date                                                       \n",
       "2020-01-01  0.0939  0.0018  0.0272  0.0006  3.875  93.162  "
      ]
     },
     "execution_count": 459,
     "metadata": {},
     "output_type": "execute_result"
    }
   ],
   "source": [
    "verifyDeploy.iloc[[0]]"
   ]
  },
  {
   "cell_type": "code",
   "execution_count": 460,
   "id": "95119d0a",
   "metadata": {
    "scrolled": false
   },
   "outputs": [
    {
     "data": {
      "text/plain": [
       "93.162"
      ]
     },
     "execution_count": 460,
     "metadata": {},
     "output_type": "execute_result"
    }
   ],
   "source": [
    "scaler.inverse_transform(verifyDeployScaled[[0]])[0][9]"
   ]
  },
  {
   "cell_type": "code",
   "execution_count": 461,
   "id": "0ae5aa53",
   "metadata": {},
   "outputs": [
    {
     "data": {
      "text/plain": [
       "((115939, 10), (28985, 10))"
      ]
     },
     "execution_count": 461,
     "metadata": {},
     "output_type": "execute_result"
    }
   ],
   "source": [
    "##splitting dataset into train and test split\n",
    "training_size=int(len(trainTestScaled)*0.80)\n",
    "test_size=len(trainTestScaled)-training_size\n",
    "train,test=trainTestScaled[0:training_size,:],trainTestScaled[training_size:len(trainTestScaled),:]\n",
    "\n",
    "train.shape,test.shape"
   ]
  },
  {
   "cell_type": "markdown",
   "id": "657eef6b",
   "metadata": {},
   "source": [
    "## END OF SEGMENT"
   ]
  },
  {
   "cell_type": "code",
   "execution_count": 462,
   "id": "bc60761d",
   "metadata": {},
   "outputs": [],
   "source": [
    "# references target features\n",
    "# 10 = pm10\n",
    "# 9 = co\n",
    "# 8 = o3\n",
    "# 7 = no2\n",
    "# 6 = so2\n",
    "# 5 = no\n",
    "# 4 = nox"
   ]
  },
  {
   "cell_type": "code",
   "execution_count": 463,
   "id": "3515a7c1",
   "metadata": {},
   "outputs": [],
   "source": [
    "# function to organize data in correct forms so that the data can be fitted to the model\n",
    "# data, number of past days, number of features, target pollutants to be predicted\n",
    "def to_sequences(dataset, n_past, no_features, target_features):\n",
    "    # n_past: Number of past days we want to use to predict the future.\n",
    "    X = []\n",
    "    y = []\n",
    "    n_future = 24   # Number of days we want to look into the future based on the past days.\n",
    "    for i in range(n_past, len(dataset) - n_future+1):\n",
    "        X.append(dataset[i - n_past:i, 0:no_features])\n",
    "        y.append(dataset[i + n_future - 1:i + n_future, target_features]) \n",
    "    return np.array(X), np.array(y)\n",
    "\n",
    "# function to build LSTM model\n",
    "def modelling(no_past, no_features):\n",
    "    reset_random_seeds()\n",
    "    model = Sequential()\n",
    "    model.add(GRU(32, input_shape=(trainX.shape[1], trainX.shape[2]), return_sequences=False))\n",
    "#     model.add(LSTM(64, return_sequences=False))\n",
    "#     model.add(Dense(32))\n",
    "    # model.add(LSTM(50, return_sequences=False))\n",
    "    model.add(Dropout(0.2))\n",
    "    model.add(Dense(trainY.shape[1]))\n",
    "\n",
    "    model.compile(Adam(learning_rate=0.001), loss='mse')\n",
    "    return model\n",
    "    #model.summary()#ANN->RNN->LSTM\n",
    "    \n",
    "# function to retrieve performance of the model\n",
    "def performance_measure(actual,pred) :\n",
    "    rmse=math.sqrt(mean_squared_error(actual,pred, squared=False))\n",
    "    mae=mean_absolute_error(actual, pred)\n",
    "    mape=mean_absolute_percentage_error(actual, pred)*100\n",
    "    return rmse,mae,mape\n"
   ]
  },
  {
   "cell_type": "code",
   "execution_count": 66,
   "id": "e36a67d2",
   "metadata": {},
   "outputs": [
    {
     "name": "stdout",
     "output_type": "stream",
     "text": [
      "Trial 31 Complete [02h 01m 42s]\n",
      "val_loss: 0.00040195524343289435\n",
      "\n",
      "Best val_loss So Far: 0.00042986078187823296\n",
      "Total elapsed time: 10h 29m 21s\n",
      "INFO:tensorflow:Oracle triggered exit\n"
     ]
    }
   ],
   "source": [
    "import keras_tuner as kt\n",
    "reset_random_seeds()\n",
    "\n",
    "def build_model(hp):\n",
    "    model = Sequential()\n",
    "    model.add(LSTM(\n",
    "        hp.Choice('units', [64, 128, 256 ,512]),\n",
    "        hp.Choice(\"activation\", [\"relu\", \"tanh\"])))\n",
    "    model.add(Dropout(0.2))\n",
    "    model.add(Dense(trainY.shape[1]))\n",
    "    model.compile(optimizer=Adam(hp.Choice('learning_rate', [0.0001,0.001,0.01,0.1] )), loss='mse')\n",
    "    return model\n",
    "                                \n",
    "tuner = kt.Hyperband(build_model, # the hypermodel\n",
    "                     objective='val_loss', # objective to optimize\n",
    "                     max_epochs=20,\n",
    "                     factor=3, # factor which you have seen above \n",
    "                     directory='logsLSTMHourly', # directory to save logs \n",
    "                     project_name='hypertuning')\n",
    "                                 \n",
    "# tuner.search_space_summary()\n",
    "# stop_early = tf.keras.callbacks.EarlyStopping(monitor='val_loss', patience=5)\n",
    "# # Perform hypertuning\n",
    "# tuner.search(trainX, trainY, epochs=20, batch_size=72, validation_data=(testX,testY), verbose=1, callbacks=[stop_early])\n"
   ]
  },
  {
   "cell_type": "code",
   "execution_count": 67,
   "id": "4190dab5",
   "metadata": {},
   "outputs": [
    {
     "name": "stdout",
     "output_type": "stream",
     "text": [
      "64\n",
      "0.1\n",
      "tanh\n"
     ]
    }
   ],
   "source": [
    "#pm10\n",
    "hp=tuner.get_best_hyperparameters()[0]\n",
    "print(hp.Choice('units', [32, 64, 128]))\n",
    "print(hp.Choice('learning_rate', [0.0001,0.001,0.01,0.1]))\n",
    "print(hp.Choice('activation', [0.0001,0.001,0.01,0.1]))"
   ]
  },
  {
   "cell_type": "markdown",
   "id": "ecf60752",
   "metadata": {},
   "source": [
    "# PM10 Modelling : 9"
   ]
  },
  {
   "cell_type": "markdown",
   "id": "ec502277",
   "metadata": {},
   "source": [
    "### Restrustured the data and determine the target features"
   ]
  },
  {
   "cell_type": "code",
   "execution_count": 341,
   "id": "d8032847",
   "metadata": {
    "scrolled": true
   },
   "outputs": [
    {
     "name": "stdout",
     "output_type": "stream",
     "text": [
      "trainX shape == (115844, 72, 10).\n",
      "trainY shape == (115844, 1).\n",
      "testX shape == (28890, 72, 10).\n",
      "testY shape == (28890, 1).\n"
     ]
    }
   ],
   "source": [
    "trainX, trainY = to_sequences(train, 72, klangapi.shape[1],9)\n",
    "testX, testY = to_sequences(test, 72, klangapi.shape[1],9)\n",
    "\n",
    "print('trainX shape == {}.'.format(trainX.shape))\n",
    "print('trainY shape == {}.'.format(trainY.shape))\n",
    "\n",
    "print('testX shape == {}.'.format(testX.shape))\n",
    "print('testY shape == {}.'.format(testY.shape))"
   ]
  },
  {
   "cell_type": "code",
   "execution_count": 342,
   "id": "7f60914e",
   "metadata": {},
   "outputs": [
    {
     "data": {
      "text/plain": [
       "array([[0.04950495, 0.99722222, 0.14054054, 0.8625    , 0.24706649,\n",
       "        0.08035714, 0.25984252, 0.00787402, 0.2417795 , 0.09693186],\n",
       "       [0.04950495, 0.98888889, 0.12432432, 0.875     , 0.22750978,\n",
       "        0.08928571, 0.2519685 , 0.00787402, 0.22501612, 0.09280192],\n",
       "       [0.05940594, 0.03055556, 0.12432432, 0.875     , 0.14276402,\n",
       "        0.0625    , 0.22047244, 0.00787402, 0.19213411, 0.09830851],\n",
       "       [0.04455446, 0.96944444, 0.11891892, 0.875     , 0.14276402,\n",
       "        0.04464286, 0.18110236, 0.00787402, 0.18310767, 0.09968516],\n",
       "       [0.02475248, 0.925     , 0.10810811, 0.9       , 0.1916558 ,\n",
       "        0.05357143, 0.16535433, 0.00787402, 0.18762089, 0.08041209],\n",
       "       [0.04455446, 0.98333333, 0.11351351, 0.9       , 0.17535854,\n",
       "        0.03571429, 0.1496063 , 0.00787402, 0.18762089, 0.08316538],\n",
       "       [0.03960396, 0.24166667, 0.11351351, 0.9       , 0.42633638,\n",
       "        0.08928571, 0.18110236, 0.01574803, 0.23791103, 0.09280192],\n",
       "       [0.05445545, 0.06944444, 0.14594595, 0.8625    , 0.81421121,\n",
       "        0.19642857, 0.22047244, 0.01574803, 0.45583495, 0.14717952],\n",
       "       [0.09405941, 0.25555556, 0.25945946, 0.7125    , 0.26336375,\n",
       "        0.34821429, 0.36220472, 0.03149606, 0.29206963, 0.10243846],\n",
       "       [0.13366337, 0.21111111, 0.47567568, 0.5875    , 0.03846154,\n",
       "        0.27678571, 0.37795276, 0.18897638, 0.14184397, 0.03291772],\n",
       "       [0.22277228, 0.27361111, 0.58648649, 0.5375    , 0.03579471,\n",
       "        0.19345238, 0.36363636, 0.30314961, 0.10606061, 0.04152177],\n",
       "       [0.31188119, 0.33611111, 0.6972973 , 0.4875    , 0.03312789,\n",
       "        0.11011905, 0.34931997, 0.41732283, 0.07027724, 0.05012583],\n",
       "       [0.35148515, 0.51111111, 0.77297297, 0.425     , 0.03046106,\n",
       "        0.02678571, 0.33500358, 0.43307087, 0.07994842, 0.05632074],\n",
       "       [0.34653465, 0.55      , 0.74054054, 0.4125    , 0.02779424,\n",
       "        0.02678571, 0.32068719, 0.41732283, 0.08188266, 0.04117761],\n",
       "       [0.37128713, 0.54722222, 0.76756757, 0.425     , 0.02512741,\n",
       "        0.03125   , 0.30637079, 0.37007874, 0.07801418, 0.04393091],\n",
       "       [0.47524752, 0.56388889, 0.76756757, 0.4375    , 0.02246059,\n",
       "        0.03571429, 0.2920544 , 0.40944882, 0.07865893, 0.05632074],\n",
       "       [0.54950495, 0.59444444, 0.7027027 , 0.4625    , 0.01979377,\n",
       "        0.03571429, 0.27773801, 0.4488189 , 0.05931657, 0.03911264],\n",
       "       [0.46534653, 0.58611111, 0.63243243, 0.475     , 0.01712694,\n",
       "        0.03571429, 0.26342162, 0.45669291, 0.03997421, 0.04393091],\n",
       "       [0.34158416, 0.58333333, 0.51351351, 0.525     , 0.01446012,\n",
       "        0.02678571, 0.24910523, 0.43307087, 0.04964539, 0.05838571],\n",
       "       [0.23762376, 0.55      , 0.41081081, 0.575     , 0.01179329,\n",
       "        0.03571429, 0.23478883, 0.2992126 , 0.0554481 , 0.07421717],\n",
       "       [0.15841584, 0.44166667, 0.34594595, 0.625     , 0.00912647,\n",
       "        0.04464286, 0.22047244, 0.1496063 , 0.07801418, 0.06045069],\n",
       "       [0.21782178, 0.05833333, 0.32972973, 0.65      , 0.13950456,\n",
       "        0.0625    , 0.2992126 , 0.04724409, 0.15667311, 0.10381511],\n",
       "       [0.18316832, 0.03611111, 0.2972973 , 0.7       , 0.15254237,\n",
       "        0.0625    , 0.29133858, 0.03937008, 0.14442295, 0.08867198],\n",
       "       [0.17821782, 0.04166667, 0.27567568, 0.7375    , 0.12972621,\n",
       "        0.07142857, 0.29133858, 0.03937008, 0.14248872, 0.09142527],\n",
       "       [0.16831683, 0.01111111, 0.24324324, 0.775     , 0.08409387,\n",
       "        0.0625    , 0.25984252, 0.05511811, 0.10960671, 0.09349024],\n",
       "       [0.15346535, 0.05555556, 0.21621622, 0.775     , 0.0547588 ,\n",
       "        0.05357143, 0.22834646, 0.04724409, 0.09993553, 0.09280192],\n",
       "       [0.13861386, 0.03333333, 0.20540541, 0.7875    , 0.06453716,\n",
       "        0.0625    , 0.22047244, 0.04724409, 0.09929078, 0.09693186],\n",
       "       [0.12871287, 0.06111111, 0.18378378, 0.8       , 0.04498044,\n",
       "        0.05357143, 0.19685039, 0.03937008, 0.08768536, 0.08729533],\n",
       "       [0.17326733, 0.41111111, 0.17297297, 0.8125    , 0.03520209,\n",
       "        0.05357143, 0.20472441, 0.02362205, 0.09090909, 0.08729533],\n",
       "       [0.13366337, 0.34166667, 0.16756757, 0.8125    , 0.07431551,\n",
       "        0.03571429, 0.23622047, 0.00787402, 0.10122502, 0.07559382],\n",
       "       [0.10891089, 0.91388889, 0.14054054, 0.85      , 0.30573664,\n",
       "        0.0625    , 0.22047244, 0.01574803, 0.14764668, 0.09004862],\n",
       "       [0.10891089, 0.375     , 0.18918919, 0.825     , 0.37744459,\n",
       "        0.09821429, 0.20472441, 0.01574803, 0.21663443, 0.11620494],\n",
       "       [0.17821782, 0.31388889, 0.34594595, 0.7       , 0.21121252,\n",
       "        0.125     , 0.35433071, 0.03149606, 0.19987105, 0.10450343],\n",
       "       [0.26237624, 0.33888889, 0.52972973, 0.5875    , 0.08083442,\n",
       "        0.13392857, 0.43307087, 0.1496063 , 0.14377821, 0.09762019],\n",
       "       [0.32673267, 0.32222222, 0.63783784, 0.5       , 0.00912647,\n",
       "        0.04464286, 0.11811024, 0.38582677, 0.0625403 , 0.04806085],\n",
       "       [0.29207921, 0.26388889, 0.74594595, 0.425     , 0.00912647,\n",
       "        0.01785714, 0.11286089, 0.49606299, 0.04642166, 0.06458063],\n",
       "       [0.27227723, 0.34722222, 0.85945946, 0.35      , 0.00912647,\n",
       "        0.00892857, 0.10761155, 0.50393701, 0.04900064, 0.04806085],\n",
       "       [0.2970297 , 0.55      , 0.74054054, 0.4125    , 0.00912647,\n",
       "        0.03125   , 0.1023622 , 0.49606299, 0.05996132, 0.05976236],\n",
       "       [0.51485149, 0.69722222, 0.67027027, 0.525     , 0.02216428,\n",
       "        0.05357143, 0.22047244, 0.38582677, 0.07414571, 0.08385371],\n",
       "       [0.39108911, 0.69444444, 0.45945946, 0.6125    , 0.03520209,\n",
       "        0.04464286, 0.28346457, 0.27559055, 0.05834945, 0.06871058],\n",
       "       [0.40594059, 0.59166667, 0.61621622, 0.4625    , 0.023794  ,\n",
       "        0.04464286, 0.25590551, 0.37007874, 0.04255319, 0.05356745],\n",
       "       [0.33168317, 0.38055556, 0.47567568, 0.5375    , 0.01238592,\n",
       "        0.03571429, 0.22834646, 0.24409449, 0.05480335, 0.02809945],\n",
       "       [0.23762376, 0.18611111, 0.37297297, 0.6875    , 0.02542373,\n",
       "        0.04464286, 0.50393701, 0.1023622 , 0.11025145, 0.05769739],\n",
       "       [0.25247525, 0.26388889, 0.37837838, 0.675     , 0.01890482,\n",
       "        0.125     , 0.48031496, 0.04724409, 0.14442295, 0.05632074],\n",
       "       [0.3960396 , 0.22222222, 0.35135135, 0.7125    , 0.08409387,\n",
       "        0.16071429, 0.51968504, 0.01574803, 0.18117344, 0.04668421],\n",
       "       [0.21287129, 0.02222222, 0.32972973, 0.7375    , 0.25032595,\n",
       "        0.16071429, 0.51181102, 0.01574803, 0.24629271, 0.0693989 ],\n",
       "       [0.18316832, 0.01388889, 0.30810811, 0.75      , 0.14602347,\n",
       "        0.07142857, 0.37795276, 0.01574803, 0.17601547, 0.07559382],\n",
       "       [0.21782178, 0.04722222, 0.30810811, 0.7375    , 0.08409387,\n",
       "        0.07142857, 0.30708661, 0.04724409, 0.13217279, 0.06802225],\n",
       "       [0.21782178, 0.05833333, 0.27567568, 0.775     , 0.03520209,\n",
       "        0.05357143, 0.23622047, 0.1023622 , 0.09026435, 0.07352884],\n",
       "       [0.18316832, 0.075     , 0.25405405, 0.7875    , 0.01564537,\n",
       "        0.03571429, 0.18897638, 0.13385827, 0.07865893, 0.06733393],\n",
       "       [0.10891089, 0.99722222, 0.22702703, 0.8125    , 0.02216428,\n",
       "        0.05357143, 0.18897638, 0.11023622, 0.0696325 , 0.06871058],\n",
       "       [0.13366337, 0.325     , 0.22162162, 0.825     , 0.00912647,\n",
       "        0.0625    , 0.18897638, 0.08661417, 0.07479046, 0.0721522 ],\n",
       "       [0.11386139, 0.00833333, 0.18918919, 0.85      , 0.02868318,\n",
       "        0.07142857, 0.23622047, 0.02362205, 0.08510638, 0.07352884],\n",
       "       [0.07425743, 0.01388889, 0.18378378, 0.8625    , 0.09387223,\n",
       "        0.09821429, 0.22047244, 0.00787402, 0.10122502, 0.08798365],\n",
       "       [0.16336634, 0.44166667, 0.17837838, 0.875     , 0.22425033,\n",
       "        0.10714286, 0.2519685 , 0.01574803, 0.14700193, 0.0893603 ],\n",
       "       [0.12376238, 0.29166667, 0.21621622, 0.8375    , 0.30899609,\n",
       "        0.14285714, 0.26771654, 0.01574803, 0.25145068, 0.11413997],\n",
       "       [0.15346535, 0.18055556, 0.37297297, 0.7125    , 0.2601043 ,\n",
       "        0.47321429, 0.43307087, 0.03149606, 0.23146357, 0.10588008],\n",
       "       [0.16336634, 0.06388889, 0.5027027 , 0.6125    , 0.1232073 ,\n",
       "        0.3125    , 0.47244094, 0.14173228, 0.1792392 , 0.09624354],\n",
       "       [0.26237624, 0.33333333, 0.62702703, 0.4875    , 0.00912647,\n",
       "        0.08928571, 0.14173228, 0.32283465, 0.06125081, 0.05563242],\n",
       "       [0.29207921, 0.34444444, 0.68648649, 0.475     , 0.01238592,\n",
       "        0.0625    , 0.1496063 , 0.54330709, 0.05286912, 0.05287912],\n",
       "       [0.34653465, 0.65277778, 0.65945946, 0.5125    , 0.01564537,\n",
       "        0.06696429, 0.15748031, 0.51968504, 0.06640877, 0.0893603 ],\n",
       "       [0.4009901 , 0.72222222, 0.6972973 , 0.525     , 0.03520209,\n",
       "        0.07142857, 0.20472441, 0.4015748 , 0.07285622, 0.05976236],\n",
       "       [0.46534653, 0.80555556, 0.64864865, 0.5625    , 0.05801825,\n",
       "        0.08035714, 0.20472441, 0.28346457, 0.06350741, 0.05425577],\n",
       "       [0.58910891, 0.875     , 0.56216216, 0.6375    , 0.05801825,\n",
       "        0.03571429, 0.21259843, 0.34645669, 0.05415861, 0.05150247],\n",
       "       [0.4009901 , 0.91666667, 0.43783784, 0.6875    , 0.05801825,\n",
       "        0.03571429, 0.22047244, 0.2519685 , 0.06382979, 0.05287912],\n",
       "       [0.3019802 , 0.02777778, 0.36216216, 0.725     , 0.08083442,\n",
       "        0.07142857, 0.26771654, 0.13385827, 0.103804  , 0.05700907],\n",
       "       [0.37623762, 0.13333333, 0.30810811, 0.7375    , 0.07105606,\n",
       "        0.10714286, 0.2992126 , 0.07086614, 0.11411992, 0.04255426],\n",
       "       [0.38613861, 0.2       , 0.27567568, 0.775     , 0.0547588 ,\n",
       "        0.05357143, 0.35433071, 0.02362205, 0.10251451, 0.04324258],\n",
       "       [0.23762376, 0.24166667, 0.24324324, 0.775     , 0.07431551,\n",
       "        0.05357143, 0.42519685, 0.00787402, 0.1166989 , 0.04668421],\n",
       "       [0.16831683, 0.23333333, 0.24324324, 0.7625    , 0.11016949,\n",
       "        0.08928571, 0.44094488, 0.00787402, 0.16312057, 0.05769739],\n",
       "       [0.20792079, 0.225     , 0.25405405, 0.75      , 0.13298566,\n",
       "        0.14285714, 0.43307087, 0.01574803, 0.1650548 , 0.05494409],\n",
       "       [0.13366337, 0.04722222, 0.22702703, 0.7625    , 0.29269883,\n",
       "        0.16964286, 0.4015748 , 0.01574803, 0.19600258, 0.06458063],\n",
       "       [0.0990099 , 0.84722222, 0.18918919, 0.8125    , 0.32529335,\n",
       "        0.17857143, 0.37007874, 0.01574803, 0.2063185 , 0.07077555]])"
      ]
     },
     "execution_count": 342,
     "metadata": {},
     "output_type": "execute_result"
    }
   ],
   "source": [
    "trainTestScaled[0:73]"
   ]
  },
  {
   "cell_type": "code",
   "execution_count": 343,
   "id": "61be1975",
   "metadata": {},
   "outputs": [
    {
     "data": {
      "text/plain": [
       "0.1003734846545026"
      ]
     },
     "execution_count": 343,
     "metadata": {},
     "output_type": "execute_result"
    }
   ],
   "source": [
    "trainY[1][0]"
   ]
  },
  {
   "cell_type": "code",
   "execution_count": 344,
   "id": "2afc1f78",
   "metadata": {},
   "outputs": [
    {
     "data": {
      "text/plain": [
       "True"
      ]
     },
     "execution_count": 344,
     "metadata": {},
     "output_type": "execute_result"
    }
   ],
   "source": [
    "trainY[1][0] == trainTestScaled[96][9]"
   ]
  },
  {
   "cell_type": "markdown",
   "id": "bb4c4621",
   "metadata": {},
   "source": [
    "### Training model"
   ]
  },
  {
   "cell_type": "code",
   "execution_count": 345,
   "id": "83c81078",
   "metadata": {
    "scrolled": true
   },
   "outputs": [
    {
     "name": "stdout",
     "output_type": "stream",
     "text": [
      "Model: \"sequential_18\"\n",
      "_________________________________________________________________\n",
      "Layer (type)                 Output Shape              Param #   \n",
      "=================================================================\n",
      "lstm_18 (LSTM)               (None, 64)                19200     \n",
      "_________________________________________________________________\n",
      "dropout_18 (Dropout)         (None, 64)                0         \n",
      "_________________________________________________________________\n",
      "dense_18 (Dense)             (None, 1)                 65        \n",
      "=================================================================\n",
      "Total params: 19,265\n",
      "Trainable params: 19,265\n",
      "Non-trainable params: 0\n",
      "_________________________________________________________________\n",
      "Epoch 1/10\n",
      "14481/14481 [==============================] - 121s 8ms/step - loss: 7.8653e-04 - val_loss: 4.2559e-04\n",
      "Epoch 2/10\n",
      "14481/14481 [==============================] - 121s 8ms/step - loss: 7.0613e-04 - val_loss: 5.0518e-04\n",
      "Epoch 3/10\n",
      "14481/14481 [==============================] - 129s 9ms/step - loss: 6.9337e-04 - val_loss: 5.2492e-04\n",
      "Epoch 4/10\n",
      "14481/14481 [==============================] - 127s 9ms/step - loss: 6.8962e-04 - val_loss: 4.3618e-04\n",
      "Epoch 5/10\n",
      "14481/14481 [==============================] - 126s 9ms/step - loss: 6.8700e-04 - val_loss: 4.0993e-04\n",
      "Epoch 6/10\n",
      "14481/14481 [==============================] - 126s 9ms/step - loss: 6.8260e-04 - val_loss: 4.1862e-04\n",
      "Epoch 7/10\n",
      "14481/14481 [==============================] - 126s 9ms/step - loss: 6.7246e-04 - val_loss: 4.6402e-04\n",
      "Epoch 8/10\n",
      "14481/14481 [==============================] - 123s 8ms/step - loss: 6.7414e-04 - val_loss: 4.6016e-04\n",
      "Epoch 9/10\n",
      "14481/14481 [==============================] - 121s 8ms/step - loss: 6.6100e-04 - val_loss: 4.0840e-04\n",
      "Epoch 10/10\n",
      "14481/14481 [==============================] - 121s 8ms/step - loss: 6.5719e-04 - val_loss: 5.1059e-04\n"
     ]
    }
   ],
   "source": [
    "#trainX(number of rows, number of past days, number of features)\n",
    "#PM10 Modelling\n",
    "modelPM10=modelling(trainX.shape[1],trainX.shape[2]) \n",
    "modelPM10.summary()\n",
    "history = modelPM10.fit(trainX, trainY, epochs=10, batch_size=8, validation_data=(testX,testY), verbose=1)"
   ]
  },
  {
   "cell_type": "code",
   "execution_count": 346,
   "id": "198d4c14",
   "metadata": {},
   "outputs": [
    {
     "data": {
      "text/plain": [
       "<matplotlib.legend.Legend at 0x2b3b8803dc0>"
      ]
     },
     "execution_count": 346,
     "metadata": {},
     "output_type": "execute_result"
    },
    {
     "data": {
      "image/png": "[encoded data removed]",
      "text/plain": [
       "<Figure size 432x288 with 1 Axes>"
      ]
     },
     "metadata": {
      "needs_background": "light"
     },
     "output_type": "display_data"
    }
   ],
   "source": [
    "plt.plot(history.history['loss'], label='Training loss')\n",
    "plt.plot(history.history['val_loss'], label='Validation loss')\n",
    "plt.legend()"
   ]
  },
  {
   "cell_type": "code",
   "execution_count": 347,
   "id": "93e95a6d",
   "metadata": {},
   "outputs": [],
   "source": [
    "prediction = modelPM10.predict(trainX)\n"
   ]
  },
  {
   "cell_type": "code",
   "execution_count": 348,
   "id": "4fa31a6b",
   "metadata": {},
   "outputs": [],
   "source": [
    "prediction_copies = np.repeat(prediction, klangapi.shape[1], axis=-1)\n",
    "y_pred_future = scaler.inverse_transform(prediction_copies)[:,9]\n"
   ]
  },
  {
   "cell_type": "code",
   "execution_count": 349,
   "id": "5beae203",
   "metadata": {},
   "outputs": [
    {
     "data": {
      "text/plain": [
       "array([92.809975, 89.845215, 90.60473 , ..., 52.179417, 53.008965,\n",
       "       56.799873], dtype=float32)"
      ]
     },
     "execution_count": 349,
     "metadata": {},
     "output_type": "execute_result"
    }
   ],
   "source": [
    "y_pred_future"
   ]
  },
  {
   "cell_type": "code",
   "execution_count": 350,
   "id": "fb1a6cdf",
   "metadata": {},
   "outputs": [],
   "source": [
    "actualY = np.repeat(trainY, klangapi.shape[1], axis=-1)\n",
    "actualY = scaler.inverse_transform(actualY)[:,9]\n",
    "#klangapi.iloc[3:4831,10]"
   ]
  },
  {
   "cell_type": "code",
   "execution_count": 351,
   "id": "180f8cb5",
   "metadata": {},
   "outputs": [
    {
     "data": {
      "text/html": [
       "<div>\n",
       "<style scoped>\n",
       "    .dataframe tbody tr th:only-of-type {\n",
       "        vertical-align: middle;\n",
       "    }\n",
       "\n",
       "    .dataframe tbody tr th {\n",
       "        vertical-align: top;\n",
       "    }\n",
       "\n",
       "    .dataframe thead th {\n",
       "        text-align: right;\n",
       "    }\n",
       "</style>\n",
       "<table border=\"1\" class=\"dataframe\">\n",
       "  <thead>\n",
       "    <tr style=\"text-align: right;\">\n",
       "      <th></th>\n",
       "      <th>wind_speed</th>\n",
       "      <th>wind_direction</th>\n",
       "      <th>temperature</th>\n",
       "      <th>relative_humidity</th>\n",
       "      <th>no</th>\n",
       "      <th>so2</th>\n",
       "      <th>no2</th>\n",
       "      <th>o3</th>\n",
       "      <th>co</th>\n",
       "      <th>pm10</th>\n",
       "    </tr>\n",
       "    <tr>\n",
       "      <th>date</th>\n",
       "      <th></th>\n",
       "      <th></th>\n",
       "      <th></th>\n",
       "      <th></th>\n",
       "      <th></th>\n",
       "      <th></th>\n",
       "      <th></th>\n",
       "      <th></th>\n",
       "      <th></th>\n",
       "      <th></th>\n",
       "    </tr>\n",
       "  </thead>\n",
       "  <tbody>\n",
       "    <tr>\n",
       "      <th>2002-10-01</th>\n",
       "      <td>1.0</td>\n",
       "      <td>359.0</td>\n",
       "      <td>22.6</td>\n",
       "      <td>89.0</td>\n",
       "      <td>0.074</td>\n",
       "      <td>0.009</td>\n",
       "      <td>0.033</td>\n",
       "      <td>0.001</td>\n",
       "      <td>3.75</td>\n",
       "      <td>142.0</td>\n",
       "    </tr>\n",
       "    <tr>\n",
       "      <th>2002-10-01</th>\n",
       "      <td>1.0</td>\n",
       "      <td>356.0</td>\n",
       "      <td>22.3</td>\n",
       "      <td>90.0</td>\n",
       "      <td>0.068</td>\n",
       "      <td>0.010</td>\n",
       "      <td>0.032</td>\n",
       "      <td>0.001</td>\n",
       "      <td>3.49</td>\n",
       "      <td>136.0</td>\n",
       "    </tr>\n",
       "    <tr>\n",
       "      <th>2002-10-01</th>\n",
       "      <td>1.2</td>\n",
       "      <td>11.0</td>\n",
       "      <td>22.3</td>\n",
       "      <td>90.0</td>\n",
       "      <td>0.042</td>\n",
       "      <td>0.007</td>\n",
       "      <td>0.028</td>\n",
       "      <td>0.001</td>\n",
       "      <td>2.98</td>\n",
       "      <td>144.0</td>\n",
       "    </tr>\n",
       "    <tr>\n",
       "      <th>2002-10-01</th>\n",
       "      <td>0.9</td>\n",
       "      <td>349.0</td>\n",
       "      <td>22.2</td>\n",
       "      <td>90.0</td>\n",
       "      <td>0.042</td>\n",
       "      <td>0.005</td>\n",
       "      <td>0.023</td>\n",
       "      <td>0.001</td>\n",
       "      <td>2.84</td>\n",
       "      <td>146.0</td>\n",
       "    </tr>\n",
       "    <tr>\n",
       "      <th>2002-10-01</th>\n",
       "      <td>0.5</td>\n",
       "      <td>333.0</td>\n",
       "      <td>22.0</td>\n",
       "      <td>92.0</td>\n",
       "      <td>0.057</td>\n",
       "      <td>0.006</td>\n",
       "      <td>0.021</td>\n",
       "      <td>0.001</td>\n",
       "      <td>2.91</td>\n",
       "      <td>118.0</td>\n",
       "    </tr>\n",
       "    <tr>\n",
       "      <th>...</th>\n",
       "      <td>...</td>\n",
       "      <td>...</td>\n",
       "      <td>...</td>\n",
       "      <td>...</td>\n",
       "      <td>...</td>\n",
       "      <td>...</td>\n",
       "      <td>...</td>\n",
       "      <td>...</td>\n",
       "      <td>...</td>\n",
       "      <td>...</td>\n",
       "    </tr>\n",
       "    <tr>\n",
       "      <th>2002-10-04</th>\n",
       "      <td>2.6</td>\n",
       "      <td>48.0</td>\n",
       "      <td>26.3</td>\n",
       "      <td>80.0</td>\n",
       "      <td>0.027</td>\n",
       "      <td>0.006</td>\n",
       "      <td>0.040</td>\n",
       "      <td>0.015</td>\n",
       "      <td>2.25</td>\n",
       "      <td>94.0</td>\n",
       "    </tr>\n",
       "    <tr>\n",
       "      <th>2002-10-04</th>\n",
       "      <td>3.0</td>\n",
       "      <td>27.0</td>\n",
       "      <td>25.8</td>\n",
       "      <td>84.0</td>\n",
       "      <td>0.075</td>\n",
       "      <td>0.010</td>\n",
       "      <td>0.049</td>\n",
       "      <td>0.005</td>\n",
       "      <td>3.99</td>\n",
       "      <td>172.0</td>\n",
       "    </tr>\n",
       "    <tr>\n",
       "      <th>2002-10-04</th>\n",
       "      <td>2.3</td>\n",
       "      <td>15.0</td>\n",
       "      <td>25.4</td>\n",
       "      <td>85.0</td>\n",
       "      <td>0.107</td>\n",
       "      <td>0.015</td>\n",
       "      <td>0.048</td>\n",
       "      <td>0.005</td>\n",
       "      <td>4.85</td>\n",
       "      <td>179.0</td>\n",
       "    </tr>\n",
       "    <tr>\n",
       "      <th>2002-10-04</th>\n",
       "      <td>2.7</td>\n",
       "      <td>26.0</td>\n",
       "      <td>25.4</td>\n",
       "      <td>85.0</td>\n",
       "      <td>0.074</td>\n",
       "      <td>0.016</td>\n",
       "      <td>0.047</td>\n",
       "      <td>0.004</td>\n",
       "      <td>3.86</td>\n",
       "      <td>184.0</td>\n",
       "    </tr>\n",
       "    <tr>\n",
       "      <th>2002-10-05</th>\n",
       "      <td>3.3</td>\n",
       "      <td>43.0</td>\n",
       "      <td>25.9</td>\n",
       "      <td>82.0</td>\n",
       "      <td>0.081</td>\n",
       "      <td>0.014</td>\n",
       "      <td>0.058</td>\n",
       "      <td>0.004</td>\n",
       "      <td>4.11</td>\n",
       "      <td>147.0</td>\n",
       "    </tr>\n",
       "  </tbody>\n",
       "</table>\n",
       "<p>97 rows × 10 columns</p>\n",
       "</div>"
      ],
      "text/plain": [
       "            wind_speed  wind_direction  temperature  relative_humidity     no  \\\n",
       "date                                                                            \n",
       "2002-10-01         1.0           359.0         22.6               89.0  0.074   \n",
       "2002-10-01         1.0           356.0         22.3               90.0  0.068   \n",
       "2002-10-01         1.2            11.0         22.3               90.0  0.042   \n",
       "2002-10-01         0.9           349.0         22.2               90.0  0.042   \n",
       "2002-10-01         0.5           333.0         22.0               92.0  0.057   \n",
       "...                ...             ...          ...                ...    ...   \n",
       "2002-10-04         2.6            48.0         26.3               80.0  0.027   \n",
       "2002-10-04         3.0            27.0         25.8               84.0  0.075   \n",
       "2002-10-04         2.3            15.0         25.4               85.0  0.107   \n",
       "2002-10-04         2.7            26.0         25.4               85.0  0.074   \n",
       "2002-10-05         3.3            43.0         25.9               82.0  0.081   \n",
       "\n",
       "              so2    no2     o3    co   pm10  \n",
       "date                                          \n",
       "2002-10-01  0.009  0.033  0.001  3.75  142.0  \n",
       "2002-10-01  0.010  0.032  0.001  3.49  136.0  \n",
       "2002-10-01  0.007  0.028  0.001  2.98  144.0  \n",
       "2002-10-01  0.005  0.023  0.001  2.84  146.0  \n",
       "2002-10-01  0.006  0.021  0.001  2.91  118.0  \n",
       "...           ...    ...    ...   ...    ...  \n",
       "2002-10-04  0.006  0.040  0.015  2.25   94.0  \n",
       "2002-10-04  0.010  0.049  0.005  3.99  172.0  \n",
       "2002-10-04  0.015  0.048  0.005  4.85  179.0  \n",
       "2002-10-04  0.016  0.047  0.004  3.86  184.0  \n",
       "2002-10-05  0.014  0.058  0.004  4.11  147.0  \n",
       "\n",
       "[97 rows x 10 columns]"
      ]
     },
     "execution_count": 351,
     "metadata": {},
     "output_type": "execute_result"
    }
   ],
   "source": [
    "trainTest.iloc[0:97]"
   ]
  },
  {
   "cell_type": "code",
   "execution_count": 352,
   "id": "947b25b1",
   "metadata": {},
   "outputs": [
    {
     "data": {
      "text/plain": [
       "array([184., 147., 156., ...,  34.,  31.,  31.])"
      ]
     },
     "execution_count": 352,
     "metadata": {},
     "output_type": "execute_result"
    }
   ],
   "source": [
    "actualY"
   ]
  },
  {
   "cell_type": "code",
   "execution_count": 353,
   "id": "633a6938",
   "metadata": {},
   "outputs": [
    {
     "name": "stdout",
     "output_type": "stream",
     "text": [
      "RMSE : 6.064944588481161.\n",
      "MAE : 24.183651800314237.\n",
      "MAPE : 52.34588075623925.\n"
     ]
    }
   ],
   "source": [
    "rmse, mae, mape = performance_measure(actualY,y_pred_future)\n",
    "print('RMSE : {}.'.format(rmse))\n",
    "print('MAE : {}.'.format(mae))\n",
    "print('MAPE : {}.'.format(mape))"
   ]
  },
  {
   "cell_type": "code",
   "execution_count": 354,
   "id": "b0a33996",
   "metadata": {},
   "outputs": [
    {
     "data": {
      "text/html": [
       "<div>\n",
       "<style scoped>\n",
       "    .dataframe tbody tr th:only-of-type {\n",
       "        vertical-align: middle;\n",
       "    }\n",
       "\n",
       "    .dataframe tbody tr th {\n",
       "        vertical-align: top;\n",
       "    }\n",
       "\n",
       "    .dataframe thead th {\n",
       "        text-align: right;\n",
       "    }\n",
       "</style>\n",
       "<table border=\"1\" class=\"dataframe\">\n",
       "  <thead>\n",
       "    <tr style=\"text-align: right;\">\n",
       "      <th></th>\n",
       "      <th>Train Predictions</th>\n",
       "      <th>Actuals</th>\n",
       "    </tr>\n",
       "  </thead>\n",
       "  <tbody>\n",
       "    <tr>\n",
       "      <th>0</th>\n",
       "      <td>92.809975</td>\n",
       "      <td>184.0</td>\n",
       "    </tr>\n",
       "    <tr>\n",
       "      <th>1</th>\n",
       "      <td>89.845215</td>\n",
       "      <td>147.0</td>\n",
       "    </tr>\n",
       "    <tr>\n",
       "      <th>2</th>\n",
       "      <td>90.604729</td>\n",
       "      <td>156.0</td>\n",
       "    </tr>\n",
       "    <tr>\n",
       "      <th>3</th>\n",
       "      <td>93.968040</td>\n",
       "      <td>156.0</td>\n",
       "    </tr>\n",
       "    <tr>\n",
       "      <th>4</th>\n",
       "      <td>91.484146</td>\n",
       "      <td>143.0</td>\n",
       "    </tr>\n",
       "    <tr>\n",
       "      <th>...</th>\n",
       "      <td>...</td>\n",
       "      <td>...</td>\n",
       "    </tr>\n",
       "    <tr>\n",
       "      <th>115839</th>\n",
       "      <td>53.034191</td>\n",
       "      <td>45.0</td>\n",
       "    </tr>\n",
       "    <tr>\n",
       "      <th>115840</th>\n",
       "      <td>52.603851</td>\n",
       "      <td>34.0</td>\n",
       "    </tr>\n",
       "    <tr>\n",
       "      <th>115841</th>\n",
       "      <td>52.179417</td>\n",
       "      <td>34.0</td>\n",
       "    </tr>\n",
       "    <tr>\n",
       "      <th>115842</th>\n",
       "      <td>53.008965</td>\n",
       "      <td>31.0</td>\n",
       "    </tr>\n",
       "    <tr>\n",
       "      <th>115843</th>\n",
       "      <td>56.799873</td>\n",
       "      <td>31.0</td>\n",
       "    </tr>\n",
       "  </tbody>\n",
       "</table>\n",
       "<p>115844 rows × 2 columns</p>\n",
       "</div>"
      ],
      "text/plain": [
       "        Train Predictions  Actuals\n",
       "0               92.809975    184.0\n",
       "1               89.845215    147.0\n",
       "2               90.604729    156.0\n",
       "3               93.968040    156.0\n",
       "4               91.484146    143.0\n",
       "...                   ...      ...\n",
       "115839          53.034191     45.0\n",
       "115840          52.603851     34.0\n",
       "115841          52.179417     34.0\n",
       "115842          53.008965     31.0\n",
       "115843          56.799873     31.0\n",
       "\n",
       "[115844 rows x 2 columns]"
      ]
     },
     "execution_count": 354,
     "metadata": {},
     "output_type": "execute_result"
    }
   ],
   "source": [
    "train_results = pd.DataFrame(data={'Train Predictions':y_pred_future, 'Actuals':actualY})\n",
    "train_results\n"
   ]
  },
  {
   "cell_type": "code",
   "execution_count": 355,
   "id": "7bc1988f",
   "metadata": {},
   "outputs": [
    {
     "data": {
      "text/plain": [
       "[<matplotlib.lines.Line2D at 0x2b39c098dc0>]"
      ]
     },
     "execution_count": 355,
     "metadata": {},
     "output_type": "execute_result"
    },
    {
     "data": {
      "image/png": "[encoded data removed]",
      "text/plain": [
       "<Figure size 432x288 with 1 Axes>"
      ]
     },
     "metadata": {
      "needs_background": "light"
     },
     "output_type": "display_data"
    }
   ],
   "source": [
    "plt.plot(train_results['Actuals'][0:200])\n",
    "plt.plot(train_results['Train Predictions'][0:200])\n"
   ]
  },
  {
   "cell_type": "markdown",
   "id": "a2d4696d",
   "metadata": {},
   "source": [
    "### Deploy on unseen data 2020\n"
   ]
  },
  {
   "cell_type": "code",
   "execution_count": 356,
   "id": "c155e495",
   "metadata": {
    "scrolled": false
   },
   "outputs": [
    {
     "name": "stdout",
     "output_type": "stream",
     "text": [
      "verifyX shape == (8713, 48, 10).\n",
      "verifyY shape == (8713, 1).\n"
     ]
    }
   ],
   "source": [
    "verifyX, verifyY = to_sequences(verifyDeployScaled, 48, klangapi.shape[1],9)\n",
    "print('verifyX shape == {}.'.format(verifyX.shape))\n",
    "print('verifyY shape == {}.'.format(verifyY.shape))"
   ]
  },
  {
   "cell_type": "code",
   "execution_count": 357,
   "id": "21747b63",
   "metadata": {
    "scrolled": true
   },
   "outputs": [
    {
     "name": "stdout",
     "output_type": "stream",
     "text": [
      "WARNING:tensorflow:Model was constructed with shape (None, 72, 10) for input Tensor(\"lstm_18_input:0\", shape=(None, 72, 10), dtype=float32), but it was called on an input with incompatible shape (None, 48, 10).\n"
     ]
    }
   ],
   "source": [
    "prediction = modelPM10.predict(verifyX)\n",
    "\n",
    "prediction_copies = np.repeat(prediction, klangapi.shape[1], axis=-1)\n",
    "y_pred_future_test = scaler.inverse_transform(prediction_copies)[:,9]\n",
    "\n",
    "verificationYRepeat = np.repeat(verifyY, klangapi.shape[1], axis=-1)\n",
    "verificationYUnscaled = scaler.inverse_transform(verificationYRepeat)[:,9]"
   ]
  },
  {
   "cell_type": "code",
   "execution_count": 358,
   "id": "168264a7",
   "metadata": {},
   "outputs": [
    {
     "name": "stdout",
     "output_type": "stream",
     "text": [
      "RMSE : 5.392288089046661.\n",
      "MAE : 25.926522791500346.\n",
      "MAPE : 121.79023667543541.\n"
     ]
    }
   ],
   "source": [
    "rmse, mae, mape = performance_measure(verificationYUnscaled,y_pred_future_test)\n",
    "print('RMSE : {}.'.format(rmse))\n",
    "print('MAE : {}.'.format(mae))\n",
    "print('MAPE : {}.'.format(mape))"
   ]
  },
  {
   "cell_type": "code",
   "execution_count": 359,
   "id": "762fbd0b",
   "metadata": {
    "scrolled": true
   },
   "outputs": [
    {
     "data": {
      "text/html": [
       "<div>\n",
       "<style scoped>\n",
       "    .dataframe tbody tr th:only-of-type {\n",
       "        vertical-align: middle;\n",
       "    }\n",
       "\n",
       "    .dataframe tbody tr th {\n",
       "        vertical-align: top;\n",
       "    }\n",
       "\n",
       "    .dataframe thead th {\n",
       "        text-align: right;\n",
       "    }\n",
       "</style>\n",
       "<table border=\"1\" class=\"dataframe\">\n",
       "  <thead>\n",
       "    <tr style=\"text-align: right;\">\n",
       "      <th></th>\n",
       "      <th>Train Predictions</th>\n",
       "      <th>Actuals</th>\n",
       "    </tr>\n",
       "  </thead>\n",
       "  <tbody>\n",
       "    <tr>\n",
       "      <th>0</th>\n",
       "      <td>58.037342</td>\n",
       "      <td>24.327</td>\n",
       "    </tr>\n",
       "    <tr>\n",
       "      <th>1</th>\n",
       "      <td>58.901382</td>\n",
       "      <td>21.103</td>\n",
       "    </tr>\n",
       "    <tr>\n",
       "      <th>2</th>\n",
       "      <td>58.379440</td>\n",
       "      <td>20.231</td>\n",
       "    </tr>\n",
       "    <tr>\n",
       "      <th>3</th>\n",
       "      <td>61.413597</td>\n",
       "      <td>27.376</td>\n",
       "    </tr>\n",
       "    <tr>\n",
       "      <th>4</th>\n",
       "      <td>60.225990</td>\n",
       "      <td>36.652</td>\n",
       "    </tr>\n",
       "    <tr>\n",
       "      <th>...</th>\n",
       "      <td>...</td>\n",
       "      <td>...</td>\n",
       "    </tr>\n",
       "    <tr>\n",
       "      <th>8708</th>\n",
       "      <td>55.214142</td>\n",
       "      <td>15.332</td>\n",
       "    </tr>\n",
       "    <tr>\n",
       "      <th>8709</th>\n",
       "      <td>62.331661</td>\n",
       "      <td>21.630</td>\n",
       "    </tr>\n",
       "    <tr>\n",
       "      <th>8710</th>\n",
       "      <td>64.771797</td>\n",
       "      <td>25.202</td>\n",
       "    </tr>\n",
       "    <tr>\n",
       "      <th>8711</th>\n",
       "      <td>66.120491</td>\n",
       "      <td>29.169</td>\n",
       "    </tr>\n",
       "    <tr>\n",
       "      <th>8712</th>\n",
       "      <td>65.394852</td>\n",
       "      <td>30.373</td>\n",
       "    </tr>\n",
       "  </tbody>\n",
       "</table>\n",
       "<p>8713 rows × 2 columns</p>\n",
       "</div>"
      ],
      "text/plain": [
       "      Train Predictions  Actuals\n",
       "0             58.037342   24.327\n",
       "1             58.901382   21.103\n",
       "2             58.379440   20.231\n",
       "3             61.413597   27.376\n",
       "4             60.225990   36.652\n",
       "...                 ...      ...\n",
       "8708          55.214142   15.332\n",
       "8709          62.331661   21.630\n",
       "8710          64.771797   25.202\n",
       "8711          66.120491   29.169\n",
       "8712          65.394852   30.373\n",
       "\n",
       "[8713 rows x 2 columns]"
      ]
     },
     "execution_count": 359,
     "metadata": {},
     "output_type": "execute_result"
    }
   ],
   "source": [
    "test_results = pd.DataFrame(data={'Train Predictions':y_pred_future_test, 'Actuals':verificationYUnscaled})\n",
    "test_results\n"
   ]
  },
  {
   "cell_type": "code",
   "execution_count": 360,
   "id": "bee516fc",
   "metadata": {
    "scrolled": true
   },
   "outputs": [
    {
     "data": {
      "text/plain": [
       "[<matplotlib.lines.Line2D at 0x2b3e444ff70>]"
      ]
     },
     "execution_count": 360,
     "metadata": {},
     "output_type": "execute_result"
    },
    {
     "data": {
      "image/png": "[encoded data removed]",
      "text/plain": [
       "<Figure size 432x288 with 1 Axes>"
      ]
     },
     "metadata": {
      "needs_background": "light"
     },
     "output_type": "display_data"
    }
   ],
   "source": [
    "plt.plot(test_results['Actuals'][0:150])\n",
    "plt.plot(test_results['Train Predictions'][0:150])\n"
   ]
  },
  {
   "cell_type": "markdown",
   "id": "e69c3faa",
   "metadata": {},
   "source": [
    "# CO Modelling : 8"
   ]
  },
  {
   "cell_type": "code",
   "execution_count": 361,
   "id": "814ea94c",
   "metadata": {},
   "outputs": [
    {
     "name": "stdout",
     "output_type": "stream",
     "text": [
      "trainX shape == (115844, 72, 10).\n",
      "trainY shape == (115844, 1).\n",
      "testX shape == (28890, 72, 10).\n",
      "testY shape == (28890, 1).\n"
     ]
    }
   ],
   "source": [
    "trainX, trainY = to_sequences(train, 72, klangapi.shape[1], 8)\n",
    "testX, testY = to_sequences(test, 72, klangapi.shape[1], 8)\n",
    "\n",
    "print('trainX shape == {}.'.format(trainX.shape))\n",
    "print('trainY shape == {}.'.format(trainY.shape))\n",
    "\n",
    "print('testX shape == {}.'.format(testX.shape))\n",
    "print('testY shape == {}.'.format(testY.shape))"
   ]
  },
  {
   "cell_type": "code",
   "execution_count": 362,
   "id": "f8b5b0aa",
   "metadata": {},
   "outputs": [
    {
     "data": {
      "text/plain": [
       "False"
      ]
     },
     "execution_count": 362,
     "metadata": {},
     "output_type": "execute_result"
    }
   ],
   "source": [
    "trainY[0][0] == trainTestScaled[3][9]"
   ]
  },
  {
   "cell_type": "code",
   "execution_count": 363,
   "id": "55e9633e",
   "metadata": {},
   "outputs": [
    {
     "name": "stdout",
     "output_type": "stream",
     "text": [
      "Model: \"sequential_19\"\n",
      "_________________________________________________________________\n",
      "Layer (type)                 Output Shape              Param #   \n",
      "=================================================================\n",
      "lstm_19 (LSTM)               (None, 64)                19200     \n",
      "_________________________________________________________________\n",
      "dropout_19 (Dropout)         (None, 64)                0         \n",
      "_________________________________________________________________\n",
      "dense_19 (Dense)             (None, 1)                 65        \n",
      "=================================================================\n",
      "Total params: 19,265\n",
      "Trainable params: 19,265\n",
      "Non-trainable params: 0\n",
      "_________________________________________________________________\n"
     ]
    }
   ],
   "source": [
    "#trainX(number of rows, number of past days, number of features)\n",
    "#CO Modelling\n",
    "model=modelling(trainX.shape[1],trainX.shape[2]) \n",
    "model.summary()"
   ]
  },
  {
   "cell_type": "code",
   "execution_count": 364,
   "id": "6298f08d",
   "metadata": {},
   "outputs": [
    {
     "name": "stdout",
     "output_type": "stream",
     "text": [
      "Epoch 1/20\n",
      "14481/14481 [==============================] - 134s 9ms/step - loss: 0.0020 - val_loss: 7.6950e-04\n",
      "Epoch 2/20\n",
      "14481/14481 [==============================] - 134s 9ms/step - loss: 0.0019 - val_loss: 9.0295e-04\n",
      "Epoch 3/20\n",
      "14481/14481 [==============================] - 136s 9ms/step - loss: 0.0018 - val_loss: 0.0012\n",
      "Epoch 4/20\n",
      "14481/14481 [==============================] - 134s 9ms/step - loss: 0.0018 - val_loss: 8.0375e-04\n",
      "Epoch 5/20\n",
      "14481/14481 [==============================] - 134s 9ms/step - loss: 0.0018 - val_loss: 7.5326e-04\n",
      "Epoch 6/20\n",
      "14481/14481 [==============================] - 134s 9ms/step - loss: 0.0018 - val_loss: 7.2284e-04\n",
      "Epoch 7/20\n",
      "14481/14481 [==============================] - 134s 9ms/step - loss: 0.0018 - val_loss: 8.3949e-04\n",
      "Epoch 8/20\n",
      "14481/14481 [==============================] - 134s 9ms/step - loss: 0.0017 - val_loss: 7.9241e-04\n",
      "Epoch 9/20\n",
      "14481/14481 [==============================] - 133s 9ms/step - loss: 0.0017 - val_loss: 7.3547e-04\n",
      "Epoch 10/20\n",
      "14481/14481 [==============================] - 132s 9ms/step - loss: 0.0017 - val_loss: 7.9571e-04\n",
      "Epoch 11/20\n",
      "14481/14481 [==============================] - 133s 9ms/step - loss: 0.0017 - val_loss: 6.8103e-04\n",
      "Epoch 12/20\n",
      "14481/14481 [==============================] - 133s 9ms/step - loss: 0.0017 - val_loss: 7.4188e-04\n",
      "Epoch 13/20\n",
      "14481/14481 [==============================] - 133s 9ms/step - loss: 0.0017 - val_loss: 8.3515e-04\n",
      "Epoch 14/20\n",
      "14481/14481 [==============================] - 134s 9ms/step - loss: 0.0017 - val_loss: 7.5100e-04\n",
      "Epoch 15/20\n",
      "14481/14481 [==============================] - 134s 9ms/step - loss: 0.0017 - val_loss: 8.7520e-04\n",
      "Epoch 16/20\n",
      "14481/14481 [==============================] - 146s 10ms/step - loss: 0.0017 - val_loss: 8.3431e-04\n",
      "Epoch 17/20\n",
      "14481/14481 [==============================] - 140s 10ms/step - loss: 0.0016 - val_loss: 8.1569e-04\n",
      "Epoch 18/20\n",
      "14481/14481 [==============================] - 140s 10ms/step - loss: 0.0016 - val_loss: 0.0011\n",
      "Epoch 19/20\n",
      "14481/14481 [==============================] - 140s 10ms/step - loss: 0.0016 - val_loss: 7.8815e-04\n",
      "Epoch 20/20\n",
      "14481/14481 [==============================] - 141s 10ms/step - loss: 0.0016 - val_loss: 8.1634e-04\n"
     ]
    }
   ],
   "source": [
    "history = model.fit(trainX, trainY, epochs=20, batch_size=8, validation_data=(testX,testY), verbose=1)"
   ]
  },
  {
   "cell_type": "code",
   "execution_count": 365,
   "id": "90c459a6",
   "metadata": {},
   "outputs": [
    {
     "data": {
      "text/plain": [
       "<matplotlib.legend.Legend at 0x2b3ba158790>"
      ]
     },
     "execution_count": 365,
     "metadata": {},
     "output_type": "execute_result"
    },
    {
     "data": {
      "image/png": "[encoded data removed]",
      "text/plain": [
       "<Figure size 432x288 with 1 Axes>"
      ]
     },
     "metadata": {
      "needs_background": "light"
     },
     "output_type": "display_data"
    }
   ],
   "source": [
    "plt.plot(history.history['loss'], label='Training loss')\n",
    "plt.plot(history.history['val_loss'], label='Validation loss')\n",
    "plt.legend()"
   ]
  },
  {
   "cell_type": "code",
   "execution_count": 366,
   "id": "bb1ac9fb",
   "metadata": {},
   "outputs": [],
   "source": [
    "prediction = model.predict(trainX)"
   ]
  },
  {
   "cell_type": "code",
   "execution_count": 367,
   "id": "edcfc301",
   "metadata": {},
   "outputs": [
    {
     "data": {
      "text/plain": [
       "(115844,)"
      ]
     },
     "execution_count": 367,
     "metadata": {},
     "output_type": "execute_result"
    }
   ],
   "source": [
    "prediction_copies = np.repeat(prediction, klangapi.shape[1], axis=-1)\n",
    "y_pred_future = scaler.inverse_transform(prediction_copies)[:,8]\n",
    "y_pred_future.shape"
   ]
  },
  {
   "cell_type": "code",
   "execution_count": 368,
   "id": "78a38c91",
   "metadata": {},
   "outputs": [
    {
     "data": {
      "text/plain": [
       "(115844,)"
      ]
     },
     "execution_count": 368,
     "metadata": {},
     "output_type": "execute_result"
    }
   ],
   "source": [
    "actualY = np.repeat(trainY, klangapi.shape[1], axis=-1)\n",
    "actualY = scaler.inverse_transform(actualY)[:,8]\n",
    "actualY.shape"
   ]
  },
  {
   "cell_type": "code",
   "execution_count": 369,
   "id": "60ca0595",
   "metadata": {},
   "outputs": [
    {
     "name": "stdout",
     "output_type": "stream",
     "text": [
      "RMSE : 0.807917869562733.\n",
      "MAE : 0.43515352903622534.\n",
      "MAPE : 147115890382718.38.\n"
     ]
    }
   ],
   "source": [
    "rmse, mae, mape = performance_measure(actualY,y_pred_future)\n",
    "print('RMSE : {}.'.format(rmse))\n",
    "print('MAE : {}.'.format(mae))\n",
    "print('MAPE : {}.'.format(mape))"
   ]
  },
  {
   "cell_type": "code",
   "execution_count": 370,
   "id": "3efe3edb",
   "metadata": {},
   "outputs": [
    {
     "data": {
      "text/html": [
       "<div>\n",
       "<style scoped>\n",
       "    .dataframe tbody tr th:only-of-type {\n",
       "        vertical-align: middle;\n",
       "    }\n",
       "\n",
       "    .dataframe tbody tr th {\n",
       "        vertical-align: top;\n",
       "    }\n",
       "\n",
       "    .dataframe thead th {\n",
       "        text-align: right;\n",
       "    }\n",
       "</style>\n",
       "<table border=\"1\" class=\"dataframe\">\n",
       "  <thead>\n",
       "    <tr style=\"text-align: right;\">\n",
       "      <th></th>\n",
       "      <th>Train Predictions</th>\n",
       "      <th>Actuals</th>\n",
       "    </tr>\n",
       "  </thead>\n",
       "  <tbody>\n",
       "    <tr>\n",
       "      <th>0</th>\n",
       "      <td>92.809975</td>\n",
       "      <td>184.0</td>\n",
       "    </tr>\n",
       "    <tr>\n",
       "      <th>1</th>\n",
       "      <td>89.845215</td>\n",
       "      <td>147.0</td>\n",
       "    </tr>\n",
       "    <tr>\n",
       "      <th>2</th>\n",
       "      <td>90.604729</td>\n",
       "      <td>156.0</td>\n",
       "    </tr>\n",
       "    <tr>\n",
       "      <th>3</th>\n",
       "      <td>93.968040</td>\n",
       "      <td>156.0</td>\n",
       "    </tr>\n",
       "    <tr>\n",
       "      <th>4</th>\n",
       "      <td>91.484146</td>\n",
       "      <td>143.0</td>\n",
       "    </tr>\n",
       "    <tr>\n",
       "      <th>...</th>\n",
       "      <td>...</td>\n",
       "      <td>...</td>\n",
       "    </tr>\n",
       "    <tr>\n",
       "      <th>115839</th>\n",
       "      <td>53.034191</td>\n",
       "      <td>45.0</td>\n",
       "    </tr>\n",
       "    <tr>\n",
       "      <th>115840</th>\n",
       "      <td>52.603851</td>\n",
       "      <td>34.0</td>\n",
       "    </tr>\n",
       "    <tr>\n",
       "      <th>115841</th>\n",
       "      <td>52.179417</td>\n",
       "      <td>34.0</td>\n",
       "    </tr>\n",
       "    <tr>\n",
       "      <th>115842</th>\n",
       "      <td>53.008965</td>\n",
       "      <td>31.0</td>\n",
       "    </tr>\n",
       "    <tr>\n",
       "      <th>115843</th>\n",
       "      <td>56.799873</td>\n",
       "      <td>31.0</td>\n",
       "    </tr>\n",
       "  </tbody>\n",
       "</table>\n",
       "<p>115844 rows × 2 columns</p>\n",
       "</div>"
      ],
      "text/plain": [
       "        Train Predictions  Actuals\n",
       "0               92.809975    184.0\n",
       "1               89.845215    147.0\n",
       "2               90.604729    156.0\n",
       "3               93.968040    156.0\n",
       "4               91.484146    143.0\n",
       "...                   ...      ...\n",
       "115839          53.034191     45.0\n",
       "115840          52.603851     34.0\n",
       "115841          52.179417     34.0\n",
       "115842          53.008965     31.0\n",
       "115843          56.799873     31.0\n",
       "\n",
       "[115844 rows x 2 columns]"
      ]
     },
     "execution_count": 370,
     "metadata": {},
     "output_type": "execute_result"
    }
   ],
   "source": [
    "train_results"
   ]
  },
  {
   "cell_type": "code",
   "execution_count": 371,
   "id": "2bcddce6",
   "metadata": {},
   "outputs": [
    {
     "data": {
      "text/plain": [
       "[<matplotlib.lines.Line2D at 0x2b39c0de2e0>]"
      ]
     },
     "execution_count": 371,
     "metadata": {},
     "output_type": "execute_result"
    },
    {
     "data": {
      "image/png": "[encoded data removed]",
      "text/plain": [
       "<Figure size 432x288 with 1 Axes>"
      ]
     },
     "metadata": {
      "needs_background": "light"
     },
     "output_type": "display_data"
    }
   ],
   "source": [
    "train_results = pd.DataFrame(data={'Train Predictions':y_pred_future, 'Actuals':actualY})\n",
    "plt.plot(train_results['Actuals'][4500:4828])\n",
    "plt.plot(train_results['Train Predictions'][4500:4828])\n"
   ]
  },
  {
   "cell_type": "markdown",
   "id": "8a01f095",
   "metadata": {},
   "source": [
    "### Deploy on unseen data\n"
   ]
  },
  {
   "cell_type": "code",
   "execution_count": 372,
   "id": "d1bc4f59",
   "metadata": {
    "scrolled": true
   },
   "outputs": [
    {
     "name": "stdout",
     "output_type": "stream",
     "text": [
      "verifyX shape == (8689, 72, 10).\n",
      "verifyY shape == (8689, 1).\n"
     ]
    }
   ],
   "source": [
    "verifyX, verifyY = to_sequences(verifyDeployScaled, 72, klangapi.shape[1], 8)\n",
    "print('verifyX shape == {}.'.format(verifyX.shape))\n",
    "print('verifyY shape == {}.'.format(verifyY.shape))"
   ]
  },
  {
   "cell_type": "code",
   "execution_count": 373,
   "id": "6f880bc3",
   "metadata": {
    "scrolled": true
   },
   "outputs": [],
   "source": [
    "prediction = model.predict(verifyX)\n",
    "\n",
    "prediction_copies = np.repeat(prediction, klangapi.shape[1], axis=-1)\n",
    "y_pred_future_test = scaler.inverse_transform(prediction_copies)[:,8]\n",
    "\n",
    "verificationYRepeat = np.repeat(verifyY, klangapi.shape[1], axis=-1)\n",
    "verificationYUnscaled = scaler.inverse_transform(verificationYRepeat)[:,8]"
   ]
  },
  {
   "cell_type": "code",
   "execution_count": 374,
   "id": "f91934c7",
   "metadata": {},
   "outputs": [
    {
     "name": "stdout",
     "output_type": "stream",
     "text": [
      "RMSE : 0.6671234450976427.\n",
      "MAE : 0.364217567875756.\n",
      "MAPE : 60.873537890960804.\n"
     ]
    }
   ],
   "source": [
    "rmse, mae, mape = performance_measure(verificationYUnscaled,y_pred_future_test)\n",
    "print('RMSE : {}.'.format(rmse))\n",
    "print('MAE : {}.'.format(mae))\n",
    "print('MAPE : {}.'.format(mape))"
   ]
  },
  {
   "cell_type": "code",
   "execution_count": 375,
   "id": "dfc4117d",
   "metadata": {
    "scrolled": true
   },
   "outputs": [
    {
     "data": {
      "text/plain": [
       "[<matplotlib.lines.Line2D at 0x2b3b948b460>]"
      ]
     },
     "execution_count": 375,
     "metadata": {},
     "output_type": "execute_result"
    },
    {
     "data": {
      "image/png": "[encoded data removed]",
      "text/plain": [
       "<Figure size 432x288 with 1 Axes>"
      ]
     },
     "metadata": {
      "needs_background": "light"
     },
     "output_type": "display_data"
    }
   ],
   "source": [
    "plt.plot(test_results['Actuals'][300:500])\n",
    "plt.plot(test_results['Train Predictions'][300:500])\n"
   ]
  },
  {
   "cell_type": "code",
   "execution_count": 376,
   "id": "9ddd0ece",
   "metadata": {
    "scrolled": true
   },
   "outputs": [
    {
     "data": {
      "text/html": [
       "<div>\n",
       "<style scoped>\n",
       "    .dataframe tbody tr th:only-of-type {\n",
       "        vertical-align: middle;\n",
       "    }\n",
       "\n",
       "    .dataframe tbody tr th {\n",
       "        vertical-align: top;\n",
       "    }\n",
       "\n",
       "    .dataframe thead th {\n",
       "        text-align: right;\n",
       "    }\n",
       "</style>\n",
       "<table border=\"1\" class=\"dataframe\">\n",
       "  <thead>\n",
       "    <tr style=\"text-align: right;\">\n",
       "      <th></th>\n",
       "      <th>Train Predictions</th>\n",
       "      <th>Actuals</th>\n",
       "    </tr>\n",
       "  </thead>\n",
       "  <tbody>\n",
       "    <tr>\n",
       "      <th>0</th>\n",
       "      <td>1.414714</td>\n",
       "      <td>0.910</td>\n",
       "    </tr>\n",
       "    <tr>\n",
       "      <th>1</th>\n",
       "      <td>1.370939</td>\n",
       "      <td>0.887</td>\n",
       "    </tr>\n",
       "    <tr>\n",
       "      <th>2</th>\n",
       "      <td>1.309272</td>\n",
       "      <td>0.756</td>\n",
       "    </tr>\n",
       "    <tr>\n",
       "      <th>3</th>\n",
       "      <td>1.229850</td>\n",
       "      <td>0.585</td>\n",
       "    </tr>\n",
       "    <tr>\n",
       "      <th>4</th>\n",
       "      <td>1.183759</td>\n",
       "      <td>0.692</td>\n",
       "    </tr>\n",
       "    <tr>\n",
       "      <th>...</th>\n",
       "      <td>...</td>\n",
       "      <td>...</td>\n",
       "    </tr>\n",
       "    <tr>\n",
       "      <th>8684</th>\n",
       "      <td>1.185844</td>\n",
       "      <td>0.562</td>\n",
       "    </tr>\n",
       "    <tr>\n",
       "      <th>8685</th>\n",
       "      <td>1.401877</td>\n",
       "      <td>0.620</td>\n",
       "    </tr>\n",
       "    <tr>\n",
       "      <th>8686</th>\n",
       "      <td>1.533569</td>\n",
       "      <td>0.925</td>\n",
       "    </tr>\n",
       "    <tr>\n",
       "      <th>8687</th>\n",
       "      <td>1.608209</td>\n",
       "      <td>1.166</td>\n",
       "    </tr>\n",
       "    <tr>\n",
       "      <th>8688</th>\n",
       "      <td>1.592886</td>\n",
       "      <td>1.409</td>\n",
       "    </tr>\n",
       "  </tbody>\n",
       "</table>\n",
       "<p>8689 rows × 2 columns</p>\n",
       "</div>"
      ],
      "text/plain": [
       "      Train Predictions  Actuals\n",
       "0              1.414714    0.910\n",
       "1              1.370939    0.887\n",
       "2              1.309272    0.756\n",
       "3              1.229850    0.585\n",
       "4              1.183759    0.692\n",
       "...                 ...      ...\n",
       "8684           1.185844    0.562\n",
       "8685           1.401877    0.620\n",
       "8686           1.533569    0.925\n",
       "8687           1.608209    1.166\n",
       "8688           1.592886    1.409\n",
       "\n",
       "[8689 rows x 2 columns]"
      ]
     },
     "execution_count": 376,
     "metadata": {},
     "output_type": "execute_result"
    }
   ],
   "source": [
    "test_results = pd.DataFrame(data={'Train Predictions':y_pred_future_test, 'Actuals':verificationYUnscaled})\n",
    "test_results"
   ]
  },
  {
   "cell_type": "code",
   "execution_count": null,
   "id": "2bbfad19",
   "metadata": {},
   "outputs": [],
   "source": []
  },
  {
   "cell_type": "markdown",
   "id": "b2000f10",
   "metadata": {},
   "source": [
    "# O3 Modelling : 7"
   ]
  },
  {
   "cell_type": "code",
   "execution_count": 377,
   "id": "7211a122",
   "metadata": {},
   "outputs": [
    {
     "name": "stdout",
     "output_type": "stream",
     "text": [
      "trainX shape == (115844, 72, 10).\n",
      "trainY shape == (115844, 1).\n",
      "testX shape == (28890, 72, 10).\n",
      "testY shape == (28890, 1).\n"
     ]
    }
   ],
   "source": [
    "trainX, trainY = to_sequences(train, 72, klangapi.shape[1], 7)\n",
    "testX, testY = to_sequences(test, 72, klangapi.shape[1], 7)\n",
    "\n",
    "print('trainX shape == {}.'.format(trainX.shape))\n",
    "print('trainY shape == {}.'.format(trainY.shape))\n",
    "\n",
    "print('testX shape == {}.'.format(testX.shape))\n",
    "print('testY shape == {}.'.format(testY.shape))"
   ]
  },
  {
   "cell_type": "code",
   "execution_count": 378,
   "id": "2b9d8ebf",
   "metadata": {},
   "outputs": [
    {
     "data": {
      "text/plain": [
       "False"
      ]
     },
     "execution_count": 378,
     "metadata": {},
     "output_type": "execute_result"
    }
   ],
   "source": [
    "trainY[0][0] == trainTestScaled[3][7]"
   ]
  },
  {
   "cell_type": "code",
   "execution_count": 379,
   "id": "cff34186",
   "metadata": {},
   "outputs": [
    {
     "name": "stdout",
     "output_type": "stream",
     "text": [
      "Model: \"sequential_20\"\n",
      "_________________________________________________________________\n",
      "Layer (type)                 Output Shape              Param #   \n",
      "=================================================================\n",
      "lstm_20 (LSTM)               (None, 64)                19200     \n",
      "_________________________________________________________________\n",
      "dropout_20 (Dropout)         (None, 64)                0         \n",
      "_________________________________________________________________\n",
      "dense_20 (Dense)             (None, 1)                 65        \n",
      "=================================================================\n",
      "Total params: 19,265\n",
      "Trainable params: 19,265\n",
      "Non-trainable params: 0\n",
      "_________________________________________________________________\n"
     ]
    }
   ],
   "source": [
    "#trainX(number of rows, number of past days, number of features)\n",
    "#CO Modelling\n",
    "model=modelling(trainX.shape[1],trainX.shape[2]) \n",
    "model.summary()"
   ]
  },
  {
   "cell_type": "code",
   "execution_count": 380,
   "id": "df5ea754",
   "metadata": {},
   "outputs": [
    {
     "name": "stdout",
     "output_type": "stream",
     "text": [
      "Epoch 1/20\n",
      "14481/14481 [==============================] - 142s 10ms/step - loss: 0.0070 - val_loss: 0.0063\n",
      "Epoch 2/20\n",
      "14481/14481 [==============================] - 165s 11ms/step - loss: 0.0064 - val_loss: 0.0059\n",
      "Epoch 3/20\n",
      "14481/14481 [==============================] - 174s 12ms/step - loss: 0.0063 - val_loss: 0.0060\n",
      "Epoch 4/20\n",
      "14481/14481 [==============================] - 156s 11ms/step - loss: 0.0062 - val_loss: 0.0058\n",
      "Epoch 5/20\n",
      "14481/14481 [==============================] - 174s 12ms/step - loss: 0.0061 - val_loss: 0.0058\n",
      "Epoch 6/20\n",
      "14481/14481 [==============================] - 170s 12ms/step - loss: 0.0061 - val_loss: 0.0057\n",
      "Epoch 7/20\n",
      "14481/14481 [==============================] - 163s 11ms/step - loss: 0.0060 - val_loss: 0.0058\n",
      "Epoch 8/20\n",
      "14481/14481 [==============================] - 163s 11ms/step - loss: 0.0060 - val_loss: 0.0059\n",
      "Epoch 9/20\n",
      "14481/14481 [==============================] - 162s 11ms/step - loss: 0.0060 - val_loss: 0.0061\n",
      "Epoch 10/20\n",
      "14481/14481 [==============================] - 165s 11ms/step - loss: 0.0059 - val_loss: 0.0058\n",
      "Epoch 11/20\n",
      "14481/14481 [==============================] - 163s 11ms/step - loss: 0.0059 - val_loss: 0.0066\n",
      "Epoch 12/20\n",
      "14481/14481 [==============================] - 163s 11ms/step - loss: 0.0058 - val_loss: 0.0058\n",
      "Epoch 13/20\n",
      "14481/14481 [==============================] - 166s 11ms/step - loss: 0.0058 - val_loss: 0.0059\n",
      "Epoch 14/20\n",
      "14481/14481 [==============================] - 166s 11ms/step - loss: 0.0058 - val_loss: 0.0057\n",
      "Epoch 15/20\n",
      "14481/14481 [==============================] - 161s 11ms/step - loss: 0.0057 - val_loss: 0.0059\n",
      "Epoch 16/20\n",
      "14481/14481 [==============================] - 159s 11ms/step - loss: 0.0057 - val_loss: 0.0061\n",
      "Epoch 17/20\n",
      "14481/14481 [==============================] - 162s 11ms/step - loss: 0.0056 - val_loss: 0.0059\n",
      "Epoch 18/20\n",
      "14481/14481 [==============================] - 166s 11ms/step - loss: 0.0056 - val_loss: 0.0061\n",
      "Epoch 19/20\n",
      "14481/14481 [==============================] - 171s 12ms/step - loss: 0.0055 - val_loss: 0.0062\n",
      "Epoch 20/20\n",
      "14481/14481 [==============================] - 162s 11ms/step - loss: 0.0055 - val_loss: 0.0061\n"
     ]
    }
   ],
   "source": [
    "history = model.fit(trainX, trainY, epochs=20, batch_size=8, validation_data=(testX,testY), verbose=1)"
   ]
  },
  {
   "cell_type": "code",
   "execution_count": 381,
   "id": "adf68328",
   "metadata": {},
   "outputs": [
    {
     "data": {
      "text/plain": [
       "<matplotlib.legend.Legend at 0x2b3bb964d60>"
      ]
     },
     "execution_count": 381,
     "metadata": {},
     "output_type": "execute_result"
    },
    {
     "data": {
      "image/png": "[encoded data removed]",
      "text/plain": [
       "<Figure size 432x288 with 1 Axes>"
      ]
     },
     "metadata": {
      "needs_background": "light"
     },
     "output_type": "display_data"
    }
   ],
   "source": [
    "plt.plot(history.history['loss'], label='Training loss')\n",
    "plt.plot(history.history['val_loss'], label='Validation loss')\n",
    "plt.legend()"
   ]
  },
  {
   "cell_type": "code",
   "execution_count": 382,
   "id": "80cda86c",
   "metadata": {},
   "outputs": [],
   "source": [
    "prediction = model.predict(trainX)"
   ]
  },
  {
   "cell_type": "code",
   "execution_count": 383,
   "id": "7f12fae2",
   "metadata": {},
   "outputs": [
    {
     "data": {
      "text/plain": [
       "(115844,)"
      ]
     },
     "execution_count": 383,
     "metadata": {},
     "output_type": "execute_result"
    }
   ],
   "source": [
    "prediction_copies = np.repeat(prediction, klangapi.shape[1], axis=-1)\n",
    "y_pred_future = scaler.inverse_transform(prediction_copies)[:,7]\n",
    "y_pred_future.shape"
   ]
  },
  {
   "cell_type": "code",
   "execution_count": 384,
   "id": "fc96a4b2",
   "metadata": {},
   "outputs": [
    {
     "data": {
      "text/plain": [
       "(115844,)"
      ]
     },
     "execution_count": 384,
     "metadata": {},
     "output_type": "execute_result"
    }
   ],
   "source": [
    "actualY = np.repeat(trainY, klangapi.shape[1], axis=-1)\n",
    "actualY = scaler.inverse_transform(actualY)[:,7]\n",
    "actualY.shape"
   ]
  },
  {
   "cell_type": "code",
   "execution_count": 385,
   "id": "25e5c101",
   "metadata": {},
   "outputs": [
    {
     "name": "stdout",
     "output_type": "stream",
     "text": [
      "RMSE : 0.0964326651025325.\n",
      "MAE : 0.006344358785462265.\n",
      "MAPE : 39433568654143.74.\n"
     ]
    }
   ],
   "source": [
    "rmse, mae, mape = performance_measure(actualY,y_pred_future)\n",
    "print('RMSE : {}.'.format(rmse))\n",
    "print('MAE : {}.'.format(mae))\n",
    "print('MAPE : {}.'.format(mape))"
   ]
  },
  {
   "cell_type": "code",
   "execution_count": 386,
   "id": "39a3852a",
   "metadata": {},
   "outputs": [
    {
     "data": {
      "text/html": [
       "<div>\n",
       "<style scoped>\n",
       "    .dataframe tbody tr th:only-of-type {\n",
       "        vertical-align: middle;\n",
       "    }\n",
       "\n",
       "    .dataframe tbody tr th {\n",
       "        vertical-align: top;\n",
       "    }\n",
       "\n",
       "    .dataframe thead th {\n",
       "        text-align: right;\n",
       "    }\n",
       "</style>\n",
       "<table border=\"1\" class=\"dataframe\">\n",
       "  <thead>\n",
       "    <tr style=\"text-align: right;\">\n",
       "      <th></th>\n",
       "      <th>Train Predictions</th>\n",
       "      <th>Actuals</th>\n",
       "    </tr>\n",
       "  </thead>\n",
       "  <tbody>\n",
       "    <tr>\n",
       "      <th>0</th>\n",
       "      <td>2.044697</td>\n",
       "      <td>3.86</td>\n",
       "    </tr>\n",
       "    <tr>\n",
       "      <th>1</th>\n",
       "      <td>2.020671</td>\n",
       "      <td>4.11</td>\n",
       "    </tr>\n",
       "    <tr>\n",
       "      <th>2</th>\n",
       "      <td>1.847489</td>\n",
       "      <td>3.28</td>\n",
       "    </tr>\n",
       "    <tr>\n",
       "      <th>3</th>\n",
       "      <td>1.690067</td>\n",
       "      <td>2.94</td>\n",
       "    </tr>\n",
       "    <tr>\n",
       "      <th>4</th>\n",
       "      <td>1.596604</td>\n",
       "      <td>3.22</td>\n",
       "    </tr>\n",
       "    <tr>\n",
       "      <th>...</th>\n",
       "      <td>...</td>\n",
       "      <td>...</td>\n",
       "    </tr>\n",
       "    <tr>\n",
       "      <th>115839</th>\n",
       "      <td>0.498639</td>\n",
       "      <td>0.37</td>\n",
       "    </tr>\n",
       "    <tr>\n",
       "      <th>115840</th>\n",
       "      <td>0.569050</td>\n",
       "      <td>0.34</td>\n",
       "    </tr>\n",
       "    <tr>\n",
       "      <th>115841</th>\n",
       "      <td>0.603107</td>\n",
       "      <td>0.38</td>\n",
       "    </tr>\n",
       "    <tr>\n",
       "      <th>115842</th>\n",
       "      <td>0.743548</td>\n",
       "      <td>0.49</td>\n",
       "    </tr>\n",
       "    <tr>\n",
       "      <th>115843</th>\n",
       "      <td>0.889085</td>\n",
       "      <td>0.59</td>\n",
       "    </tr>\n",
       "  </tbody>\n",
       "</table>\n",
       "<p>115844 rows × 2 columns</p>\n",
       "</div>"
      ],
      "text/plain": [
       "        Train Predictions  Actuals\n",
       "0                2.044697     3.86\n",
       "1                2.020671     4.11\n",
       "2                1.847489     3.28\n",
       "3                1.690067     2.94\n",
       "4                1.596604     3.22\n",
       "...                   ...      ...\n",
       "115839           0.498639     0.37\n",
       "115840           0.569050     0.34\n",
       "115841           0.603107     0.38\n",
       "115842           0.743548     0.49\n",
       "115843           0.889085     0.59\n",
       "\n",
       "[115844 rows x 2 columns]"
      ]
     },
     "execution_count": 386,
     "metadata": {},
     "output_type": "execute_result"
    }
   ],
   "source": [
    "train_results"
   ]
  },
  {
   "cell_type": "code",
   "execution_count": 387,
   "id": "c6e49620",
   "metadata": {
    "scrolled": true
   },
   "outputs": [
    {
     "data": {
      "text/plain": [
       "[<matplotlib.lines.Line2D at 0x2b39a426bb0>]"
      ]
     },
     "execution_count": 387,
     "metadata": {},
     "output_type": "execute_result"
    },
    {
     "data": {
      "image/png": "[encoded data removed]",
      "text/plain": [
       "<Figure size 432x288 with 1 Axes>"
      ]
     },
     "metadata": {
      "needs_background": "light"
     },
     "output_type": "display_data"
    }
   ],
   "source": [
    "train_results = pd.DataFrame(data={'Train Predictions':y_pred_future, 'Actuals':actualY})\n",
    "plt.plot(train_results['Actuals'][4500:4828])\n",
    "plt.plot(train_results['Train Predictions'][4500:4828])\n"
   ]
  },
  {
   "cell_type": "markdown",
   "id": "d8ceac84",
   "metadata": {},
   "source": [
    "### Deploy on unseen data\n"
   ]
  },
  {
   "cell_type": "code",
   "execution_count": 388,
   "id": "c0094e24",
   "metadata": {
    "scrolled": true
   },
   "outputs": [
    {
     "name": "stdout",
     "output_type": "stream",
     "text": [
      "verifyX shape == (8689, 72, 10).\n",
      "verifyY shape == (8689, 1).\n"
     ]
    }
   ],
   "source": [
    "verifyX, verifyY = to_sequences(verifyDeployScaled, 72, klangapi.shape[1], 7)\n",
    "print('verifyX shape == {}.'.format(verifyX.shape))\n",
    "print('verifyY shape == {}.'.format(verifyY.shape))"
   ]
  },
  {
   "cell_type": "code",
   "execution_count": 389,
   "id": "2d2fb7b8",
   "metadata": {
    "scrolled": true
   },
   "outputs": [],
   "source": [
    "prediction = model.predict(verifyX)\n",
    "\n",
    "prediction_copies = np.repeat(prediction, klangapi.shape[1], axis=-1)\n",
    "y_pred_future_test = scaler.inverse_transform(prediction_copies)[:,7]\n",
    "\n",
    "verificationYRepeat = np.repeat(verifyY, klangapi.shape[1], axis=-1)\n",
    "verificationYUnscaled = scaler.inverse_transform(verificationYRepeat)[:,7]"
   ]
  },
  {
   "cell_type": "code",
   "execution_count": 390,
   "id": "36a0ca01",
   "metadata": {},
   "outputs": [
    {
     "name": "stdout",
     "output_type": "stream",
     "text": [
      "RMSE : 0.09377561677564437.\n",
      "MAE : 0.0062778690092101935.\n",
      "MAPE : 114.51688139193972.\n"
     ]
    }
   ],
   "source": [
    "rmse, mae, mape = performance_measure(verificationYUnscaled,y_pred_future_test)\n",
    "print('RMSE : {}.'.format(rmse))\n",
    "print('MAE : {}.'.format(mae))\n",
    "print('MAPE : {}.'.format(mape))"
   ]
  },
  {
   "cell_type": "code",
   "execution_count": 391,
   "id": "c6b91863",
   "metadata": {
    "scrolled": true
   },
   "outputs": [
    {
     "data": {
      "text/html": [
       "<div>\n",
       "<style scoped>\n",
       "    .dataframe tbody tr th:only-of-type {\n",
       "        vertical-align: middle;\n",
       "    }\n",
       "\n",
       "    .dataframe tbody tr th {\n",
       "        vertical-align: top;\n",
       "    }\n",
       "\n",
       "    .dataframe thead th {\n",
       "        text-align: right;\n",
       "    }\n",
       "</style>\n",
       "<table border=\"1\" class=\"dataframe\">\n",
       "  <thead>\n",
       "    <tr style=\"text-align: right;\">\n",
       "      <th></th>\n",
       "      <th>Train Predictions</th>\n",
       "      <th>Actuals</th>\n",
       "    </tr>\n",
       "  </thead>\n",
       "  <tbody>\n",
       "    <tr>\n",
       "      <th>0</th>\n",
       "      <td>0.002446</td>\n",
       "      <td>0.0080</td>\n",
       "    </tr>\n",
       "    <tr>\n",
       "      <th>1</th>\n",
       "      <td>0.002696</td>\n",
       "      <td>0.0079</td>\n",
       "    </tr>\n",
       "    <tr>\n",
       "      <th>2</th>\n",
       "      <td>0.002902</td>\n",
       "      <td>0.0063</td>\n",
       "    </tr>\n",
       "    <tr>\n",
       "      <th>3</th>\n",
       "      <td>0.002593</td>\n",
       "      <td>0.0075</td>\n",
       "    </tr>\n",
       "    <tr>\n",
       "      <th>4</th>\n",
       "      <td>0.001907</td>\n",
       "      <td>0.0090</td>\n",
       "    </tr>\n",
       "    <tr>\n",
       "      <th>...</th>\n",
       "      <td>...</td>\n",
       "      <td>...</td>\n",
       "    </tr>\n",
       "    <tr>\n",
       "      <th>8684</th>\n",
       "      <td>0.018772</td>\n",
       "      <td>0.0275</td>\n",
       "    </tr>\n",
       "    <tr>\n",
       "      <th>8685</th>\n",
       "      <td>0.012869</td>\n",
       "      <td>0.0164</td>\n",
       "    </tr>\n",
       "    <tr>\n",
       "      <th>8686</th>\n",
       "      <td>0.008269</td>\n",
       "      <td>0.0084</td>\n",
       "    </tr>\n",
       "    <tr>\n",
       "      <th>8687</th>\n",
       "      <td>0.005256</td>\n",
       "      <td>0.0036</td>\n",
       "    </tr>\n",
       "    <tr>\n",
       "      <th>8688</th>\n",
       "      <td>0.003773</td>\n",
       "      <td>0.0021</td>\n",
       "    </tr>\n",
       "  </tbody>\n",
       "</table>\n",
       "<p>8689 rows × 2 columns</p>\n",
       "</div>"
      ],
      "text/plain": [
       "      Train Predictions  Actuals\n",
       "0              0.002446   0.0080\n",
       "1              0.002696   0.0079\n",
       "2              0.002902   0.0063\n",
       "3              0.002593   0.0075\n",
       "4              0.001907   0.0090\n",
       "...                 ...      ...\n",
       "8684           0.018772   0.0275\n",
       "8685           0.012869   0.0164\n",
       "8686           0.008269   0.0084\n",
       "8687           0.005256   0.0036\n",
       "8688           0.003773   0.0021\n",
       "\n",
       "[8689 rows x 2 columns]"
      ]
     },
     "execution_count": 391,
     "metadata": {},
     "output_type": "execute_result"
    }
   ],
   "source": [
    "test_results = pd.DataFrame(data={'Train Predictions':y_pred_future_test, 'Actuals':verificationYUnscaled})\n",
    "test_results"
   ]
  },
  {
   "cell_type": "code",
   "execution_count": 392,
   "id": "f4d415fb",
   "metadata": {
    "scrolled": true
   },
   "outputs": [
    {
     "data": {
      "text/plain": [
       "[<matplotlib.lines.Line2D at 0x2b39eb79490>]"
      ]
     },
     "execution_count": 392,
     "metadata": {},
     "output_type": "execute_result"
    },
    {
     "data": {
      "image/png": "[encoded data removed]",
      "text/plain": [
       "<Figure size 432x288 with 1 Axes>"
      ]
     },
     "metadata": {
      "needs_background": "light"
     },
     "output_type": "display_data"
    }
   ],
   "source": [
    "plt.plot(test_results['Actuals'][300:500])\n",
    "plt.plot(test_results['Train Predictions'][300:500])\n"
   ]
  },
  {
   "cell_type": "code",
   "execution_count": null,
   "id": "a4ef00ed",
   "metadata": {},
   "outputs": [],
   "source": []
  },
  {
   "cell_type": "markdown",
   "id": "2c32b5f5",
   "metadata": {},
   "source": [
    "# NO2 Modelling : 6"
   ]
  },
  {
   "cell_type": "code",
   "execution_count": 393,
   "id": "b00413b4",
   "metadata": {},
   "outputs": [
    {
     "name": "stdout",
     "output_type": "stream",
     "text": [
      "trainX shape == (115844, 72, 10).\n",
      "trainY shape == (115844, 1).\n",
      "testX shape == (28890, 72, 10).\n",
      "testY shape == (28890, 1).\n"
     ]
    }
   ],
   "source": [
    "trainX, trainY = to_sequences(train, 72, klangapi.shape[1], 6)\n",
    "testX, testY = to_sequences(test, 72, klangapi.shape[1], 6)\n",
    "\n",
    "print('trainX shape == {}.'.format(trainX.shape))\n",
    "print('trainY shape == {}.'.format(trainY.shape))\n",
    "\n",
    "print('testX shape == {}.'.format(testX.shape))\n",
    "print('testY shape == {}.'.format(testY.shape))"
   ]
  },
  {
   "cell_type": "code",
   "execution_count": 394,
   "id": "b3cbf775",
   "metadata": {
    "scrolled": true
   },
   "outputs": [
    {
     "data": {
      "text/plain": [
       "False"
      ]
     },
     "execution_count": 394,
     "metadata": {},
     "output_type": "execute_result"
    }
   ],
   "source": [
    "trainY[0][0] == trainTestScaled[3][6]"
   ]
  },
  {
   "cell_type": "code",
   "execution_count": 395,
   "id": "0bc7e906",
   "metadata": {},
   "outputs": [
    {
     "name": "stdout",
     "output_type": "stream",
     "text": [
      "Model: \"sequential_21\"\n",
      "_________________________________________________________________\n",
      "Layer (type)                 Output Shape              Param #   \n",
      "=================================================================\n",
      "lstm_21 (LSTM)               (None, 64)                19200     \n",
      "_________________________________________________________________\n",
      "dropout_21 (Dropout)         (None, 64)                0         \n",
      "_________________________________________________________________\n",
      "dense_21 (Dense)             (None, 1)                 65        \n",
      "=================================================================\n",
      "Total params: 19,265\n",
      "Trainable params: 19,265\n",
      "Non-trainable params: 0\n",
      "_________________________________________________________________\n",
      "Epoch 1/20\n",
      "14481/14481 [==============================] - 168s 12ms/step - loss: 0.0062 - val_loss: 0.0042\n",
      "Epoch 2/20\n",
      "14481/14481 [==============================] - 171s 12ms/step - loss: 0.0058 - val_loss: 0.0041\n",
      "Epoch 3/20\n",
      "14481/14481 [==============================] - 171s 12ms/step - loss: 0.0057 - val_loss: 0.0042\n",
      "Epoch 4/20\n",
      "14481/14481 [==============================] - 166s 11ms/step - loss: 0.0056 - val_loss: 0.0041\n",
      "Epoch 5/20\n",
      "14481/14481 [==============================] - 166s 11ms/step - loss: 0.0056 - val_loss: 0.0041\n",
      "Epoch 6/20\n",
      "14481/14481 [==============================] - 172s 12ms/step - loss: 0.0055 - val_loss: 0.0041\n",
      "Epoch 7/20\n",
      "14481/14481 [==============================] - 176s 12ms/step - loss: 0.0055 - val_loss: 0.0045\n",
      "Epoch 8/20\n",
      "14481/14481 [==============================] - 171s 12ms/step - loss: 0.0055 - val_loss: 0.0042\n",
      "Epoch 9/20\n",
      "14481/14481 [==============================] - 176s 12ms/step - loss: 0.0055 - val_loss: 0.0051\n",
      "Epoch 10/20\n",
      "14481/14481 [==============================] - 161s 11ms/step - loss: 0.0054 - val_loss: 0.0046\n",
      "Epoch 11/20\n",
      "14481/14481 [==============================] - 151s 10ms/step - loss: 0.0054 - val_loss: 0.0048\n",
      "Epoch 12/20\n",
      "14481/14481 [==============================] - 147s 10ms/step - loss: 0.0054 - val_loss: 0.0045\n",
      "Epoch 13/20\n",
      "14481/14481 [==============================] - 149s 10ms/step - loss: 0.0053 - val_loss: 0.0050\n",
      "Epoch 14/20\n",
      "14481/14481 [==============================] - 149s 10ms/step - loss: 0.0053 - val_loss: 0.0043\n",
      "Epoch 15/20\n",
      "14481/14481 [==============================] - 145s 10ms/step - loss: 0.0053 - val_loss: 0.0045\n",
      "Epoch 16/20\n",
      "14481/14481 [==============================] - 142s 10ms/step - loss: 0.0052 - val_loss: 0.0059\n",
      "Epoch 17/20\n",
      "14481/14481 [==============================] - 142s 10ms/step - loss: 0.0052 - val_loss: 0.0044\n",
      "Epoch 18/20\n",
      "14481/14481 [==============================] - 141s 10ms/step - loss: 0.0052 - val_loss: 0.0058\n",
      "Epoch 19/20\n",
      "14481/14481 [==============================] - 142s 10ms/step - loss: 0.0051 - val_loss: 0.0051\n",
      "Epoch 20/20\n",
      "14481/14481 [==============================] - 141s 10ms/step - loss: 0.0051 - val_loss: 0.0056\n"
     ]
    }
   ],
   "source": [
    "#trainX(number of rows, number of past days, number of features)\n",
    "#CO Modelling\n",
    "model=modelling(trainX.shape[1],trainX.shape[2]) \n",
    "model.summary()\n",
    "history = model.fit(trainX, trainY, epochs=20, batch_size=8, validation_data=(testX,testY), verbose=1)"
   ]
  },
  {
   "cell_type": "code",
   "execution_count": 396,
   "id": "10c18073",
   "metadata": {},
   "outputs": [
    {
     "data": {
      "text/plain": [
       "<matplotlib.legend.Legend at 0x2b383a9d4c0>"
      ]
     },
     "execution_count": 396,
     "metadata": {},
     "output_type": "execute_result"
    },
    {
     "data": {
      "image/png": "[encoded data removed]",
      "text/plain": [
       "<Figure size 432x288 with 1 Axes>"
      ]
     },
     "metadata": {
      "needs_background": "light"
     },
     "output_type": "display_data"
    }
   ],
   "source": [
    "plt.plot(history.history['loss'], label='Training loss')\n",
    "plt.plot(history.history['val_loss'], label='Validation loss')\n",
    "plt.legend()"
   ]
  },
  {
   "cell_type": "code",
   "execution_count": 397,
   "id": "c3847f1a",
   "metadata": {},
   "outputs": [],
   "source": [
    "prediction = model.predict(trainX)"
   ]
  },
  {
   "cell_type": "code",
   "execution_count": 398,
   "id": "66ffffee",
   "metadata": {},
   "outputs": [
    {
     "data": {
      "text/plain": [
       "(115844,)"
      ]
     },
     "execution_count": 398,
     "metadata": {},
     "output_type": "execute_result"
    }
   ],
   "source": [
    "prediction_copies = np.repeat(prediction, klangapi.shape[1], axis=-1)\n",
    "y_pred_future = scaler.inverse_transform(prediction_copies)[:,6]\n",
    "y_pred_future.shape"
   ]
  },
  {
   "cell_type": "code",
   "execution_count": 399,
   "id": "b16e3044",
   "metadata": {},
   "outputs": [],
   "source": [
    "# y_pred_future=np.round_(y_pred_future, decimals = 4)"
   ]
  },
  {
   "cell_type": "code",
   "execution_count": 400,
   "id": "290e342a",
   "metadata": {},
   "outputs": [
    {
     "data": {
      "text/plain": [
       "array([0.04077436, 0.03881147, 0.03503543, ..., 0.0166519 , 0.02150245,\n",
       "       0.02602219], dtype=float32)"
      ]
     },
     "execution_count": 400,
     "metadata": {},
     "output_type": "execute_result"
    }
   ],
   "source": [
    "y_pred_future"
   ]
  },
  {
   "cell_type": "code",
   "execution_count": 401,
   "id": "4dfab5e1",
   "metadata": {},
   "outputs": [
    {
     "data": {
      "text/plain": [
       "(115844,)"
      ]
     },
     "execution_count": 401,
     "metadata": {},
     "output_type": "execute_result"
    }
   ],
   "source": [
    "actualY = np.repeat(trainY, klangapi.shape[1], axis=-1)\n",
    "actualY = scaler.inverse_transform(actualY)[:,6]\n",
    "actualY.shape"
   ]
  },
  {
   "cell_type": "code",
   "execution_count": 402,
   "id": "0a4fa329",
   "metadata": {},
   "outputs": [
    {
     "data": {
      "text/plain": [
       "array([0.047, 0.058, 0.043, ..., 0.012, 0.012, 0.014])"
      ]
     },
     "execution_count": 402,
     "metadata": {},
     "output_type": "execute_result"
    }
   ],
   "source": [
    "actualY"
   ]
  },
  {
   "cell_type": "code",
   "execution_count": 403,
   "id": "38c3d2fc",
   "metadata": {},
   "outputs": [
    {
     "name": "stdout",
     "output_type": "stream",
     "text": [
      "RMSE : 0.09481603490602478.\n",
      "MAE : 0.006940206924397968.\n",
      "MAPE : 13544600558624.83.\n"
     ]
    }
   ],
   "source": [
    "rmse, mae, mape = performance_measure(actualY,y_pred_future)\n",
    "print('RMSE : {}.'.format(rmse))\n",
    "print('MAE : {}.'.format(mae))\n",
    "print('MAPE : {}.'.format(mape))"
   ]
  },
  {
   "cell_type": "code",
   "execution_count": 404,
   "id": "11eff850",
   "metadata": {
    "scrolled": true
   },
   "outputs": [
    {
     "data": {
      "text/plain": [
       "[<matplotlib.lines.Line2D at 0x2b3a4d760a0>]"
      ]
     },
     "execution_count": 404,
     "metadata": {},
     "output_type": "execute_result"
    },
    {
     "data": {
      "image/png": "[encoded data removed]",
      "text/plain": [
       "<Figure size 432x288 with 1 Axes>"
      ]
     },
     "metadata": {
      "needs_background": "light"
     },
     "output_type": "display_data"
    }
   ],
   "source": [
    "train_results = pd.DataFrame(data={'Train Predictions':y_pred_future, 'Actuals':actualY})\n",
    "plt.plot(train_results['Actuals'][4500:4828])\n",
    "plt.plot(train_results['Train Predictions'][4500:4828])\n"
   ]
  },
  {
   "cell_type": "code",
   "execution_count": 405,
   "id": "8157bb2c",
   "metadata": {},
   "outputs": [
    {
     "data": {
      "text/html": [
       "<div>\n",
       "<style scoped>\n",
       "    .dataframe tbody tr th:only-of-type {\n",
       "        vertical-align: middle;\n",
       "    }\n",
       "\n",
       "    .dataframe tbody tr th {\n",
       "        vertical-align: top;\n",
       "    }\n",
       "\n",
       "    .dataframe thead th {\n",
       "        text-align: right;\n",
       "    }\n",
       "</style>\n",
       "<table border=\"1\" class=\"dataframe\">\n",
       "  <thead>\n",
       "    <tr style=\"text-align: right;\">\n",
       "      <th></th>\n",
       "      <th>Train Predictions</th>\n",
       "      <th>Actuals</th>\n",
       "    </tr>\n",
       "  </thead>\n",
       "  <tbody>\n",
       "    <tr>\n",
       "      <th>0</th>\n",
       "      <td>0.040774</td>\n",
       "      <td>0.047</td>\n",
       "    </tr>\n",
       "    <tr>\n",
       "      <th>1</th>\n",
       "      <td>0.038811</td>\n",
       "      <td>0.058</td>\n",
       "    </tr>\n",
       "    <tr>\n",
       "      <th>2</th>\n",
       "      <td>0.035035</td>\n",
       "      <td>0.043</td>\n",
       "    </tr>\n",
       "    <tr>\n",
       "      <th>3</th>\n",
       "      <td>0.032384</td>\n",
       "      <td>0.039</td>\n",
       "    </tr>\n",
       "    <tr>\n",
       "      <th>4</th>\n",
       "      <td>0.029260</td>\n",
       "      <td>0.038</td>\n",
       "    </tr>\n",
       "    <tr>\n",
       "      <th>...</th>\n",
       "      <td>...</td>\n",
       "      <td>...</td>\n",
       "    </tr>\n",
       "    <tr>\n",
       "      <th>115839</th>\n",
       "      <td>0.013607</td>\n",
       "      <td>0.009</td>\n",
       "    </tr>\n",
       "    <tr>\n",
       "      <th>115840</th>\n",
       "      <td>0.013859</td>\n",
       "      <td>0.009</td>\n",
       "    </tr>\n",
       "    <tr>\n",
       "      <th>115841</th>\n",
       "      <td>0.016652</td>\n",
       "      <td>0.012</td>\n",
       "    </tr>\n",
       "    <tr>\n",
       "      <th>115842</th>\n",
       "      <td>0.021502</td>\n",
       "      <td>0.012</td>\n",
       "    </tr>\n",
       "    <tr>\n",
       "      <th>115843</th>\n",
       "      <td>0.026022</td>\n",
       "      <td>0.014</td>\n",
       "    </tr>\n",
       "  </tbody>\n",
       "</table>\n",
       "<p>115844 rows × 2 columns</p>\n",
       "</div>"
      ],
      "text/plain": [
       "        Train Predictions  Actuals\n",
       "0                0.040774    0.047\n",
       "1                0.038811    0.058\n",
       "2                0.035035    0.043\n",
       "3                0.032384    0.039\n",
       "4                0.029260    0.038\n",
       "...                   ...      ...\n",
       "115839           0.013607    0.009\n",
       "115840           0.013859    0.009\n",
       "115841           0.016652    0.012\n",
       "115842           0.021502    0.012\n",
       "115843           0.026022    0.014\n",
       "\n",
       "[115844 rows x 2 columns]"
      ]
     },
     "execution_count": 405,
     "metadata": {},
     "output_type": "execute_result"
    }
   ],
   "source": [
    "train_results"
   ]
  },
  {
   "cell_type": "code",
   "execution_count": 406,
   "id": "dbd9820e",
   "metadata": {},
   "outputs": [],
   "source": [
    "# klangapi.loc['2015-04-24':'2015-06-30']['no2'].plot()"
   ]
  },
  {
   "cell_type": "markdown",
   "id": "89dbf6f5",
   "metadata": {},
   "source": [
    "### Deploy on unseen data\n"
   ]
  },
  {
   "cell_type": "code",
   "execution_count": 407,
   "id": "07ec1025",
   "metadata": {
    "scrolled": true
   },
   "outputs": [
    {
     "name": "stdout",
     "output_type": "stream",
     "text": [
      "verifyX shape == (8689, 72, 10).\n",
      "verifyY shape == (8689, 1).\n"
     ]
    }
   ],
   "source": [
    "verifyX, verifyY = to_sequences(verifyDeployScaled, 72, klangapi.shape[1], 6)\n",
    "print('verifyX shape == {}.'.format(verifyX.shape))\n",
    "print('verifyY shape == {}.'.format(verifyY.shape))"
   ]
  },
  {
   "cell_type": "code",
   "execution_count": 408,
   "id": "22f63866",
   "metadata": {
    "scrolled": true
   },
   "outputs": [],
   "source": [
    "prediction = model.predict(verifyX)\n",
    "\n",
    "prediction_copies = np.repeat(prediction, klangapi.shape[1], axis=-1)\n",
    "y_pred_future_test = scaler.inverse_transform(prediction_copies)[:,6]\n",
    "\n",
    "verificationYRepeat = np.repeat(verifyY, klangapi.shape[1], axis=-1)\n",
    "verificationYUnscaled = scaler.inverse_transform(verificationYRepeat)[:,6]"
   ]
  },
  {
   "cell_type": "code",
   "execution_count": 409,
   "id": "64022f26",
   "metadata": {},
   "outputs": [
    {
     "name": "stdout",
     "output_type": "stream",
     "text": [
      "RMSE : 0.10471324589846362.\n",
      "MAE : 0.009404681671470645.\n",
      "MAPE : 125.40866224713328.\n"
     ]
    }
   ],
   "source": [
    "rmse, mae, mape = performance_measure(verificationYUnscaled,y_pred_future_test)\n",
    "print('RMSE : {}.'.format(rmse))\n",
    "print('MAE : {}.'.format(mae))\n",
    "print('MAPE : {}.'.format(mape))"
   ]
  },
  {
   "cell_type": "code",
   "execution_count": 410,
   "id": "75885be9",
   "metadata": {
    "scrolled": true
   },
   "outputs": [
    {
     "data": {
      "text/html": [
       "<div>\n",
       "<style scoped>\n",
       "    .dataframe tbody tr th:only-of-type {\n",
       "        vertical-align: middle;\n",
       "    }\n",
       "\n",
       "    .dataframe tbody tr th {\n",
       "        vertical-align: top;\n",
       "    }\n",
       "\n",
       "    .dataframe thead th {\n",
       "        text-align: right;\n",
       "    }\n",
       "</style>\n",
       "<table border=\"1\" class=\"dataframe\">\n",
       "  <thead>\n",
       "    <tr style=\"text-align: right;\">\n",
       "      <th></th>\n",
       "      <th>Train Predictions</th>\n",
       "      <th>Actuals</th>\n",
       "    </tr>\n",
       "  </thead>\n",
       "  <tbody>\n",
       "    <tr>\n",
       "      <th>0</th>\n",
       "      <td>0.026160</td>\n",
       "      <td>0.0247</td>\n",
       "    </tr>\n",
       "    <tr>\n",
       "      <th>1</th>\n",
       "      <td>0.023243</td>\n",
       "      <td>0.0201</td>\n",
       "    </tr>\n",
       "    <tr>\n",
       "      <th>2</th>\n",
       "      <td>0.020552</td>\n",
       "      <td>0.0144</td>\n",
       "    </tr>\n",
       "    <tr>\n",
       "      <th>3</th>\n",
       "      <td>0.018789</td>\n",
       "      <td>0.0131</td>\n",
       "    </tr>\n",
       "    <tr>\n",
       "      <th>4</th>\n",
       "      <td>0.017576</td>\n",
       "      <td>0.0109</td>\n",
       "    </tr>\n",
       "    <tr>\n",
       "      <th>...</th>\n",
       "      <td>...</td>\n",
       "      <td>...</td>\n",
       "    </tr>\n",
       "    <tr>\n",
       "      <th>8684</th>\n",
       "      <td>0.032287</td>\n",
       "      <td>0.0077</td>\n",
       "    </tr>\n",
       "    <tr>\n",
       "      <th>8685</th>\n",
       "      <td>0.034921</td>\n",
       "      <td>0.0161</td>\n",
       "    </tr>\n",
       "    <tr>\n",
       "      <th>8686</th>\n",
       "      <td>0.035970</td>\n",
       "      <td>0.0220</td>\n",
       "    </tr>\n",
       "    <tr>\n",
       "      <th>8687</th>\n",
       "      <td>0.035576</td>\n",
       "      <td>0.0278</td>\n",
       "    </tr>\n",
       "    <tr>\n",
       "      <th>8688</th>\n",
       "      <td>0.034014</td>\n",
       "      <td>0.0292</td>\n",
       "    </tr>\n",
       "  </tbody>\n",
       "</table>\n",
       "<p>8689 rows × 2 columns</p>\n",
       "</div>"
      ],
      "text/plain": [
       "      Train Predictions  Actuals\n",
       "0              0.026160   0.0247\n",
       "1              0.023243   0.0201\n",
       "2              0.020552   0.0144\n",
       "3              0.018789   0.0131\n",
       "4              0.017576   0.0109\n",
       "...                 ...      ...\n",
       "8684           0.032287   0.0077\n",
       "8685           0.034921   0.0161\n",
       "8686           0.035970   0.0220\n",
       "8687           0.035576   0.0278\n",
       "8688           0.034014   0.0292\n",
       "\n",
       "[8689 rows x 2 columns]"
      ]
     },
     "execution_count": 410,
     "metadata": {},
     "output_type": "execute_result"
    }
   ],
   "source": [
    "test_results = pd.DataFrame(data={'Train Predictions':y_pred_future_test, 'Actuals':verificationYUnscaled})\n",
    "test_results"
   ]
  },
  {
   "cell_type": "code",
   "execution_count": 411,
   "id": "bfe999df",
   "metadata": {
    "scrolled": false
   },
   "outputs": [
    {
     "data": {
      "text/plain": [
       "[<matplotlib.lines.Line2D at 0x2b3a4ddcdc0>]"
      ]
     },
     "execution_count": 411,
     "metadata": {},
     "output_type": "execute_result"
    },
    {
     "data": {
      "image/png": "[encoded data removed]",
      "text/plain": [
       "<Figure size 432x288 with 1 Axes>"
      ]
     },
     "metadata": {
      "needs_background": "light"
     },
     "output_type": "display_data"
    }
   ],
   "source": [
    "plt.plot(test_results['Actuals'][300:500])\n",
    "plt.plot(test_results['Train Predictions'][300:500])\n"
   ]
  },
  {
   "cell_type": "markdown",
   "id": "2243b111",
   "metadata": {},
   "source": [
    "# SO2 Modelling : 5"
   ]
  },
  {
   "cell_type": "code",
   "execution_count": 412,
   "id": "c53d7aa6",
   "metadata": {},
   "outputs": [
    {
     "name": "stdout",
     "output_type": "stream",
     "text": [
      "trainX shape == (115844, 72, 10).\n",
      "trainY shape == (115844, 1).\n",
      "testX shape == (28890, 72, 10).\n",
      "testY shape == (28890, 1).\n"
     ]
    }
   ],
   "source": [
    "trainX, trainY = to_sequences(train, 72, klangapi.shape[1], 5)\n",
    "testX, testY = to_sequences(test, 72, klangapi.shape[1], 5)\n",
    "\n",
    "print('trainX shape == {}.'.format(trainX.shape))\n",
    "print('trainY shape == {}.'.format(trainY.shape))\n",
    "\n",
    "print('testX shape == {}.'.format(testX.shape))\n",
    "print('testY shape == {}.'.format(testY.shape))"
   ]
  },
  {
   "cell_type": "code",
   "execution_count": 413,
   "id": "e30833b7",
   "metadata": {},
   "outputs": [
    {
     "data": {
      "text/plain": [
       "False"
      ]
     },
     "execution_count": 413,
     "metadata": {},
     "output_type": "execute_result"
    }
   ],
   "source": [
    "trainY[0][0] == trainTestScaled[3][5]"
   ]
  },
  {
   "cell_type": "code",
   "execution_count": 414,
   "id": "341893ee",
   "metadata": {},
   "outputs": [
    {
     "name": "stdout",
     "output_type": "stream",
     "text": [
      "Model: \"sequential_22\"\n",
      "_________________________________________________________________\n",
      "Layer (type)                 Output Shape              Param #   \n",
      "=================================================================\n",
      "lstm_22 (LSTM)               (None, 64)                19200     \n",
      "_________________________________________________________________\n",
      "dropout_22 (Dropout)         (None, 64)                0         \n",
      "_________________________________________________________________\n",
      "dense_22 (Dense)             (None, 1)                 65        \n",
      "=================================================================\n",
      "Total params: 19,265\n",
      "Trainable params: 19,265\n",
      "Non-trainable params: 0\n",
      "_________________________________________________________________\n"
     ]
    }
   ],
   "source": [
    "#trainX(number of rows, number of past days, number of features)\n",
    "#CO Modelling\n",
    "model=modelling(trainX.shape[1],trainX.shape[2]) \n",
    "model.summary()"
   ]
  },
  {
   "cell_type": "code",
   "execution_count": 415,
   "id": "97e95901",
   "metadata": {},
   "outputs": [
    {
     "name": "stdout",
     "output_type": "stream",
     "text": [
      "Epoch 1/20\n",
      "14481/14481 [==============================] - 142s 10ms/step - loss: 0.0019 - val_loss: 7.2565e-04\n",
      "Epoch 2/20\n",
      "14481/14481 [==============================] - 141s 10ms/step - loss: 0.0018 - val_loss: 9.3060e-04\n",
      "Epoch 3/20\n",
      "14481/14481 [==============================] - 155s 11ms/step - loss: 0.0018 - val_loss: 8.0505e-04\n",
      "Epoch 4/20\n",
      "14481/14481 [==============================] - 152s 10ms/step - loss: 0.0018 - val_loss: 7.2855e-04\n",
      "Epoch 5/20\n",
      "14481/14481 [==============================] - 153s 11ms/step - loss: 0.0018 - val_loss: 8.3709e-04\n",
      "Epoch 6/20\n",
      "14481/14481 [==============================] - 146s 10ms/step - loss: 0.0017 - val_loss: 7.4694e-04\n",
      "Epoch 7/20\n",
      "14481/14481 [==============================] - 144s 10ms/step - loss: 0.0017 - val_loss: 7.5132e-04\n",
      "Epoch 8/20\n",
      "14481/14481 [==============================] - 152s 10ms/step - loss: 0.0017 - val_loss: 7.4749e-04\n",
      "Epoch 9/20\n",
      "14481/14481 [==============================] - 148s 10ms/step - loss: 0.0017 - val_loss: 8.9843e-04\n",
      "Epoch 10/20\n",
      "14481/14481 [==============================] - 157s 11ms/step - loss: 0.0017 - val_loss: 0.0010\n",
      "Epoch 11/20\n",
      "14481/14481 [==============================] - 150s 10ms/step - loss: 0.0017 - val_loss: 7.3923e-04\n",
      "Epoch 12/20\n",
      "14481/14481 [==============================] - 148s 10ms/step - loss: 0.0017 - val_loss: 7.4535e-04\n",
      "Epoch 13/20\n",
      "14481/14481 [==============================] - 147s 10ms/step - loss: 0.0017 - val_loss: 7.6172e-04\n",
      "Epoch 14/20\n",
      "14481/14481 [==============================] - 149s 10ms/step - loss: 0.0017 - val_loss: 7.7791e-04\n",
      "Epoch 15/20\n",
      "14481/14481 [==============================] - 166s 11ms/step - loss: 0.0017 - val_loss: 7.2626e-04\n",
      "Epoch 16/20\n",
      "14481/14481 [==============================] - 153s 11ms/step - loss: 0.0017 - val_loss: 9.1044e-04\n",
      "Epoch 17/20\n",
      "14481/14481 [==============================] - 147s 10ms/step - loss: 0.0017 - val_loss: 8.6275e-04\n",
      "Epoch 18/20\n",
      "14481/14481 [==============================] - 145s 10ms/step - loss: 0.0017 - val_loss: 7.8499e-04\n",
      "Epoch 19/20\n",
      "14481/14481 [==============================] - 144s 10ms/step - loss: 0.0017 - val_loss: 9.4432e-04\n",
      "Epoch 20/20\n",
      "14481/14481 [==============================] - 147s 10ms/step - loss: 0.0017 - val_loss: 8.7274e-04\n"
     ]
    }
   ],
   "source": [
    "history = model.fit(trainX, trainY, epochs=20, batch_size=8, validation_data=(testX,testY), verbose=1)"
   ]
  },
  {
   "cell_type": "code",
   "execution_count": 416,
   "id": "fd0f59a3",
   "metadata": {},
   "outputs": [
    {
     "data": {
      "text/plain": [
       "<matplotlib.legend.Legend at 0x2b3bd6282b0>"
      ]
     },
     "execution_count": 416,
     "metadata": {},
     "output_type": "execute_result"
    },
    {
     "data": {
      "image/png": "[encoded data removed]",
      "text/plain": [
       "<Figure size 432x288 with 1 Axes>"
      ]
     },
     "metadata": {
      "needs_background": "light"
     },
     "output_type": "display_data"
    }
   ],
   "source": [
    "plt.plot(history.history['loss'], label='Training loss')\n",
    "plt.plot(history.history['val_loss'], label='Validation loss')\n",
    "plt.legend()"
   ]
  },
  {
   "cell_type": "code",
   "execution_count": 417,
   "id": "7e921965",
   "metadata": {},
   "outputs": [],
   "source": [
    "prediction = model.predict(trainX)"
   ]
  },
  {
   "cell_type": "code",
   "execution_count": 418,
   "id": "f2eaa8df",
   "metadata": {},
   "outputs": [
    {
     "data": {
      "text/plain": [
       "(115844,)"
      ]
     },
     "execution_count": 418,
     "metadata": {},
     "output_type": "execute_result"
    }
   ],
   "source": [
    "prediction_copies = np.repeat(prediction, klangapi.shape[1], axis=-1)\n",
    "y_pred_future = scaler.inverse_transform(prediction_copies)[:,5]\n",
    "y_pred_future.shape"
   ]
  },
  {
   "cell_type": "code",
   "execution_count": 419,
   "id": "f8313f6c",
   "metadata": {},
   "outputs": [
    {
     "data": {
      "text/plain": [
       "(115844,)"
      ]
     },
     "execution_count": 419,
     "metadata": {},
     "output_type": "execute_result"
    }
   ],
   "source": [
    "actualY = np.repeat(trainY, klangapi.shape[1], axis=-1)\n",
    "actualY = scaler.inverse_transform(actualY)[:,5]\n",
    "actualY.shape"
   ]
  },
  {
   "cell_type": "code",
   "execution_count": 420,
   "id": "e8e9995e",
   "metadata": {},
   "outputs": [
    {
     "name": "stdout",
     "output_type": "stream",
     "text": [
      "RMSE : 0.06748481526109366.\n",
      "MAE : 0.002589050580349194.\n",
      "MAPE : 34715793092247.016.\n"
     ]
    }
   ],
   "source": [
    "rmse, mae, mape = performance_measure(actualY,y_pred_future)\n",
    "print('RMSE : {}.'.format(rmse))\n",
    "print('MAE : {}.'.format(mae))\n",
    "print('MAPE : {}.'.format(mape))"
   ]
  },
  {
   "cell_type": "code",
   "execution_count": 421,
   "id": "444a1401",
   "metadata": {},
   "outputs": [
    {
     "data": {
      "text/html": [
       "<div>\n",
       "<style scoped>\n",
       "    .dataframe tbody tr th:only-of-type {\n",
       "        vertical-align: middle;\n",
       "    }\n",
       "\n",
       "    .dataframe tbody tr th {\n",
       "        vertical-align: top;\n",
       "    }\n",
       "\n",
       "    .dataframe thead th {\n",
       "        text-align: right;\n",
       "    }\n",
       "</style>\n",
       "<table border=\"1\" class=\"dataframe\">\n",
       "  <thead>\n",
       "    <tr style=\"text-align: right;\">\n",
       "      <th></th>\n",
       "      <th>Train Predictions</th>\n",
       "      <th>Actuals</th>\n",
       "    </tr>\n",
       "  </thead>\n",
       "  <tbody>\n",
       "    <tr>\n",
       "      <th>0</th>\n",
       "      <td>0.040774</td>\n",
       "      <td>0.047</td>\n",
       "    </tr>\n",
       "    <tr>\n",
       "      <th>1</th>\n",
       "      <td>0.038811</td>\n",
       "      <td>0.058</td>\n",
       "    </tr>\n",
       "    <tr>\n",
       "      <th>2</th>\n",
       "      <td>0.035035</td>\n",
       "      <td>0.043</td>\n",
       "    </tr>\n",
       "    <tr>\n",
       "      <th>3</th>\n",
       "      <td>0.032384</td>\n",
       "      <td>0.039</td>\n",
       "    </tr>\n",
       "    <tr>\n",
       "      <th>4</th>\n",
       "      <td>0.029260</td>\n",
       "      <td>0.038</td>\n",
       "    </tr>\n",
       "    <tr>\n",
       "      <th>...</th>\n",
       "      <td>...</td>\n",
       "      <td>...</td>\n",
       "    </tr>\n",
       "    <tr>\n",
       "      <th>115839</th>\n",
       "      <td>0.013607</td>\n",
       "      <td>0.009</td>\n",
       "    </tr>\n",
       "    <tr>\n",
       "      <th>115840</th>\n",
       "      <td>0.013859</td>\n",
       "      <td>0.009</td>\n",
       "    </tr>\n",
       "    <tr>\n",
       "      <th>115841</th>\n",
       "      <td>0.016652</td>\n",
       "      <td>0.012</td>\n",
       "    </tr>\n",
       "    <tr>\n",
       "      <th>115842</th>\n",
       "      <td>0.021502</td>\n",
       "      <td>0.012</td>\n",
       "    </tr>\n",
       "    <tr>\n",
       "      <th>115843</th>\n",
       "      <td>0.026022</td>\n",
       "      <td>0.014</td>\n",
       "    </tr>\n",
       "  </tbody>\n",
       "</table>\n",
       "<p>115844 rows × 2 columns</p>\n",
       "</div>"
      ],
      "text/plain": [
       "        Train Predictions  Actuals\n",
       "0                0.040774    0.047\n",
       "1                0.038811    0.058\n",
       "2                0.035035    0.043\n",
       "3                0.032384    0.039\n",
       "4                0.029260    0.038\n",
       "...                   ...      ...\n",
       "115839           0.013607    0.009\n",
       "115840           0.013859    0.009\n",
       "115841           0.016652    0.012\n",
       "115842           0.021502    0.012\n",
       "115843           0.026022    0.014\n",
       "\n",
       "[115844 rows x 2 columns]"
      ]
     },
     "execution_count": 421,
     "metadata": {},
     "output_type": "execute_result"
    }
   ],
   "source": [
    "train_results"
   ]
  },
  {
   "cell_type": "code",
   "execution_count": 422,
   "id": "bc1e0e74",
   "metadata": {},
   "outputs": [
    {
     "data": {
      "text/plain": [
       "[<matplotlib.lines.Line2D at 0x2b39a52a400>]"
      ]
     },
     "execution_count": 422,
     "metadata": {},
     "output_type": "execute_result"
    },
    {
     "data": {
      "image/png": "[encoded data removed]",
      "text/plain": [
       "<Figure size 432x288 with 1 Axes>"
      ]
     },
     "metadata": {
      "needs_background": "light"
     },
     "output_type": "display_data"
    }
   ],
   "source": [
    "train_results = pd.DataFrame(data={'Train Predictions':y_pred_future, 'Actuals':actualY})\n",
    "plt.plot(train_results['Actuals'][4500:4828])\n",
    "plt.plot(train_results['Train Predictions'][4500:4828])\n"
   ]
  },
  {
   "cell_type": "markdown",
   "id": "25182bb7",
   "metadata": {},
   "source": [
    "### Deploy on unseen data\n"
   ]
  },
  {
   "cell_type": "code",
   "execution_count": 423,
   "id": "6d3788bf",
   "metadata": {
    "scrolled": true
   },
   "outputs": [
    {
     "name": "stdout",
     "output_type": "stream",
     "text": [
      "verifyX shape == (8689, 72, 10).\n",
      "verifyY shape == (8689, 1).\n"
     ]
    }
   ],
   "source": [
    "verifyX, verifyY = to_sequences(verifyDeployScaled, 72, klangapi.shape[1], 5)\n",
    "print('verifyX shape == {}.'.format(verifyX.shape))\n",
    "print('verifyY shape == {}.'.format(verifyY.shape))"
   ]
  },
  {
   "cell_type": "code",
   "execution_count": 424,
   "id": "6e3cff2e",
   "metadata": {
    "scrolled": true
   },
   "outputs": [],
   "source": [
    "prediction = model.predict(verifyX)\n",
    "\n",
    "prediction_copies = np.repeat(prediction, klangapi.shape[1], axis=-1)\n",
    "y_pred_future_test = scaler.inverse_transform(prediction_copies)[:,5]\n",
    "\n",
    "verificationYRepeat = np.repeat(verifyY, klangapi.shape[1], axis=-1)\n",
    "verificationYUnscaled = scaler.inverse_transform(verificationYRepeat)[:,5]"
   ]
  },
  {
   "cell_type": "code",
   "execution_count": 425,
   "id": "f1f66713",
   "metadata": {},
   "outputs": [
    {
     "name": "stdout",
     "output_type": "stream",
     "text": [
      "RMSE : 0.051742418987131986.\n",
      "MAE : 0.0024476142885781894.\n",
      "MAPE : 2607060667278.2456.\n"
     ]
    }
   ],
   "source": [
    "rmse, mae, mape = performance_measure(verificationYUnscaled,y_pred_future_test)\n",
    "print('RMSE : {}.'.format(rmse))\n",
    "print('MAE : {}.'.format(mae))\n",
    "print('MAPE : {}.'.format(mape))"
   ]
  },
  {
   "cell_type": "code",
   "execution_count": 426,
   "id": "65e9dd5f",
   "metadata": {
    "scrolled": true
   },
   "outputs": [
    {
     "data": {
      "text/html": [
       "<div>\n",
       "<style scoped>\n",
       "    .dataframe tbody tr th:only-of-type {\n",
       "        vertical-align: middle;\n",
       "    }\n",
       "\n",
       "    .dataframe tbody tr th {\n",
       "        vertical-align: top;\n",
       "    }\n",
       "\n",
       "    .dataframe thead th {\n",
       "        text-align: right;\n",
       "    }\n",
       "</style>\n",
       "<table border=\"1\" class=\"dataframe\">\n",
       "  <thead>\n",
       "    <tr style=\"text-align: right;\">\n",
       "      <th></th>\n",
       "      <th>Train Predictions</th>\n",
       "      <th>Actuals</th>\n",
       "    </tr>\n",
       "  </thead>\n",
       "  <tbody>\n",
       "    <tr>\n",
       "      <th>0</th>\n",
       "      <td>0.003031</td>\n",
       "      <td>0.0005</td>\n",
       "    </tr>\n",
       "    <tr>\n",
       "      <th>1</th>\n",
       "      <td>0.002896</td>\n",
       "      <td>0.0004</td>\n",
       "    </tr>\n",
       "    <tr>\n",
       "      <th>2</th>\n",
       "      <td>0.002795</td>\n",
       "      <td>0.0006</td>\n",
       "    </tr>\n",
       "    <tr>\n",
       "      <th>3</th>\n",
       "      <td>0.002807</td>\n",
       "      <td>0.0005</td>\n",
       "    </tr>\n",
       "    <tr>\n",
       "      <th>4</th>\n",
       "      <td>0.002796</td>\n",
       "      <td>0.0006</td>\n",
       "    </tr>\n",
       "    <tr>\n",
       "      <th>...</th>\n",
       "      <td>...</td>\n",
       "      <td>...</td>\n",
       "    </tr>\n",
       "    <tr>\n",
       "      <th>8684</th>\n",
       "      <td>0.003859</td>\n",
       "      <td>0.0012</td>\n",
       "    </tr>\n",
       "    <tr>\n",
       "      <th>8685</th>\n",
       "      <td>0.003907</td>\n",
       "      <td>0.0011</td>\n",
       "    </tr>\n",
       "    <tr>\n",
       "      <th>8686</th>\n",
       "      <td>0.003792</td>\n",
       "      <td>0.0011</td>\n",
       "    </tr>\n",
       "    <tr>\n",
       "      <th>8687</th>\n",
       "      <td>0.003598</td>\n",
       "      <td>0.0012</td>\n",
       "    </tr>\n",
       "    <tr>\n",
       "      <th>8688</th>\n",
       "      <td>0.003491</td>\n",
       "      <td>0.0012</td>\n",
       "    </tr>\n",
       "  </tbody>\n",
       "</table>\n",
       "<p>8689 rows × 2 columns</p>\n",
       "</div>"
      ],
      "text/plain": [
       "      Train Predictions  Actuals\n",
       "0              0.003031   0.0005\n",
       "1              0.002896   0.0004\n",
       "2              0.002795   0.0006\n",
       "3              0.002807   0.0005\n",
       "4              0.002796   0.0006\n",
       "...                 ...      ...\n",
       "8684           0.003859   0.0012\n",
       "8685           0.003907   0.0011\n",
       "8686           0.003792   0.0011\n",
       "8687           0.003598   0.0012\n",
       "8688           0.003491   0.0012\n",
       "\n",
       "[8689 rows x 2 columns]"
      ]
     },
     "execution_count": 426,
     "metadata": {},
     "output_type": "execute_result"
    }
   ],
   "source": [
    "test_results = pd.DataFrame(data={'Train Predictions':y_pred_future_test, 'Actuals':verificationYUnscaled})\n",
    "test_results"
   ]
  },
  {
   "cell_type": "code",
   "execution_count": 427,
   "id": "a510a805",
   "metadata": {
    "scrolled": false
   },
   "outputs": [
    {
     "data": {
      "text/plain": [
       "[<matplotlib.lines.Line2D at 0x2b3e5b9fd60>]"
      ]
     },
     "execution_count": 427,
     "metadata": {},
     "output_type": "execute_result"
    },
    {
     "data": {
      "image/png": "[encoded data removed]",
      "text/plain": [
       "<Figure size 432x288 with 1 Axes>"
      ]
     },
     "metadata": {
      "needs_background": "light"
     },
     "output_type": "display_data"
    }
   ],
   "source": [
    "plt.plot(test_results['Actuals'][300:500])\n",
    "plt.plot(test_results['Train Predictions'][300:500])\n"
   ]
  },
  {
   "cell_type": "code",
   "execution_count": null,
   "id": "623082e6",
   "metadata": {},
   "outputs": [],
   "source": []
  },
  {
   "cell_type": "markdown",
   "id": "040b0dbd",
   "metadata": {},
   "source": [
    "# NO Modelling : 4"
   ]
  },
  {
   "cell_type": "code",
   "execution_count": 428,
   "id": "de2796c8",
   "metadata": {},
   "outputs": [
    {
     "name": "stdout",
     "output_type": "stream",
     "text": [
      "trainX shape == (115844, 72, 10).\n",
      "trainY shape == (115844, 1).\n",
      "testX shape == (28890, 72, 10).\n",
      "testY shape == (28890, 1).\n"
     ]
    }
   ],
   "source": [
    "trainX, trainY = to_sequences(train, 72, klangapi.shape[1], 4)\n",
    "testX, testY = to_sequences(test, 72, klangapi.shape[1], 4)\n",
    "\n",
    "print('trainX shape == {}.'.format(trainX.shape))\n",
    "print('trainY shape == {}.'.format(trainY.shape))\n",
    "\n",
    "print('testX shape == {}.'.format(testX.shape))\n",
    "print('testY shape == {}.'.format(testY.shape))"
   ]
  },
  {
   "cell_type": "code",
   "execution_count": 451,
   "id": "1d3cbfd7",
   "metadata": {},
   "outputs": [
    {
     "data": {
      "text/plain": [
       "False"
      ]
     },
     "execution_count": 451,
     "metadata": {},
     "output_type": "execute_result"
    }
   ],
   "source": [
    "trainY[0][0] == trainTestScaled[97][4]"
   ]
  },
  {
   "cell_type": "code",
   "execution_count": 430,
   "id": "933eda24",
   "metadata": {},
   "outputs": [
    {
     "name": "stdout",
     "output_type": "stream",
     "text": [
      "Model: \"sequential_23\"\n",
      "_________________________________________________________________\n",
      "Layer (type)                 Output Shape              Param #   \n",
      "=================================================================\n",
      "lstm_23 (LSTM)               (None, 64)                19200     \n",
      "_________________________________________________________________\n",
      "dropout_23 (Dropout)         (None, 64)                0         \n",
      "_________________________________________________________________\n",
      "dense_23 (Dense)             (None, 1)                 65        \n",
      "=================================================================\n",
      "Total params: 19,265\n",
      "Trainable params: 19,265\n",
      "Non-trainable params: 0\n",
      "_________________________________________________________________\n"
     ]
    }
   ],
   "source": [
    "#trainX(number of rows, number of past days, number of features)\n",
    "#CO Modelling\n",
    "model=modelling(trainX.shape[1],trainX.shape[2]) \n",
    "model.summary()"
   ]
  },
  {
   "cell_type": "code",
   "execution_count": 431,
   "id": "84c630b3",
   "metadata": {},
   "outputs": [
    {
     "name": "stdout",
     "output_type": "stream",
     "text": [
      "Epoch 1/20\n",
      "14481/14481 [==============================] - 147s 10ms/step - loss: 0.0043 - val_loss: 0.0026\n",
      "Epoch 2/20\n",
      "14481/14481 [==============================] - 149s 10ms/step - loss: 0.0041 - val_loss: 0.0024\n",
      "Epoch 3/20\n",
      "14481/14481 [==============================] - 146s 10ms/step - loss: 0.0040 - val_loss: 0.0026\n",
      "Epoch 4/20\n",
      "14481/14481 [==============================] - 152s 10ms/step - loss: 0.0039 - val_loss: 0.0020\n",
      "Epoch 5/20\n",
      "14481/14481 [==============================] - 145s 10ms/step - loss: 0.0039 - val_loss: 0.0023\n",
      "Epoch 6/20\n",
      "14481/14481 [==============================] - 145s 10ms/step - loss: 0.0039 - val_loss: 0.0025\n",
      "Epoch 7/20\n",
      "14481/14481 [==============================] - 145s 10ms/step - loss: 0.0039 - val_loss: 0.0028\n",
      "Epoch 8/20\n",
      "14481/14481 [==============================] - 148s 10ms/step - loss: 0.0039 - val_loss: 0.0024\n",
      "Epoch 9/20\n",
      "14481/14481 [==============================] - 144s 10ms/step - loss: 0.0038 - val_loss: 0.0023\n",
      "Epoch 10/20\n",
      "14481/14481 [==============================] - 144s 10ms/step - loss: 0.0038 - val_loss: 0.0025\n",
      "Epoch 11/20\n",
      "14481/14481 [==============================] - 145s 10ms/step - loss: 0.0038 - val_loss: 0.0022\n",
      "Epoch 12/20\n",
      "14481/14481 [==============================] - 145s 10ms/step - loss: 0.0038 - val_loss: 0.0023\n",
      "Epoch 13/20\n",
      "14481/14481 [==============================] - 145s 10ms/step - loss: 0.0038 - val_loss: 0.0023\n",
      "Epoch 14/20\n",
      "14481/14481 [==============================] - 144s 10ms/step - loss: 0.0038 - val_loss: 0.0025\n",
      "Epoch 15/20\n",
      "14481/14481 [==============================] - 144s 10ms/step - loss: 0.0037 - val_loss: 0.0026\n",
      "Epoch 16/20\n",
      "14481/14481 [==============================] - 144s 10ms/step - loss: 0.0037 - val_loss: 0.0025\n",
      "Epoch 17/20\n",
      "14481/14481 [==============================] - 146s 10ms/step - loss: 0.0037 - val_loss: 0.0021\n",
      "Epoch 18/20\n",
      "14481/14481 [==============================] - 142s 10ms/step - loss: 0.0037 - val_loss: 0.0027\n",
      "Epoch 19/20\n",
      "14481/14481 [==============================] - 143s 10ms/step - loss: 0.0037 - val_loss: 0.0024\n",
      "Epoch 20/20\n",
      "14481/14481 [==============================] - 151s 10ms/step - loss: 0.0037 - val_loss: 0.0024\n"
     ]
    }
   ],
   "source": [
    "history = model.fit(trainX, trainY, epochs=20, batch_size=8, validation_data=(testX,testY), verbose=1)"
   ]
  },
  {
   "cell_type": "code",
   "execution_count": 432,
   "id": "d36ef982",
   "metadata": {},
   "outputs": [
    {
     "data": {
      "text/plain": [
       "<matplotlib.legend.Legend at 0x2b3bb468cd0>"
      ]
     },
     "execution_count": 432,
     "metadata": {},
     "output_type": "execute_result"
    },
    {
     "data": {
      "image/png": "[encoded data removed]",
      "text/plain": [
       "<Figure size 432x288 with 1 Axes>"
      ]
     },
     "metadata": {
      "needs_background": "light"
     },
     "output_type": "display_data"
    }
   ],
   "source": [
    "plt.plot(history.history['loss'], label='Training loss')\n",
    "plt.plot(history.history['val_loss'], label='Validation loss')\n",
    "plt.legend()"
   ]
  },
  {
   "cell_type": "code",
   "execution_count": 433,
   "id": "d4f0d559",
   "metadata": {},
   "outputs": [],
   "source": [
    "prediction = model.predict(trainX)"
   ]
  },
  {
   "cell_type": "code",
   "execution_count": 434,
   "id": "dd8e5c5b",
   "metadata": {},
   "outputs": [
    {
     "data": {
      "text/plain": [
       "(115844,)"
      ]
     },
     "execution_count": 434,
     "metadata": {},
     "output_type": "execute_result"
    }
   ],
   "source": [
    "prediction_copies = np.repeat(prediction, klangapi.shape[1], axis=-1)\n",
    "y_pred_future = scaler.inverse_transform(prediction_copies)[:,4]\n",
    "y_pred_future.shape"
   ]
  },
  {
   "cell_type": "code",
   "execution_count": 435,
   "id": "48516f70",
   "metadata": {},
   "outputs": [
    {
     "data": {
      "text/plain": [
       "(115844,)"
      ]
     },
     "execution_count": 435,
     "metadata": {},
     "output_type": "execute_result"
    }
   ],
   "source": [
    "actualY = np.repeat(trainY, klangapi.shape[1], axis=-1)\n",
    "actualY = scaler.inverse_transform(actualY)[:,4]\n",
    "actualY.shape"
   ]
  },
  {
   "cell_type": "code",
   "execution_count": 436,
   "id": "0642ca74",
   "metadata": {},
   "outputs": [
    {
     "name": "stdout",
     "output_type": "stream",
     "text": [
      "RMSE : 0.13606846752757715.\n",
      "MAE : 0.012309796123692693.\n",
      "MAPE : 355749650536022.8.\n"
     ]
    }
   ],
   "source": [
    "rmse, mae, mape = performance_measure(actualY,y_pred_future)\n",
    "print('RMSE : {}.'.format(rmse))\n",
    "print('MAE : {}.'.format(mae))\n",
    "print('MAPE : {}.'.format(mape))"
   ]
  },
  {
   "cell_type": "code",
   "execution_count": 437,
   "id": "1dd4085a",
   "metadata": {},
   "outputs": [
    {
     "data": {
      "text/plain": [
       "[<matplotlib.lines.Line2D at 0x2b39a0df220>]"
      ]
     },
     "execution_count": 437,
     "metadata": {},
     "output_type": "execute_result"
    },
    {
     "data": {
      "image/png": "[encoded data removed]",
      "text/plain": [
       "<Figure size 432x288 with 1 Axes>"
      ]
     },
     "metadata": {
      "needs_background": "light"
     },
     "output_type": "display_data"
    }
   ],
   "source": [
    "train_results = pd.DataFrame(data={'Train Predictions':y_pred_future, 'Actuals':actualY})\n",
    "plt.plot(train_results['Actuals'][4500:4828])\n",
    "plt.plot(train_results['Train Predictions'][4500:4828])\n"
   ]
  },
  {
   "cell_type": "code",
   "execution_count": 438,
   "id": "d7a19124",
   "metadata": {},
   "outputs": [
    {
     "data": {
      "text/html": [
       "<div>\n",
       "<style scoped>\n",
       "    .dataframe tbody tr th:only-of-type {\n",
       "        vertical-align: middle;\n",
       "    }\n",
       "\n",
       "    .dataframe tbody tr th {\n",
       "        vertical-align: top;\n",
       "    }\n",
       "\n",
       "    .dataframe thead th {\n",
       "        text-align: right;\n",
       "    }\n",
       "</style>\n",
       "<table border=\"1\" class=\"dataframe\">\n",
       "  <thead>\n",
       "    <tr style=\"text-align: right;\">\n",
       "      <th></th>\n",
       "      <th>Train Predictions</th>\n",
       "      <th>Actuals</th>\n",
       "    </tr>\n",
       "  </thead>\n",
       "  <tbody>\n",
       "    <tr>\n",
       "      <th>0</th>\n",
       "      <td>0.040709</td>\n",
       "      <td>0.074</td>\n",
       "    </tr>\n",
       "    <tr>\n",
       "      <th>1</th>\n",
       "      <td>0.037644</td>\n",
       "      <td>0.081</td>\n",
       "    </tr>\n",
       "    <tr>\n",
       "      <th>2</th>\n",
       "      <td>0.033094</td>\n",
       "      <td>0.063</td>\n",
       "    </tr>\n",
       "    <tr>\n",
       "      <th>3</th>\n",
       "      <td>0.027628</td>\n",
       "      <td>0.062</td>\n",
       "    </tr>\n",
       "    <tr>\n",
       "      <th>4</th>\n",
       "      <td>0.023010</td>\n",
       "      <td>0.071</td>\n",
       "    </tr>\n",
       "    <tr>\n",
       "      <th>...</th>\n",
       "      <td>...</td>\n",
       "      <td>...</td>\n",
       "    </tr>\n",
       "    <tr>\n",
       "      <th>115839</th>\n",
       "      <td>0.009842</td>\n",
       "      <td>0.009</td>\n",
       "    </tr>\n",
       "    <tr>\n",
       "      <th>115840</th>\n",
       "      <td>0.009596</td>\n",
       "      <td>0.006</td>\n",
       "    </tr>\n",
       "    <tr>\n",
       "      <th>115841</th>\n",
       "      <td>0.008864</td>\n",
       "      <td>0.008</td>\n",
       "    </tr>\n",
       "    <tr>\n",
       "      <th>115842</th>\n",
       "      <td>0.009810</td>\n",
       "      <td>0.008</td>\n",
       "    </tr>\n",
       "    <tr>\n",
       "      <th>115843</th>\n",
       "      <td>0.010925</td>\n",
       "      <td>0.008</td>\n",
       "    </tr>\n",
       "  </tbody>\n",
       "</table>\n",
       "<p>115844 rows × 2 columns</p>\n",
       "</div>"
      ],
      "text/plain": [
       "        Train Predictions  Actuals\n",
       "0                0.040709    0.074\n",
       "1                0.037644    0.081\n",
       "2                0.033094    0.063\n",
       "3                0.027628    0.062\n",
       "4                0.023010    0.071\n",
       "...                   ...      ...\n",
       "115839           0.009842    0.009\n",
       "115840           0.009596    0.006\n",
       "115841           0.008864    0.008\n",
       "115842           0.009810    0.008\n",
       "115843           0.010925    0.008\n",
       "\n",
       "[115844 rows x 2 columns]"
      ]
     },
     "execution_count": 438,
     "metadata": {},
     "output_type": "execute_result"
    }
   ],
   "source": [
    "train_results"
   ]
  },
  {
   "cell_type": "markdown",
   "id": "1140b5bc",
   "metadata": {},
   "source": [
    "### Deploy on unseen data\n"
   ]
  },
  {
   "cell_type": "code",
   "execution_count": 439,
   "id": "de3c0f35",
   "metadata": {
    "scrolled": true
   },
   "outputs": [
    {
     "name": "stdout",
     "output_type": "stream",
     "text": [
      "verifyX shape == (8689, 72, 10).\n",
      "verifyY shape == (8689, 1).\n"
     ]
    }
   ],
   "source": [
    "verifyX, verifyY = to_sequences(verifyDeployScaled, 72, klangapi.shape[1], 4)\n",
    "print('verifyX shape == {}.'.format(verifyX.shape))\n",
    "print('verifyY shape == {}.'.format(verifyY.shape))"
   ]
  },
  {
   "cell_type": "code",
   "execution_count": 440,
   "id": "c30df02f",
   "metadata": {
    "scrolled": true
   },
   "outputs": [],
   "source": [
    "prediction = model.predict(verifyX)\n",
    "\n",
    "prediction_copies = np.repeat(prediction, klangapi.shape[1], axis=-1)\n",
    "y_pred_future_test = scaler.inverse_transform(prediction_copies)[:,4]\n",
    "\n",
    "verificationYRepeat = np.repeat(verifyY, klangapi.shape[1], axis=-1)\n",
    "verificationYUnscaled = scaler.inverse_transform(verificationYRepeat)[:,4]"
   ]
  },
  {
   "cell_type": "code",
   "execution_count": 441,
   "id": "156de6bf",
   "metadata": {},
   "outputs": [
    {
     "name": "stdout",
     "output_type": "stream",
     "text": [
      "RMSE : 0.12689268350127828.\n",
      "MAE : 0.013839997456433936.\n",
      "MAPE : 6627970721379.904.\n"
     ]
    }
   ],
   "source": [
    "rmse, mae, mape = performance_measure(verificationYUnscaled,y_pred_future_test)\n",
    "print('RMSE : {}.'.format(rmse))\n",
    "print('MAE : {}.'.format(mae))\n",
    "print('MAPE : {}.'.format(mape))"
   ]
  },
  {
   "cell_type": "code",
   "execution_count": 442,
   "id": "4f66377d",
   "metadata": {
    "scrolled": true
   },
   "outputs": [
    {
     "data": {
      "text/html": [
       "<div>\n",
       "<style scoped>\n",
       "    .dataframe tbody tr th:only-of-type {\n",
       "        vertical-align: middle;\n",
       "    }\n",
       "\n",
       "    .dataframe tbody tr th {\n",
       "        vertical-align: top;\n",
       "    }\n",
       "\n",
       "    .dataframe thead th {\n",
       "        text-align: right;\n",
       "    }\n",
       "</style>\n",
       "<table border=\"1\" class=\"dataframe\">\n",
       "  <thead>\n",
       "    <tr style=\"text-align: right;\">\n",
       "      <th></th>\n",
       "      <th>Train Predictions</th>\n",
       "      <th>Actuals</th>\n",
       "    </tr>\n",
       "  </thead>\n",
       "  <tbody>\n",
       "    <tr>\n",
       "      <th>0</th>\n",
       "      <td>0.030528</td>\n",
       "      <td>0.0032</td>\n",
       "    </tr>\n",
       "    <tr>\n",
       "      <th>1</th>\n",
       "      <td>0.030020</td>\n",
       "      <td>0.0019</td>\n",
       "    </tr>\n",
       "    <tr>\n",
       "      <th>2</th>\n",
       "      <td>0.028783</td>\n",
       "      <td>0.0016</td>\n",
       "    </tr>\n",
       "    <tr>\n",
       "      <th>3</th>\n",
       "      <td>0.026688</td>\n",
       "      <td>0.0008</td>\n",
       "    </tr>\n",
       "    <tr>\n",
       "      <th>4</th>\n",
       "      <td>0.022992</td>\n",
       "      <td>0.0017</td>\n",
       "    </tr>\n",
       "    <tr>\n",
       "      <th>...</th>\n",
       "      <td>...</td>\n",
       "      <td>...</td>\n",
       "    </tr>\n",
       "    <tr>\n",
       "      <th>8684</th>\n",
       "      <td>0.014633</td>\n",
       "      <td>0.0009</td>\n",
       "    </tr>\n",
       "    <tr>\n",
       "      <th>8685</th>\n",
       "      <td>0.018668</td>\n",
       "      <td>0.0016</td>\n",
       "    </tr>\n",
       "    <tr>\n",
       "      <th>8686</th>\n",
       "      <td>0.022668</td>\n",
       "      <td>0.0017</td>\n",
       "    </tr>\n",
       "    <tr>\n",
       "      <th>8687</th>\n",
       "      <td>0.027385</td>\n",
       "      <td>0.0075</td>\n",
       "    </tr>\n",
       "    <tr>\n",
       "      <th>8688</th>\n",
       "      <td>0.031618</td>\n",
       "      <td>0.0143</td>\n",
       "    </tr>\n",
       "  </tbody>\n",
       "</table>\n",
       "<p>8689 rows × 2 columns</p>\n",
       "</div>"
      ],
      "text/plain": [
       "      Train Predictions  Actuals\n",
       "0              0.030528   0.0032\n",
       "1              0.030020   0.0019\n",
       "2              0.028783   0.0016\n",
       "3              0.026688   0.0008\n",
       "4              0.022992   0.0017\n",
       "...                 ...      ...\n",
       "8684           0.014633   0.0009\n",
       "8685           0.018668   0.0016\n",
       "8686           0.022668   0.0017\n",
       "8687           0.027385   0.0075\n",
       "8688           0.031618   0.0143\n",
       "\n",
       "[8689 rows x 2 columns]"
      ]
     },
     "execution_count": 442,
     "metadata": {},
     "output_type": "execute_result"
    }
   ],
   "source": [
    "test_results = pd.DataFrame(data={'Train Predictions':y_pred_future_test, 'Actuals':verificationYUnscaled})\n",
    "test_results"
   ]
  },
  {
   "cell_type": "code",
   "execution_count": 443,
   "id": "c06fbaf7",
   "metadata": {
    "scrolled": false
   },
   "outputs": [
    {
     "data": {
      "text/plain": [
       "[<matplotlib.lines.Line2D at 0x2b3bfb57df0>]"
      ]
     },
     "execution_count": 443,
     "metadata": {},
     "output_type": "execute_result"
    },
    {
     "data": {
      "image/png": "[encoded data removed]",
      "text/plain": [
       "<Figure size 432x288 with 1 Axes>"
      ]
     },
     "metadata": {
      "needs_background": "light"
     },
     "output_type": "display_data"
    }
   ],
   "source": [
    "plt.plot(test_results['Actuals'][300:500])\n",
    "plt.plot(test_results['Train Predictions'][300:500])\n"
   ]
  },
  {
   "cell_type": "code",
   "execution_count": null,
   "id": "b8f80422",
   "metadata": {},
   "outputs": [],
   "source": []
  },
  {
   "cell_type": "code",
   "execution_count": null,
   "id": "56104181",
   "metadata": {},
   "outputs": [],
   "source": []
  },
  {
   "cell_type": "code",
   "execution_count": null,
   "id": "f6f7063f",
   "metadata": {},
   "outputs": [],
   "source": []
  },
  {
   "cell_type": "code",
   "execution_count": null,
   "id": "6f91cba6",
   "metadata": {},
   "outputs": [],
   "source": []
  },
  {
   "cell_type": "code",
   "execution_count": null,
   "id": "3e84525f",
   "metadata": {},
   "outputs": [],
   "source": []
  },
  {
   "cell_type": "code",
   "execution_count": null,
   "id": "3d786cbe",
   "metadata": {},
   "outputs": [],
   "source": []
  },
  {
   "cell_type": "code",
   "execution_count": null,
   "id": "8458e54e",
   "metadata": {},
   "outputs": [],
   "source": []
  },
  {
   "cell_type": "code",
   "execution_count": null,
   "id": "7efe0cca",
   "metadata": {},
   "outputs": [],
   "source": []
  },
  {
   "cell_type": "code",
   "execution_count": null,
   "id": "ef450cd0",
   "metadata": {},
   "outputs": [],
   "source": []
  },
  {
   "cell_type": "code",
   "execution_count": null,
   "id": "19a7d3d1",
   "metadata": {},
   "outputs": [],
   "source": []
  },
  {
   "cell_type": "markdown",
   "id": "1456f8aa",
   "metadata": {},
   "source": [
    "# NOX Modelling : 4"
   ]
  },
  {
   "cell_type": "code",
   "execution_count": 444,
   "id": "20739821",
   "metadata": {},
   "outputs": [
    {
     "name": "stdout",
     "output_type": "stream",
     "text": [
      "trainX shape == (115913, 3, 10).\n",
      "trainY shape == (115913, 1).\n",
      "testX shape == (28959, 3, 10).\n",
      "testY shape == (28959, 1).\n"
     ]
    }
   ],
   "source": [
    "trainX, trainY = to_sequences(train, 3, klangapi.shape[1], 4)\n",
    "testX, testY = to_sequences(test, 3, klangapi.shape[1], 4)\n",
    "\n",
    "print('trainX shape == {}.'.format(trainX.shape))\n",
    "print('trainY shape == {}.'.format(trainY.shape))\n",
    "\n",
    "print('testX shape == {}.'.format(testX.shape))\n",
    "print('testY shape == {}.'.format(testY.shape))"
   ]
  },
  {
   "cell_type": "code",
   "execution_count": 445,
   "id": "908babc1",
   "metadata": {},
   "outputs": [
    {
     "data": {
      "text/plain": [
       "False"
      ]
     },
     "execution_count": 445,
     "metadata": {},
     "output_type": "execute_result"
    }
   ],
   "source": [
    "trainY[0][0] == trainTestScaled[3][4]"
   ]
  },
  {
   "cell_type": "code",
   "execution_count": 809,
   "id": "fdd9cc12",
   "metadata": {},
   "outputs": [
    {
     "name": "stdout",
     "output_type": "stream",
     "text": [
      "Model: \"sequential_43\"\n",
      "_________________________________________________________________\n",
      "Layer (type)                 Output Shape              Param #   \n",
      "=================================================================\n",
      "lstm_93 (LSTM)               (None, 3, 128)            71680     \n",
      "_________________________________________________________________\n",
      "lstm_94 (LSTM)               (None, 64)                49408     \n",
      "_________________________________________________________________\n",
      "dense_69 (Dense)             (None, 32)                2080      \n",
      "_________________________________________________________________\n",
      "dropout_37 (Dropout)         (None, 32)                0         \n",
      "_________________________________________________________________\n",
      "dense_70 (Dense)             (None, 1)                 33        \n",
      "=================================================================\n",
      "Total params: 123,201\n",
      "Trainable params: 123,201\n",
      "Non-trainable params: 0\n",
      "_________________________________________________________________\n"
     ]
    }
   ],
   "source": [
    "#trainX(number of rows, number of past days, number of features)\n",
    "#CO Modelling\n",
    "model=modelling(trainX.shape[1],trainX.shape[2]) \n",
    "model.summary()"
   ]
  },
  {
   "cell_type": "code",
   "execution_count": 810,
   "id": "290f41d5",
   "metadata": {},
   "outputs": [
    {
     "name": "stdout",
     "output_type": "stream",
     "text": [
      "Epoch 1/20\n",
      "604/604 [==============================] - 2s 3ms/step - loss: 0.0132 - val_loss: 0.0074\n",
      "Epoch 2/20\n",
      "604/604 [==============================] - 1s 2ms/step - loss: 0.0113 - val_loss: 0.0084\n",
      "Epoch 3/20\n",
      "604/604 [==============================] - 1s 2ms/step - loss: 0.0108 - val_loss: 0.0066\n",
      "Epoch 4/20\n",
      "604/604 [==============================] - 1s 2ms/step - loss: 0.0107 - val_loss: 0.0166\n",
      "Epoch 5/20\n",
      "604/604 [==============================] - 1s 2ms/step - loss: 0.0104 - val_loss: 0.0095\n",
      "Epoch 6/20\n",
      "604/604 [==============================] - 1s 2ms/step - loss: 0.0104 - val_loss: 0.0124\n",
      "Epoch 7/20\n",
      "604/604 [==============================] - 1s 2ms/step - loss: 0.0103 - val_loss: 0.0078\n",
      "Epoch 8/20\n",
      "604/604 [==============================] - 1s 2ms/step - loss: 0.0102 - val_loss: 0.0069\n",
      "Epoch 9/20\n",
      "604/604 [==============================] - 1s 2ms/step - loss: 0.0102 - val_loss: 0.0131\n",
      "Epoch 10/20\n",
      "604/604 [==============================] - 1s 2ms/step - loss: 0.0102 - val_loss: 0.0102\n",
      "Epoch 11/20\n",
      "604/604 [==============================] - 1s 2ms/step - loss: 0.0101 - val_loss: 0.0064\n",
      "Epoch 12/20\n",
      "604/604 [==============================] - 1s 2ms/step - loss: 0.0100 - val_loss: 0.0065\n",
      "Epoch 13/20\n",
      "604/604 [==============================] - 1s 2ms/step - loss: 0.0100 - val_loss: 0.0092\n",
      "Epoch 14/20\n",
      "604/604 [==============================] - 1s 2ms/step - loss: 0.0100 - val_loss: 0.0078\n",
      "Epoch 15/20\n",
      "604/604 [==============================] - 1s 2ms/step - loss: 0.0100 - val_loss: 0.0093\n",
      "Epoch 16/20\n",
      "604/604 [==============================] - 1s 2ms/step - loss: 0.0099 - val_loss: 0.0086\n",
      "Epoch 17/20\n",
      "604/604 [==============================] - 1s 2ms/step - loss: 0.0098 - val_loss: 0.0085\n",
      "Epoch 18/20\n",
      "604/604 [==============================] - 1s 2ms/step - loss: 0.0098 - val_loss: 0.0082\n",
      "Epoch 19/20\n",
      "604/604 [==============================] - 1s 2ms/step - loss: 0.0098 - val_loss: 0.0085\n",
      "Epoch 20/20\n",
      "604/604 [==============================] - 1s 2ms/step - loss: 0.0098 - val_loss: 0.0080\n"
     ]
    }
   ],
   "source": [
    "history = model.fit(trainX, trainY, epochs=20, batch_size=8, validation_data=(testX,testY), verbose=1)"
   ]
  },
  {
   "cell_type": "code",
   "execution_count": 811,
   "id": "981cb4c9",
   "metadata": {},
   "outputs": [
    {
     "data": {
      "text/plain": [
       "<matplotlib.legend.Legend at 0x29803f02af0>"
      ]
     },
     "execution_count": 811,
     "metadata": {},
     "output_type": "execute_result"
    },
    {
     "data": {
      "image/png": "[encoded data removed]",
      "text/plain": [
       "<Figure size 432x288 with 1 Axes>"
      ]
     },
     "metadata": {
      "needs_background": "light"
     },
     "output_type": "display_data"
    }
   ],
   "source": [
    "plt.plot(history.history['loss'], label='Training loss')\n",
    "plt.plot(history.history['val_loss'], label='Validation loss')\n",
    "plt.legend()"
   ]
  },
  {
   "cell_type": "code",
   "execution_count": 812,
   "id": "e9762844",
   "metadata": {},
   "outputs": [],
   "source": [
    "prediction = model.predict(trainX)"
   ]
  },
  {
   "cell_type": "code",
   "execution_count": 813,
   "id": "16735b44",
   "metadata": {},
   "outputs": [
    {
     "data": {
      "text/plain": [
       "(4828,)"
      ]
     },
     "execution_count": 813,
     "metadata": {},
     "output_type": "execute_result"
    }
   ],
   "source": [
    "prediction_copies = np.repeat(prediction, klangapi.shape[1], axis=-1)\n",
    "y_pred_future = scaler.inverse_transform(prediction_copies)[:,4]\n",
    "y_pred_future.shape"
   ]
  },
  {
   "cell_type": "code",
   "execution_count": 814,
   "id": "a2851ccd",
   "metadata": {},
   "outputs": [
    {
     "data": {
      "text/plain": [
       "(4828,)"
      ]
     },
     "execution_count": 814,
     "metadata": {},
     "output_type": "execute_result"
    }
   ],
   "source": [
    "actualY = np.repeat(trainY, klangapi.shape[1], axis=-1)\n",
    "actualY = scaler.inverse_transform(actualY)[:,4]\n",
    "actualY.shape"
   ]
  },
  {
   "cell_type": "code",
   "execution_count": 815,
   "id": "2db329be",
   "metadata": {},
   "outputs": [
    {
     "name": "stdout",
     "output_type": "stream",
     "text": [
      "RMSE : 0.10875208988576765.\n",
      "MAE : 0.009238024539310198.\n",
      "MAPE : 27.41612345088797.\n"
     ]
    }
   ],
   "source": [
    "rmse, mae, mape = performance_measure(actualY,y_pred_future)\n",
    "print('RMSE : {}.'.format(rmse))\n",
    "print('MAE : {}.'.format(mae))\n",
    "print('MAPE : {}.'.format(mape))"
   ]
  },
  {
   "cell_type": "code",
   "execution_count": 816,
   "id": "e0b7080b",
   "metadata": {},
   "outputs": [
    {
     "data": {
      "text/plain": [
       "[<matplotlib.lines.Line2D at 0x2987a169580>]"
      ]
     },
     "execution_count": 816,
     "metadata": {},
     "output_type": "execute_result"
    },
    {
     "data": {
      "image/png": "[encoded data removed]",
      "text/plain": [
       "<Figure size 432x288 with 1 Axes>"
      ]
     },
     "metadata": {
      "needs_background": "light"
     },
     "output_type": "display_data"
    }
   ],
   "source": [
    "train_results = pd.DataFrame(data={'Train Predictions':y_pred_future, 'Actuals':actualY})\n",
    "plt.plot(train_results['Train Predictions'][4500:4828])\n",
    "plt.plot(train_results['Actuals'][4500:4828])"
   ]
  },
  {
   "cell_type": "code",
   "execution_count": 817,
   "id": "d0809146",
   "metadata": {
    "scrolled": true
   },
   "outputs": [
    {
     "data": {
      "text/html": [
       "<div>\n",
       "<style scoped>\n",
       "    .dataframe tbody tr th:only-of-type {\n",
       "        vertical-align: middle;\n",
       "    }\n",
       "\n",
       "    .dataframe tbody tr th {\n",
       "        vertical-align: top;\n",
       "    }\n",
       "\n",
       "    .dataframe thead th {\n",
       "        text-align: right;\n",
       "    }\n",
       "</style>\n",
       "<table border=\"1\" class=\"dataframe\">\n",
       "  <thead>\n",
       "    <tr style=\"text-align: right;\">\n",
       "      <th></th>\n",
       "      <th>Train Predictions</th>\n",
       "      <th>Actuals</th>\n",
       "    </tr>\n",
       "  </thead>\n",
       "  <tbody>\n",
       "    <tr>\n",
       "      <th>0</th>\n",
       "      <td>0.054375</td>\n",
       "      <td>0.0871</td>\n",
       "    </tr>\n",
       "    <tr>\n",
       "      <th>1</th>\n",
       "      <td>0.060227</td>\n",
       "      <td>0.0539</td>\n",
       "    </tr>\n",
       "    <tr>\n",
       "      <th>2</th>\n",
       "      <td>0.040846</td>\n",
       "      <td>0.0471</td>\n",
       "    </tr>\n",
       "    <tr>\n",
       "      <th>3</th>\n",
       "      <td>0.051442</td>\n",
       "      <td>0.0737</td>\n",
       "    </tr>\n",
       "    <tr>\n",
       "      <th>4</th>\n",
       "      <td>0.056502</td>\n",
       "      <td>0.0258</td>\n",
       "    </tr>\n",
       "    <tr>\n",
       "      <th>...</th>\n",
       "      <td>...</td>\n",
       "      <td>...</td>\n",
       "    </tr>\n",
       "    <tr>\n",
       "      <th>4823</th>\n",
       "      <td>0.040809</td>\n",
       "      <td>0.0450</td>\n",
       "    </tr>\n",
       "    <tr>\n",
       "      <th>4824</th>\n",
       "      <td>0.042433</td>\n",
       "      <td>0.0295</td>\n",
       "    </tr>\n",
       "    <tr>\n",
       "      <th>4825</th>\n",
       "      <td>0.033219</td>\n",
       "      <td>0.0235</td>\n",
       "    </tr>\n",
       "    <tr>\n",
       "      <th>4826</th>\n",
       "      <td>0.033165</td>\n",
       "      <td>0.0357</td>\n",
       "    </tr>\n",
       "    <tr>\n",
       "      <th>4827</th>\n",
       "      <td>0.032959</td>\n",
       "      <td>0.0333</td>\n",
       "    </tr>\n",
       "  </tbody>\n",
       "</table>\n",
       "<p>4828 rows × 2 columns</p>\n",
       "</div>"
      ],
      "text/plain": [
       "      Train Predictions  Actuals\n",
       "0              0.054375   0.0871\n",
       "1              0.060227   0.0539\n",
       "2              0.040846   0.0471\n",
       "3              0.051442   0.0737\n",
       "4              0.056502   0.0258\n",
       "...                 ...      ...\n",
       "4823           0.040809   0.0450\n",
       "4824           0.042433   0.0295\n",
       "4825           0.033219   0.0235\n",
       "4826           0.033165   0.0357\n",
       "4827           0.032959   0.0333\n",
       "\n",
       "[4828 rows x 2 columns]"
      ]
     },
     "execution_count": 817,
     "metadata": {},
     "output_type": "execute_result"
    }
   ],
   "source": [
    "train_results"
   ]
  },
  {
   "cell_type": "markdown",
   "id": "e3b18b39",
   "metadata": {},
   "source": [
    "### Deploy on unseen data\n"
   ]
  },
  {
   "cell_type": "code",
   "execution_count": 818,
   "id": "f2552f6f",
   "metadata": {
    "scrolled": true
   },
   "outputs": [
    {
     "name": "stdout",
     "output_type": "stream",
     "text": [
      "verifyX shape == (363, 3, 11).\n",
      "verifyY shape == (363, 1).\n"
     ]
    }
   ],
   "source": [
    "verifyX, verifyY = to_sequences(verifyDeployScaled, 3, klangapi.shape[1], 4)\n",
    "print('verifyX shape == {}.'.format(verifyX.shape))\n",
    "print('verifyY shape == {}.'.format(verifyY.shape))"
   ]
  },
  {
   "cell_type": "code",
   "execution_count": 819,
   "id": "3ac5dd3f",
   "metadata": {
    "scrolled": true
   },
   "outputs": [],
   "source": [
    "prediction = model.predict(verifyX)\n",
    "\n",
    "prediction_copies = np.repeat(prediction, klangapi.shape[1], axis=-1)\n",
    "y_pred_future_test = scaler.inverse_transform(prediction_copies)[:,4]\n",
    "\n",
    "verificationYRepeat = np.repeat(verifyY, klangapi.shape[1], axis=-1)\n",
    "verificationYUnscaled = scaler.inverse_transform(verificationYRepeat)[:,4]"
   ]
  },
  {
   "cell_type": "code",
   "execution_count": 820,
   "id": "f1b5eaad",
   "metadata": {},
   "outputs": [
    {
     "name": "stdout",
     "output_type": "stream",
     "text": [
      "RMSE : 0.11382817664430794.\n",
      "MAE : 0.011521334007751842.\n",
      "MAPE : 66.49709193013847.\n"
     ]
    }
   ],
   "source": [
    "rmse, mae, mape = performance_measure(verificationYUnscaled,y_pred_future_test)\n",
    "print('RMSE : {}.'.format(rmse))\n",
    "print('MAE : {}.'.format(mae))\n",
    "print('MAPE : {}.'.format(mape))"
   ]
  },
  {
   "cell_type": "code",
   "execution_count": 821,
   "id": "ea8952cd",
   "metadata": {
    "scrolled": true
   },
   "outputs": [
    {
     "data": {
      "text/html": [
       "<div>\n",
       "<style scoped>\n",
       "    .dataframe tbody tr th:only-of-type {\n",
       "        vertical-align: middle;\n",
       "    }\n",
       "\n",
       "    .dataframe tbody tr th {\n",
       "        vertical-align: top;\n",
       "    }\n",
       "\n",
       "    .dataframe thead th {\n",
       "        text-align: right;\n",
       "    }\n",
       "</style>\n",
       "<table border=\"1\" class=\"dataframe\">\n",
       "  <thead>\n",
       "    <tr style=\"text-align: right;\">\n",
       "      <th></th>\n",
       "      <th>Train Predictions</th>\n",
       "      <th>Actuals</th>\n",
       "    </tr>\n",
       "  </thead>\n",
       "  <tbody>\n",
       "    <tr>\n",
       "      <th>0</th>\n",
       "      <td>0.041384</td>\n",
       "      <td>0.0245</td>\n",
       "    </tr>\n",
       "    <tr>\n",
       "      <th>1</th>\n",
       "      <td>0.034832</td>\n",
       "      <td>0.0220</td>\n",
       "    </tr>\n",
       "    <tr>\n",
       "      <th>2</th>\n",
       "      <td>0.032534</td>\n",
       "      <td>0.0241</td>\n",
       "    </tr>\n",
       "    <tr>\n",
       "      <th>3</th>\n",
       "      <td>0.033611</td>\n",
       "      <td>0.0313</td>\n",
       "    </tr>\n",
       "    <tr>\n",
       "      <th>4</th>\n",
       "      <td>0.036143</td>\n",
       "      <td>0.0271</td>\n",
       "    </tr>\n",
       "    <tr>\n",
       "      <th>...</th>\n",
       "      <td>...</td>\n",
       "      <td>...</td>\n",
       "    </tr>\n",
       "    <tr>\n",
       "      <th>358</th>\n",
       "      <td>0.035448</td>\n",
       "      <td>0.0158</td>\n",
       "    </tr>\n",
       "    <tr>\n",
       "      <th>359</th>\n",
       "      <td>0.034447</td>\n",
       "      <td>0.0281</td>\n",
       "    </tr>\n",
       "    <tr>\n",
       "      <th>360</th>\n",
       "      <td>0.038519</td>\n",
       "      <td>0.0247</td>\n",
       "    </tr>\n",
       "    <tr>\n",
       "      <th>361</th>\n",
       "      <td>0.038709</td>\n",
       "      <td>0.0354</td>\n",
       "    </tr>\n",
       "    <tr>\n",
       "      <th>362</th>\n",
       "      <td>0.043164</td>\n",
       "      <td>0.0340</td>\n",
       "    </tr>\n",
       "  </tbody>\n",
       "</table>\n",
       "<p>363 rows × 2 columns</p>\n",
       "</div>"
      ],
      "text/plain": [
       "     Train Predictions  Actuals\n",
       "0             0.041384   0.0245\n",
       "1             0.034832   0.0220\n",
       "2             0.032534   0.0241\n",
       "3             0.033611   0.0313\n",
       "4             0.036143   0.0271\n",
       "..                 ...      ...\n",
       "358           0.035448   0.0158\n",
       "359           0.034447   0.0281\n",
       "360           0.038519   0.0247\n",
       "361           0.038709   0.0354\n",
       "362           0.043164   0.0340\n",
       "\n",
       "[363 rows x 2 columns]"
      ]
     },
     "execution_count": 821,
     "metadata": {},
     "output_type": "execute_result"
    }
   ],
   "source": [
    "test_results = pd.DataFrame(data={'Train Predictions':y_pred_future_test, 'Actuals':verificationYUnscaled})\n",
    "test_results"
   ]
  },
  {
   "cell_type": "code",
   "execution_count": 822,
   "id": "52dee336",
   "metadata": {
    "scrolled": false
   },
   "outputs": [
    {
     "data": {
      "text/plain": [
       "[<matplotlib.lines.Line2D at 0x2986f608550>]"
      ]
     },
     "execution_count": 822,
     "metadata": {},
     "output_type": "execute_result"
    },
    {
     "data": {
      "image/png": "[encoded data removed]",
      "text/plain": [
       "<Figure size 432x288 with 1 Axes>"
      ]
     },
     "metadata": {
      "needs_background": "light"
     },
     "output_type": "display_data"
    }
   ],
   "source": [
    "plt.plot(test_results['Train Predictions'][300:])\n",
    "plt.plot(test_results['Actuals'][300:])"
   ]
  },
  {
   "cell_type": "code",
   "execution_count": null,
   "id": "20142a22",
   "metadata": {},
   "outputs": [],
   "source": [
    "#no2 so2\n",
    "#train data mape 20-30\n",
    "#data 2020 mape 40>"
   ]
  },
  {
   "cell_type": "code",
   "execution_count": null,
   "id": "b7907846",
   "metadata": {},
   "outputs": [],
   "source": [
    "#hourly data\n",
    "#data 2019-2020 removed\n",
    "#training march 2017\n",
    "#verify 2018\n",
    "#1,2,3"
   ]
  },
  {
   "cell_type": "code",
   "execution_count": null,
   "id": "c85bc809",
   "metadata": {},
   "outputs": [],
   "source": []
  },
  {
   "cell_type": "code",
   "execution_count": null,
   "id": "63e404c6",
   "metadata": {},
   "outputs": [],
   "source": []
  },
  {
   "cell_type": "code",
   "execution_count": null,
   "id": "9f798c4c",
   "metadata": {},
   "outputs": [],
   "source": []
  },
  {
   "cell_type": "code",
   "execution_count": null,
   "id": "d350e190",
   "metadata": {},
   "outputs": [],
   "source": []
  },
  {
   "cell_type": "code",
   "execution_count": null,
   "id": "9003dfb4",
   "metadata": {},
   "outputs": [],
   "source": []
  },
  {
   "cell_type": "code",
   "execution_count": null,
   "id": "4a12a996",
   "metadata": {},
   "outputs": [],
   "source": []
  },
  {
   "cell_type": "code",
   "execution_count": null,
   "id": "c8934823",
   "metadata": {},
   "outputs": [],
   "source": []
  },
  {
   "cell_type": "code",
   "execution_count": null,
   "id": "bf7ef688",
   "metadata": {},
   "outputs": [],
   "source": []
  },
  {
   "cell_type": "code",
   "execution_count": null,
   "id": "f4f9cc33",
   "metadata": {},
   "outputs": [],
   "source": []
  },
  {
   "cell_type": "code",
   "execution_count": null,
   "id": "7834d49d",
   "metadata": {},
   "outputs": [],
   "source": []
  },
  {
   "cell_type": "code",
   "execution_count": null,
   "id": "890f76aa",
   "metadata": {},
   "outputs": [],
   "source": []
  },
  {
   "cell_type": "code",
   "execution_count": null,
   "id": "222a5a7c",
   "metadata": {},
   "outputs": [],
   "source": []
  }
 ],
 "metadata": {
  "kernelspec": {
   "display_name": "Python 3 (ipykernel)",
   "language": "python",
   "name": "python3"
  },
  "language_info": {
   "codemirror_mode": {
    "name": "ipython",
    "version": 3
   },
   "file_extension": ".py",
   "mimetype": "text/x-python",
   "name": "python",
   "nbconvert_exporter": "python",
   "pygments_lexer": "ipython3",
   "version": "3.8.8"
  }
 },
 "nbformat": 4,
 "nbformat_minor": 5
}
